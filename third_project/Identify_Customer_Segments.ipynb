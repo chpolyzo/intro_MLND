{
 "cells": [
  {
   "cell_type": "markdown",
   "metadata": {},
   "source": [
    "# Project: Identify Customer Segments\n",
    "\n",
    "In this project, you will apply unsupervised learning techniques to identify segments of the population that form the core customer base for a mail-order sales company in Germany. These segments can then be used to direct marketing campaigns towards audiences that will have the highest expected rate of returns. The data that you will use has been provided by our partners at Bertelsmann Arvato Analytics, and represents a real-life data science task.\n",
    "\n",
    "This notebook will help you complete this task by providing a framework within which you will perform your analysis steps. In each step of the project, you will see some text describing the subtask that you will perform, followed by one or more code cells for you to complete your work. **Feel free to add additional code and markdown cells as you go along so that you can explore everything in precise chunks.** The code cells provided in the base template will outline only the major tasks, and will usually not be enough to cover all of the minor tasks that comprise it.\n",
    "\n",
    "It should be noted that while there will be precise guidelines on how you should handle certain tasks in the project, there will also be places where an exact specification is not provided. **There will be times in the project where you will need to make and justify your own decisions on how to treat the data.** These are places where there may not be only one way to handle the data. In real-life tasks, there may be many valid ways to approach an analysis task. One of the most important things you can do is clearly document your approach so that other scientists can understand the decisions you've made.\n",
    "\n",
    "At the end of most sections, there will be a Markdown cell labeled **Discussion**. In these cells, you will report your findings for the completed section, as well as document the decisions that you made in your approach to each subtask. **Your project will be evaluated not just on the code used to complete the tasks outlined, but also your communication about your observations and conclusions at each stage.**"
   ]
  },
  {
   "cell_type": "code",
   "execution_count": 1,
   "metadata": {},
   "outputs": [
    {
     "data": {
      "text/plain": [
       "'\\nImport note: The classroom currently uses sklearn version 0.19.\\nIf you need to use an imputer, it is available in sklearn.preprocessing.Imputer,\\ninstead of sklearn.impute as in newer versions of sklearn.\\n'"
      ]
     },
     "execution_count": 1,
     "metadata": {},
     "output_type": "execute_result"
    }
   ],
   "source": [
    "# import libraries here; add more as necessary\n",
    "import numpy as np\n",
    "import pandas as pd\n",
    "import matplotlib.pyplot as plt\n",
    "import seaborn as sns\n",
    "import dask.dataframe as dd\n",
    "import time\n",
    "\n",
    "# magic word for producing visualizations in notebook\n",
    "%matplotlib inline\n",
    "\n",
    "'''\n",
    "Import note: The classroom currently uses sklearn version 0.19.\n",
    "If you need to use an imputer, it is available in sklearn.preprocessing.Imputer,\n",
    "instead of sklearn.impute as in newer versions of sklearn.\n",
    "'''"
   ]
  },
  {
   "cell_type": "markdown",
   "metadata": {},
   "source": [
    "### Step 0: Load the Data\n",
    "\n",
    "There are four files associated with this project (not including this one):\n",
    "\n",
    "- `Udacity_AZDIAS_Subset.csv`: Demographics data for the general population of Germany; 891211 persons (rows) x 85 features (columns).\n",
    "- `Udacity_CUSTOMERS_Subset.csv`: Demographics data for customers of a mail-order company; 191652 persons (rows) x 85 features (columns).\n",
    "- `Data_Dictionary.md`: Detailed information file about the features in the provided datasets.\n",
    "- `AZDIAS_Feature_Summary.csv`: Summary of feature attributes for demographics data; 85 features (rows) x 4 columns\n",
    "\n",
    "Each row of the demographics files represents a single person, but also includes information outside of individuals, including information about their household, building, and neighborhood. You will use this information to cluster the general population into groups with similar demographic properties. Then, you will see how the people in the customers dataset fit into those created clusters. The hope here is that certain clusters are over-represented in the customers data, as compared to the general population; those over-represented clusters will be assumed to be part of the core userbase. This information can then be used for further applications, such as targeting for a marketing campaign.\n",
    "\n",
    "To start off with, load in the demographics data for the general population into a pandas DataFrame, and do the same for the feature attributes summary. Note for all of the `.csv` data files in this project: they're semicolon (`;`) delimited, so you'll need an additional argument in your [`read_csv()`](https://pandas.pydata.org/pandas-docs/stable/generated/pandas.read_csv.html) call to read in the data properly. Also, considering the size of the main dataset, it may take some time for it to load completely.\n",
    "\n",
    "Once the dataset is loaded, it's recommended that you take a little bit of time just browsing the general structure of the dataset and feature summary file. You'll be getting deep into the innards of the cleaning in the first major step of the project, so gaining some general familiarity can help you get your bearings."
   ]
  },
  {
   "cell_type": "code",
   "execution_count": 2,
   "metadata": {},
   "outputs": [
    {
     "name": "stdout",
     "output_type": "stream",
     "text": [
      "Pandas Loading Time = 10.546288013458252\n"
     ]
    }
   ],
   "source": [
    "#load only some rows of the dataset to see how data is in our files = time.time()\n",
    "s = time.time()\n",
    "azdias = pd.read_csv('Udacity_AZDIAS_Subset.csv', sep = ';')\n",
    "e = time.time()\n",
    "print(\"Pandas Loading Time = {}\".format(e-s))\n",
    "#customers = pd.read_csv('Udacity_CUSTOMERS_Subset.csv', sep = ';') #, nrows = 5)\n",
    "# Load in the feature summary file.\n",
    "feat_info = pd.read_csv('AZDIAS_Feature_Summary.csv',  sep = ';')"
   ]
  },
  {
   "cell_type": "code",
   "execution_count": 3,
   "metadata": {},
   "outputs": [],
   "source": [
    "#create a dictionary of feature datatypes\n",
    "feat_dtype = {d['attribute']:d['type'] for d in feat_info.iloc[:, [0,2]].to_dict(orient='records')};"
   ]
  },
  {
   "cell_type": "code",
   "execution_count": 4,
   "metadata": {},
   "outputs": [
    {
     "name": "stdout",
     "output_type": "stream",
     "text": [
      "Dask Loading Time = 0.07595682144165039\n"
     ]
    }
   ],
   "source": [
    "#import with Dask\n",
    "s = time.time()\n",
    "azdias_dd = dd.read_csv('Udacity_AZDIAS_Subset.csv', sep = ';')\n",
    "e = time.time()\n",
    "print(\"Dask Loading Time = {}\".format(e-s))"
   ]
  },
  {
   "cell_type": "code",
   "execution_count": 5,
   "metadata": {},
   "outputs": [
    {
     "data": {
      "text/plain": [
       "(891221, 85)"
      ]
     },
     "execution_count": 5,
     "metadata": {},
     "output_type": "execute_result"
    }
   ],
   "source": [
    "# Check the structure of the data after it's loaded (e.g. print the number of\n",
    "# rows and columns, print the first few rows).\n",
    "azdias.shape"
   ]
  },
  {
   "cell_type": "markdown",
   "metadata": {},
   "source": [
    "> **Tip**: Add additional cells to keep everything in reasonably-sized chunks! Keyboard shortcut `esc --> a` (press escape to enter command mode, then press the 'A' key) adds a new cell before the active cell, and `esc --> b` adds a new cell after the active cell. If you need to convert an active cell to a markdown cell, use `esc --> m` and to convert to a code cell, use `esc --> y`. \n",
    "\n",
    "## Step 1: Preprocessing\n",
    "\n",
    "### Step 1.1: Assess Missing Data\n",
    "\n",
    "The feature summary file contains a summary of properties for each demographics data column. You will use this file to help you make cleaning decisions during this stage of the project. First of all, you should assess the demographics data in terms of missing data. Pay attention to the following points as you perform your analysis, and take notes on what you observe. Make sure that you fill in the **Discussion** cell with your findings and decisions at the end of each step that has one!\n",
    "\n",
    "#### Step 1.1.1: Convert Missing Value Codes to NaNs\n",
    "The fourth column of the feature attributes summary (loaded in above as `feat_info`) documents the codes from the data dictionary that indicate missing or unknown data. While the file encodes this as a list (e.g. `[-1,0]`), this will get read in as a string object. You'll need to do a little bit of parsing to make use of it to identify and clean the data. Convert data that matches a 'missing' or 'unknown' value code into a numpy NaN value. You might want to see how much data takes on a 'missing' or 'unknown' code, and how much data is naturally missing, as a point of interest.\n",
    "\n",
    "**As one more reminder, you are encouraged to add additional cells to break up your analysis into manageable chunks.**"
   ]
  },
  {
   "cell_type": "code",
   "execution_count": 6,
   "metadata": {},
   "outputs": [],
   "source": [
    "#We will be working on a copy of our original dataframe for security reasons\n",
    "az = azdias.copy()"
   ]
  },
  {
   "cell_type": "code",
   "execution_count": 7,
   "metadata": {},
   "outputs": [
    {
     "data": {
      "text/plain": [
       "Index(['attribute', 'information_level', 'type', 'missing_or_unknown'], dtype='object')"
      ]
     },
     "execution_count": 7,
     "metadata": {},
     "output_type": "execute_result"
    }
   ],
   "source": [
    "feat_info.columns"
   ]
  },
  {
   "cell_type": "code",
   "execution_count": 8,
   "metadata": {},
   "outputs": [
    {
     "name": "stdout",
     "output_type": "stream",
     "text": [
      "Columns with [-1,0] as Nans: (0, 2, 14, 21, 22, 40, 46, 48, 49, 52, 64, 65, 70, 73, 79, 83)\n",
      "Columns with [-1,0,9] as Nans: (1,)\n",
      "Columns with [0] as Nans: (3, 11, 15, 16, 17, 18, 19, 20, 23, 43, 50, 54)\n",
      "Columns with [-1] as Nans: (4, 5, 6, 7, 8, 9, 10, 38, 39, 41, 47, 55, 56, 60, 61, 62, 63, 66, 67, 68, 75, 76, 77, 78, 80, 81)\n",
      "Columns with [] as Nans: (12, 13, 44, 45, 51, 53, 69, 71, 72, 74)\n",
      "Columns with [-1,9] as Nans: (24, 25, 26, 27, 28, 29, 30, 31, 32, 33, 34, 35, 36, 37, 42, 82, 84)\n",
      "Columns with [-1,X] as Nans: (57,)\n",
      "Columns with [XX] as Nans: (58,)\n",
      "Columns with [-1,XX] as Nans: (59,)\n"
     ]
    }
   ],
   "source": [
    "#check column index to be treated differently with NaN's\n",
    "for i in list(feat_info.missing_or_unknown.unique()):\n",
    "    print('Columns with {} as Nans: {}'.format(i, tuple(feat_info[feat_info.missing_or_unknown == i].index)))"
   ]
  },
  {
   "cell_type": "code",
   "execution_count": 9,
   "metadata": {},
   "outputs": [
    {
     "data": {
      "text/plain": [
       "array(['[-1,0]', '[-1,0,9]', '[0]', '[-1]', '[]', '[-1,9]', '[-1,X]',\n",
       "       '[XX]', '[-1,XX]'], dtype=object)"
      ]
     },
     "execution_count": 9,
     "metadata": {},
     "output_type": "execute_result"
    }
   ],
   "source": [
    "#check different values of missing categories from feat_info \n",
    "feat_info.missing_or_unknown.unique()"
   ]
  },
  {
   "cell_type": "markdown",
   "metadata": {},
   "source": [
    "As we can observe at the `Data_Dictionary.md` file these are all possible Nan values, including the ones we have had initialy\n",
    " `'[-1,0]', '[-1,0,9]', '[0]', '[-1]', '[]', '[-1,9]', '[-1,X]','[XX]', '[-1,XX]'`. We will create a function to elaborate those."
   ]
  },
  {
   "cell_type": "code",
   "execution_count": 10,
   "metadata": {},
   "outputs": [],
   "source": [
    "# Identify missing or unknown data values and convert them to NaNs. \n",
    "def replace_nans(df):\n",
    "    ''' This is a function that replaces empty values with np.nan values in a DataFrame'''\n",
    "    for col in feat_info[feat_info.missing_or_unknown == '[-1,0]'].attribute:\n",
    "        df[col] = df[col].astype('str').replace('-1', np.nan).replace('0', np.nan)\n",
    "        print('Replaced [-1,0] values in {} column'.format(col))\n",
    "    for col in feat_info[feat_info.missing_or_unknown == '[-1,0,9]'].attribute:\n",
    "        df[col] = df[col].astype('str').replace('-1', np.nan).replace('0', np.nan).replace('9', np.nan)\n",
    "        print('Replaced [-1,0,9] values in {} column'.format(col))\n",
    "    for col in feat_info[feat_info.missing_or_unknown == '[0]'].attribute:\n",
    "        df[col] = df[col].astype('str').replace('0', np.nan)\n",
    "        print('Replaced [0] values in {} column'.format(col))\n",
    "    for col in feat_info[feat_info.missing_or_unknown == '[-1]'].attribute:\n",
    "        df[col] = df[col].astype('str').replace('-1', np.nan)\n",
    "        print('Replaced [-1] values in {} column'.format(col))\n",
    "    for col in feat_info[feat_info.missing_or_unknown == '[]'].attribute:\n",
    "        df[col] = df[col].astype('str').replace(r'^\\s*$', np.nan, regex=True)\n",
    "        print('Replaced [] values in {} column'.format(col))\n",
    "    for col in feat_info[feat_info.missing_or_unknown == '[-1,9]'].attribute:\n",
    "        df[col] = df[col].astype('str').replace('-1', np.nan).replace('9', np.nan)\n",
    "        print('Replaced [-1,9] values in {} column'.format(col))\n",
    "    for col in feat_info[feat_info.missing_or_unknown == '[-1,X]'].attribute:\n",
    "        df[col] = df[col].astype('str').replace('-1', np.nan).replace('X', np.nan)\n",
    "        print('Replaced [-1,X] values in {} column'.format(col))\n",
    "    for col in feat_info[feat_info.missing_or_unknown == '[XX]'].attribute:\n",
    "        df[col] = df[col].astype('str').replace('XX', np.nan)\n",
    "        print('Replaced [XX] values in {} column'.format(col))\n",
    "    for col in feat_info[feat_info.missing_or_unknown == '[-1,XX]'].attribute:\n",
    "        df[col] = df[col].astype('str').replace('-1,XX', np.nan)\n",
    "        print('Replaced [-1,XX] values in {} column'.format(col))\n",
    "    \n",
    "    \n",
    "    #when we convert numeric variables to strings np.nan values are converted to the string 'nan'\n",
    "    #with this loop we homogenize all nan values\n",
    "    for df_col in df.columns:\n",
    "        df[df_col] = df[df_col].astype('str').replace('nan',\\\n",
    "                                                      np.nan).replace('NaN', np.nan).replace(r'^\\s*$', np.nan, regex=True)\n",
    "    print('Replacing {}, {} or {} strings'.format('nan', 'NaN', 'empty spaces'))\n",
    "    \n",
    "    return df"
   ]
  },
  {
   "cell_type": "code",
   "execution_count": 11,
   "metadata": {},
   "outputs": [
    {
     "name": "stdout",
     "output_type": "stream",
     "text": [
      "Replaced [-1,0] values in AGER_TYP column\n",
      "Replaced [-1,0] values in ANREDE_KZ column\n",
      "Replaced [-1,0] values in HEALTH_TYP column\n",
      "Replaced [-1,0] values in NATIONALITAET_KZ column\n",
      "Replaced [-1,0] values in PRAEGENDE_JUGENDJAHRE column\n",
      "Replaced [-1,0] values in TITEL_KZ column\n",
      "Replaced [-1,0] values in HH_EINKOMMEN_SCORE column\n",
      "Replaced [-1,0] values in W_KEIT_KIND_HH column\n",
      "Replaced [-1,0] values in WOHNDAUER_2008 column\n",
      "Replaced [-1,0] values in GEBAEUDETYP column\n",
      "Replaced [-1,0] values in KBA05_BAUMAX column\n",
      "Replaced [-1,0] values in KBA05_GBZ column\n",
      "Replaced [-1,0] values in KKK column\n",
      "Replaced [-1,0] values in REGIOTYP column\n",
      "Replaced [-1,0] values in PLZ8_BAUMAX column\n",
      "Replaced [-1,0] values in ORTSGR_KLS9 column\n",
      "Replaced [-1,0,9] values in ALTERSKATEGORIE_GROB column\n",
      "Replaced [0] values in CJT_GESAMTTYP column\n",
      "Replaced [0] values in GEBURTSJAHR column\n",
      "Replaced [0] values in LP_LEBENSPHASE_FEIN column\n",
      "Replaced [0] values in LP_LEBENSPHASE_GROB column\n",
      "Replaced [0] values in LP_FAMILIE_FEIN column\n",
      "Replaced [0] values in LP_FAMILIE_GROB column\n",
      "Replaced [0] values in LP_STATUS_FEIN column\n",
      "Replaced [0] values in LP_STATUS_GROB column\n",
      "Replaced [0] values in RETOURTYP_BK_S column\n",
      "Replaced [0] values in ALTER_HH column\n",
      "Replaced [0] values in ANZ_HAUSHALTE_AKTIV column\n",
      "Replaced [0] values in MIN_GEBAEUDEJAHR column\n",
      "Replaced [-1] values in FINANZ_MINIMALIST column\n",
      "Replaced [-1] values in FINANZ_SPARER column\n",
      "Replaced [-1] values in FINANZ_VORSORGER column\n",
      "Replaced [-1] values in FINANZ_ANLEGER column\n",
      "Replaced [-1] values in FINANZ_UNAUFFAELLIGER column\n",
      "Replaced [-1] values in FINANZ_HAUSBAUER column\n",
      "Replaced [-1] values in FINANZTYP column\n",
      "Replaced [-1] values in SHOPPER_TYP column\n",
      "Replaced [-1] values in SOHO_KZ column\n",
      "Replaced [-1] values in VERS_TYP column\n",
      "Replaced [-1] values in KK_KUNDENTYP column\n",
      "Replaced [-1] values in OST_WEST_KZ column\n",
      "Replaced [-1] values in WOHNLAGE column\n",
      "Replaced [-1] values in KBA05_ANTG1 column\n",
      "Replaced [-1] values in KBA05_ANTG2 column\n",
      "Replaced [-1] values in KBA05_ANTG3 column\n",
      "Replaced [-1] values in KBA05_ANTG4 column\n",
      "Replaced [-1] values in BALLRAUM column\n",
      "Replaced [-1] values in EWDICHTE column\n",
      "Replaced [-1] values in INNENSTADT column\n",
      "Replaced [-1] values in PLZ8_ANTG1 column\n",
      "Replaced [-1] values in PLZ8_ANTG2 column\n",
      "Replaced [-1] values in PLZ8_ANTG3 column\n",
      "Replaced [-1] values in PLZ8_ANTG4 column\n",
      "Replaced [-1] values in PLZ8_HHZ column\n",
      "Replaced [-1] values in PLZ8_GBZ column\n",
      "Replaced [] values in GFK_URLAUBERTYP column\n",
      "Replaced [] values in GREEN_AVANTGARDE column\n",
      "Replaced [] values in ANZ_PERSONEN column\n",
      "Replaced [] values in ANZ_TITEL column\n",
      "Replaced [] values in ANZ_HH_TITEL column\n",
      "Replaced [] values in KONSUMNAEHE column\n",
      "Replaced [] values in GEBAEUDETYP_RASTER column\n",
      "Replaced [] values in MOBI_REGIO column\n",
      "Replaced [] values in ONLINE_AFFINITAET column\n",
      "Replaced [] values in KBA13_ANZAHL_PKW column\n",
      "Replaced [-1,9] values in SEMIO_SOZ column\n",
      "Replaced [-1,9] values in SEMIO_FAM column\n",
      "Replaced [-1,9] values in SEMIO_REL column\n",
      "Replaced [-1,9] values in SEMIO_MAT column\n",
      "Replaced [-1,9] values in SEMIO_VERT column\n",
      "Replaced [-1,9] values in SEMIO_LUST column\n",
      "Replaced [-1,9] values in SEMIO_ERL column\n",
      "Replaced [-1,9] values in SEMIO_KULT column\n",
      "Replaced [-1,9] values in SEMIO_RAT column\n",
      "Replaced [-1,9] values in SEMIO_KRIT column\n",
      "Replaced [-1,9] values in SEMIO_DOM column\n",
      "Replaced [-1,9] values in SEMIO_KAEM column\n",
      "Replaced [-1,9] values in SEMIO_PFLICHT column\n",
      "Replaced [-1,9] values in SEMIO_TRADV column\n",
      "Replaced [-1,9] values in ZABEOTYP column\n",
      "Replaced [-1,9] values in ARBEIT column\n",
      "Replaced [-1,9] values in RELAT_AB column\n",
      "Replaced [-1,X] values in CAMEO_DEUG_2015 column\n",
      "Replaced [XX] values in CAMEO_DEU_2015 column\n",
      "Replaced [-1,XX] values in CAMEO_INTL_2015 column\n",
      "Replacing nan, NaN or empty spaces strings\n",
      "Running time: 4.633333333333334 minutes\n"
     ]
    }
   ],
   "source": [
    "s = time.time()\n",
    "az = replace_nans(az)\n",
    "e = time.time()\n",
    "\n",
    "print('Running time: {} minutes'.format(round((e-s))/60, 2) )"
   ]
  },
  {
   "cell_type": "code",
   "execution_count": 12,
   "metadata": {
    "scrolled": true
   },
   "outputs": [
    {
     "name": "stdout",
     "output_type": "stream",
     "text": [
      "0. 685843 AGER_TYP\n",
      "1. 2881 ALTERSKATEGORIE_GROB\n",
      "2. 0 ANREDE_KZ\n",
      "3. 4854 CJT_GESAMTTYP\n",
      "4. 0 FINANZ_MINIMALIST\n",
      "5. 0 FINANZ_SPARER\n",
      "6. 0 FINANZ_VORSORGER\n",
      "7. 0 FINANZ_ANLEGER\n",
      "8. 0 FINANZ_UNAUFFAELLIGER\n",
      "9. 0 FINANZ_HAUSBAUER\n",
      "10. 0 FINANZTYP\n",
      "11. 392318 GEBURTSJAHR\n",
      "12. 4854 GFK_URLAUBERTYP\n",
      "13. 0 GREEN_AVANTGARDE\n",
      "14. 111196 HEALTH_TYP\n",
      "15. 4854 LP_LEBENSPHASE_FEIN\n",
      "16. 4854 LP_LEBENSPHASE_GROB\n",
      "17. 4854 LP_FAMILIE_FEIN\n",
      "18. 4854 LP_FAMILIE_GROB\n",
      "19. 4854 LP_STATUS_FEIN\n",
      "20. 4854 LP_STATUS_GROB\n",
      "21. 108315 NATIONALITAET_KZ\n",
      "22. 108164 PRAEGENDE_JUGENDJAHRE\n",
      "23. 4854 RETOURTYP_BK_S\n",
      "24. 0 SEMIO_SOZ\n",
      "25. 0 SEMIO_FAM\n",
      "26. 0 SEMIO_REL\n",
      "27. 0 SEMIO_MAT\n",
      "28. 0 SEMIO_VERT\n",
      "29. 0 SEMIO_LUST\n",
      "30. 0 SEMIO_ERL\n",
      "31. 0 SEMIO_KULT\n",
      "32. 0 SEMIO_RAT\n",
      "33. 0 SEMIO_KRIT\n",
      "34. 0 SEMIO_DOM\n",
      "35. 0 SEMIO_KAEM\n",
      "36. 0 SEMIO_PFLICHT\n",
      "37. 0 SEMIO_TRADV\n",
      "38. 111196 SHOPPER_TYP\n",
      "39. 73499 SOHO_KZ\n",
      "40. 73499 TITEL_KZ\n",
      "41. 111196 VERS_TYP\n",
      "42. 0 ZABEOTYP\n",
      "43. 73499 ALTER_HH\n",
      "44. 73499 ANZ_PERSONEN\n",
      "45. 73499 ANZ_TITEL\n",
      "46. 18348 HH_EINKOMMEN_SCORE\n",
      "47. 584612 KK_KUNDENTYP\n",
      "48. 107602 W_KEIT_KIND_HH\n",
      "49. 73499 WOHNDAUER_2008\n",
      "50. 93148 ANZ_HAUSHALTE_AKTIV\n",
      "51. 97008 ANZ_HH_TITEL\n",
      "52. 93148 GEBAEUDETYP\n",
      "53. 73969 KONSUMNAEHE\n",
      "54. 93148 MIN_GEBAEUDEJAHR\n",
      "55. 93148 OST_WEST_KZ\n",
      "56. 93148 WOHNLAGE\n",
      "57. 99352 CAMEO_DEUG_2015\n",
      "58. 99352 CAMEO_DEU_2015\n",
      "59. 98979 CAMEO_INTL_2015\n",
      "60. 133324 KBA05_ANTG1\n",
      "61. 133324 KBA05_ANTG2\n",
      "62. 133324 KBA05_ANTG3\n",
      "63. 133324 KBA05_ANTG4\n",
      "64. 133324 KBA05_BAUMAX\n",
      "65. 133324 KBA05_GBZ\n",
      "66. 93740 BALLRAUM\n",
      "67. 93740 EWDICHTE\n",
      "68. 93740 INNENSTADT\n",
      "69. 93155 GEBAEUDETYP_RASTER\n",
      "70. 121196 KKK\n",
      "71. 133324 MOBI_REGIO\n",
      "72. 4854 ONLINE_AFFINITAET\n",
      "73. 121196 REGIOTYP\n",
      "74. 105800 KBA13_ANZAHL_PKW\n",
      "75. 116515 PLZ8_ANTG1\n",
      "76. 116515 PLZ8_ANTG2\n",
      "77. 116515 PLZ8_ANTG3\n",
      "78. 116515 PLZ8_ANTG4\n",
      "79. 116515 PLZ8_BAUMAX\n",
      "80. 116515 PLZ8_HHZ\n",
      "81. 116515 PLZ8_GBZ\n",
      "82. 97216 ARBEIT\n",
      "83. 97216 ORTSGR_KLS9\n",
      "84. 97216 RELAT_AB\n",
      "Running time: 0.15 minutes\n"
     ]
    }
   ],
   "source": [
    "#check finally how many missing values we have!\n",
    "s = time.time()\n",
    "for col in enumerate(az.columns):\n",
    "    null_cols = az[col[1]].isnull().values.sum()\n",
    "    print('{}. {} {}'.format(col[0], null_cols, col[1]))\n",
    "e = time.time()\n",
    "print('Running time: {} minutes'.format(round((e-s))/60, 2) )"
   ]
  },
  {
   "cell_type": "markdown",
   "metadata": {},
   "source": [
    "#### Step 1.1.2: Assess Missing Data in Each Column\n",
    "\n",
    "How much missing data is present in each column? There are a few columns that are outliers in terms of the proportion of values that are missing. You will want to use matplotlib's [`hist()`](https://matplotlib.org/api/_as_gen/matplotlib.pyplot.hist.html) function to visualize the distribution of missing value counts to find these columns. Identify and document these columns. While some of these columns might have justifications for keeping or re-encoding the data, for this project you should just remove them from the dataframe. (Feel free to make remarks about these outlier columns in the discussion, however!)\n",
    "\n",
    "For the remaining features, are there any patterns in which columns have, or share, missing data?"
   ]
  },
  {
   "cell_type": "code",
   "execution_count": 13,
   "metadata": {},
   "outputs": [],
   "source": [
    "# Perform an assessment of how much missing data there is in each column of the\n",
    "# dataset.\n",
    "az_nan_cols = [column for column in az.columns if az[column].isnull().sum() > 0] #NanN list in azdias\n",
    "#customers_nan_cols = [column for column in customers.columns if customers[column].isnull().sum() > 0] #NaN list in customers"
   ]
  },
  {
   "cell_type": "code",
   "execution_count": 14,
   "metadata": {},
   "outputs": [
    {
     "data": {
      "image/png": "[encoded data removed]",
      "text/plain": [
       "<Figure size 1080x360 with 1 Axes>"
      ]
     },
     "metadata": {
      "needs_background": "light"
     },
     "output_type": "display_data"
    }
   ],
   "source": [
    "# Investigate patterns in the amount of missing data in each column.\n",
    "plt.figure(figsize = [15, 5])\n",
    "az.loc[:, az_nan_cols].isnull().sum().plot(kind = 'bar');"
   ]
  },
  {
   "cell_type": "code",
   "execution_count": 15,
   "metadata": {},
   "outputs": [],
   "source": [
    "col_missing_percentage = {}\n",
    "def col_percentage_nulls(df):\n",
    "    for col in df.columns:\n",
    "        '''A function that creates a dictionary with percentage of nulls and returns adictionary with sorted values '''\n",
    "        col_percentage = df[col].isnull().values.sum()*100/df.shape[0]\n",
    "        if  col_percentage > 0:\n",
    "            col_missing_percentage[col] = col_percentage\n",
    "    #return dictionarie's values sorted    \n",
    "    return {k: v for k, v in sorted(col_missing_percentage.items(), key=lambda item: item[1])}"
   ]
  },
  {
   "cell_type": "code",
   "execution_count": 16,
   "metadata": {},
   "outputs": [
    {
     "data": {
      "text/plain": [
       "{'ALTERSKATEGORIE_GROB': 0.3232643755028214,\n",
       " 'CJT_GESAMTTYP': 0.5446460529992,\n",
       " 'GFK_URLAUBERTYP': 0.5446460529992,\n",
       " 'LP_LEBENSPHASE_FEIN': 0.5446460529992,\n",
       " 'LP_LEBENSPHASE_GROB': 0.5446460529992,\n",
       " 'LP_FAMILIE_FEIN': 0.5446460529992,\n",
       " 'LP_FAMILIE_GROB': 0.5446460529992,\n",
       " 'LP_STATUS_FEIN': 0.5446460529992,\n",
       " 'LP_STATUS_GROB': 0.5446460529992,\n",
       " 'RETOURTYP_BK_S': 0.5446460529992,\n",
       " 'ONLINE_AFFINITAET': 0.5446460529992,\n",
       " 'HH_EINKOMMEN_SCORE': 2.0587486156632306,\n",
       " 'SOHO_KZ': 8.247000463409188,\n",
       " 'TITEL_KZ': 8.247000463409188,\n",
       " 'ALTER_HH': 8.247000463409188,\n",
       " 'ANZ_PERSONEN': 8.247000463409188,\n",
       " 'ANZ_TITEL': 8.247000463409188,\n",
       " 'WOHNDAUER_2008': 8.247000463409188,\n",
       " 'KONSUMNAEHE': 8.299737102245123,\n",
       " 'ANZ_HAUSHALTE_AKTIV': 10.451728583594866,\n",
       " 'GEBAEUDETYP': 10.451728583594866,\n",
       " 'MIN_GEBAEUDEJAHR': 10.451728583594866,\n",
       " 'OST_WEST_KZ': 10.451728583594866,\n",
       " 'WOHNLAGE': 10.451728583594866,\n",
       " 'GEBAEUDETYP_RASTER': 10.452514022896677,\n",
       " 'BALLRAUM': 10.518154307405235,\n",
       " 'EWDICHTE': 10.518154307405235,\n",
       " 'INNENSTADT': 10.518154307405235,\n",
       " 'ANZ_HH_TITEL': 10.884842255736793,\n",
       " 'ARBEIT': 10.908181023562056,\n",
       " 'ORTSGR_KLS9': 10.908181023562056,\n",
       " 'RELAT_AB': 10.908181023562056,\n",
       " 'CAMEO_INTL_2015': 11.105999522004081,\n",
       " 'CAMEO_DEUG_2015': 11.147852216229195,\n",
       " 'CAMEO_DEU_2015': 11.147852216229195,\n",
       " 'KBA13_ANZAHL_PKW': 11.871354018812394,\n",
       " 'W_KEIT_KIND_HH': 12.073548536221656,\n",
       " 'PRAEGENDE_JUGENDJAHRE': 12.136608091595686,\n",
       " 'NATIONALITAET_KZ': 12.153551139391913,\n",
       " 'HEALTH_TYP': 12.476815514894735,\n",
       " 'SHOPPER_TYP': 12.476815514894735,\n",
       " 'VERS_TYP': 12.476815514894735,\n",
       " 'PLZ8_ANTG1': 13.073637178657146,\n",
       " 'PLZ8_ANTG2': 13.073637178657146,\n",
       " 'PLZ8_ANTG3': 13.073637178657146,\n",
       " 'PLZ8_ANTG4': 13.073637178657146,\n",
       " 'PLZ8_BAUMAX': 13.073637178657146,\n",
       " 'PLZ8_HHZ': 13.073637178657146,\n",
       " 'PLZ8_GBZ': 13.073637178657146,\n",
       " 'KKK': 13.59887166034014,\n",
       " 'REGIOTYP': 13.59887166034014,\n",
       " 'KBA05_ANTG1': 14.959701353536328,\n",
       " 'KBA05_ANTG2': 14.959701353536328,\n",
       " 'KBA05_ANTG3': 14.959701353536328,\n",
       " 'KBA05_ANTG4': 14.959701353536328,\n",
       " 'KBA05_BAUMAX': 14.959701353536328,\n",
       " 'KBA05_GBZ': 14.959701353536328,\n",
       " 'MOBI_REGIO': 14.959701353536328,\n",
       " 'GEBURTSJAHR': 44.02028228688507,\n",
       " 'KK_KUNDENTYP': 65.59674873011296,\n",
       " 'AGER_TYP': 76.95543529607134}"
      ]
     },
     "execution_count": 16,
     "metadata": {},
     "output_type": "execute_result"
    }
   ],
   "source": [
    "col_percentage_nulls(az)"
   ]
  },
  {
   "cell_type": "code",
   "execution_count": 17,
   "metadata": {},
   "outputs": [],
   "source": [
    "# Remove the outlier columns from the dataset. (You'll perform other data\n",
    "# engineering tasks such as re-encoding and imputation later.)\n",
    "\n",
    "def drop_threashold_nulls(df):\n",
    "    for col in df.columns:\n",
    "        '''A function that drops columns for missing information higher than 35% of the dataset length'''\n",
    "        if df[col].isnull().values.sum()*100/df.shape[0] > 35:\n",
    "            try:\n",
    "                df.drop(col, axis =1, inplace = True)\n",
    "                print(f'Droped {col} column.')\n",
    "            except TypeError:\n",
    "                print(col, df[col])\n",
    "    return df\n"
   ]
  },
  {
   "cell_type": "code",
   "execution_count": 18,
   "metadata": {},
   "outputs": [
    {
     "data": {
      "image/png": "[encoded data removed]",
      "text/plain": [
       "<Figure size 432x288 with 1 Axes>"
      ]
     },
     "metadata": {
      "needs_background": "light"
     },
     "output_type": "display_data"
    }
   ],
   "source": [
    "#plot categorical coutplot for features with high NaN percentage\n",
    "sns.countplot(data=az, x='KK_KUNDENTYP')\n",
    "plt.xticks(rotation = 60)\n",
    "plt.title('Consumer Patterns')\n",
    "plt.show()"
   ]
  },
  {
   "cell_type": "code",
   "execution_count": 19,
   "metadata": {},
   "outputs": [
    {
     "data": {
      "image/png": "[encoded data removed]",
      "text/plain": [
       "<Figure size 432x288 with 1 Axes>"
      ]
     },
     "metadata": {
      "needs_background": "light"
     },
     "output_type": "display_data"
    }
   ],
   "source": [
    "#plot categorical coutplot for features with high NaN percentage\n",
    "sns.countplot(data=az, x='AGER_TYP')\n",
    "plt.xticks(rotation = 60)\n",
    "plt.title('Best-ager typology')\n",
    "plt.show()"
   ]
  },
  {
   "cell_type": "code",
   "execution_count": 20,
   "metadata": {},
   "outputs": [
    {
     "data": {
      "text/html": [
       "<div>\n",
       "<style scoped>\n",
       "    .dataframe tbody tr th:only-of-type {\n",
       "        vertical-align: middle;\n",
       "    }\n",
       "\n",
       "    .dataframe tbody tr th {\n",
       "        vertical-align: top;\n",
       "    }\n",
       "\n",
       "    .dataframe thead th {\n",
       "        text-align: right;\n",
       "    }\n",
       "</style>\n",
       "<table border=\"1\" class=\"dataframe\">\n",
       "  <thead>\n",
       "    <tr style=\"text-align: right;\">\n",
       "      <th></th>\n",
       "      <th>AGER_TYP</th>\n",
       "      <th>ALTERSKATEGORIE_GROB</th>\n",
       "      <th>ANREDE_KZ</th>\n",
       "      <th>CJT_GESAMTTYP</th>\n",
       "      <th>FINANZ_MINIMALIST</th>\n",
       "      <th>FINANZ_SPARER</th>\n",
       "      <th>FINANZ_VORSORGER</th>\n",
       "      <th>FINANZ_ANLEGER</th>\n",
       "      <th>FINANZ_UNAUFFAELLIGER</th>\n",
       "      <th>FINANZ_HAUSBAUER</th>\n",
       "      <th>...</th>\n",
       "      <th>PLZ8_ANTG1</th>\n",
       "      <th>PLZ8_ANTG2</th>\n",
       "      <th>PLZ8_ANTG3</th>\n",
       "      <th>PLZ8_ANTG4</th>\n",
       "      <th>PLZ8_BAUMAX</th>\n",
       "      <th>PLZ8_HHZ</th>\n",
       "      <th>PLZ8_GBZ</th>\n",
       "      <th>ARBEIT</th>\n",
       "      <th>ORTSGR_KLS9</th>\n",
       "      <th>RELAT_AB</th>\n",
       "    </tr>\n",
       "  </thead>\n",
       "  <tbody>\n",
       "    <tr>\n",
       "      <th>529966</th>\n",
       "      <td>NaN</td>\n",
       "      <td>4</td>\n",
       "      <td>1</td>\n",
       "      <td>NaN</td>\n",
       "      <td>3</td>\n",
       "      <td>1</td>\n",
       "      <td>5</td>\n",
       "      <td>1</td>\n",
       "      <td>1</td>\n",
       "      <td>4</td>\n",
       "      <td>...</td>\n",
       "      <td>2.0</td>\n",
       "      <td>3.0</td>\n",
       "      <td>2.0</td>\n",
       "      <td>1.0</td>\n",
       "      <td>1.0</td>\n",
       "      <td>4.0</td>\n",
       "      <td>3.0</td>\n",
       "      <td>2.0</td>\n",
       "      <td>4.0</td>\n",
       "      <td>3.0</td>\n",
       "    </tr>\n",
       "  </tbody>\n",
       "</table>\n",
       "<p>1 rows × 85 columns</p>\n",
       "</div>"
      ],
      "text/plain": [
       "       AGER_TYP ALTERSKATEGORIE_GROB ANREDE_KZ CJT_GESAMTTYP  \\\n",
       "529966      NaN                    4         1           NaN   \n",
       "\n",
       "       FINANZ_MINIMALIST FINANZ_SPARER FINANZ_VORSORGER FINANZ_ANLEGER  \\\n",
       "529966                 3             1                5              1   \n",
       "\n",
       "       FINANZ_UNAUFFAELLIGER FINANZ_HAUSBAUER  ... PLZ8_ANTG1 PLZ8_ANTG2  \\\n",
       "529966                     1                4  ...        2.0        3.0   \n",
       "\n",
       "       PLZ8_ANTG3 PLZ8_ANTG4 PLZ8_BAUMAX PLZ8_HHZ PLZ8_GBZ ARBEIT ORTSGR_KLS9  \\\n",
       "529966        2.0        1.0         1.0      4.0      3.0    2.0         4.0   \n",
       "\n",
       "       RELAT_AB  \n",
       "529966      3.0  \n",
       "\n",
       "[1 rows x 85 columns]"
      ]
     },
     "execution_count": 20,
     "metadata": {},
     "output_type": "execute_result"
    }
   ],
   "source": [
    "az[az.GEBURTSJAHR == '1902']"
   ]
  },
  {
   "cell_type": "code",
   "execution_count": 21,
   "metadata": {},
   "outputs": [
    {
     "data": {
      "image/png": "[encoded data removed]",
      "text/plain": [
       "<Figure size 2160x720 with 1 Axes>"
      ]
     },
     "metadata": {
      "needs_background": "light"
     },
     "output_type": "display_data"
    }
   ],
   "source": [
    "#plot categorical coutplot for features with high NaN percentage\n",
    "plt.figure(figsize = [30, 10])\n",
    "sns.countplot(data=az, x='GEBURTSJAHR')\n",
    "plt.xticks(rotation = 60)\n",
    "plt.title('Year of birth')\n",
    "plt.show()"
   ]
  },
  {
   "cell_type": "markdown",
   "metadata": {},
   "source": [
    "#### Discussion 1.1.2: Assess Missing Data in Each Column\n",
    "We attach a dictionary holding the percentage of missing values in each column. Here we provide the most extreme data:\n",
    "\n",
    "- 'GEBURTSJAHR': 44.02028228688507,\n",
    "- 'KK_KUNDENTYP': 65.59674873011296,\n",
    "- 'AGER_TYP': 76.95543529607134\n",
    "\n",
    "The rest of features have less than 15% of missing data. \n",
    "\n",
    "'GEBURTSJAHR' is the year of birth, and as usually people do not feel like sharing their year of birth it is reasonable e do not explicitly have this data. 'AGER_TYP' is a category for elderly people so the fact that we are investigating all ages makes sense that information is limited because a lot of people do not fall in this category. 'KK_KUNDENTYP' is consumer patterns an elaborated classification we may be able to retrive from other sources."
   ]
  },
  {
   "cell_type": "markdown",
   "metadata": {},
   "source": [
    "#### Step 1.1.3: Assess Missing Data in Each Row\n",
    "\n",
    "Now, you'll perform a similar assessment for the rows of the dataset. How much data is missing in each row? As with the columns, you should see some groups of points that have a very different numbers of missing values. Divide the data into two subsets: one for data points that are above some threshold for missing values, and a second subset for points below that threshold.\n",
    "\n",
    "In order to know what to do with the outlier rows, we should see if the distribution of data values on columns that are not missing data (or are missing very little data) are similar or different between the two groups. Select at least five of these columns and compare the distribution of values.\n",
    "- You can use seaborn's [`countplot()`](https://seaborn.pydata.org/generated/seaborn.countplot.html) function to create a bar chart of code frequencies and matplotlib's [`subplot()`](https://matplotlib.org/api/_as_gen/matplotlib.pyplot.subplot.html) function to put bar charts for the two subplots side by side.\n",
    "- To reduce repeated code, you might want to write a function that can perform this comparison, taking as one of its arguments a column to be compared.\n",
    "\n",
    "Depending on what you observe in your comparison, this will have implications on how you approach your conclusions later in the analysis. If the distributions of non-missing features look similar between the data with many missing values and the data with few or no missing values, then we could argue that simply dropping those points from the analysis won't present a major issue. On the other hand, if the data with many missing values looks very different from the data with few or no missing values, then we should make a note on those data as special. We'll revisit these data later on. **Either way, you should continue your analysis for now using just the subset of the data with few or no missing values.**"
   ]
  },
  {
   "cell_type": "code",
   "execution_count": 22,
   "metadata": {},
   "outputs": [
    {
     "data": {
      "text/plain": [
       "\"\\nrow_missing_percentage = {}\\ndef row_percentage_nulls(df):\\n    for row in df.index:\\n        #A function that creates a dictionary with percentage of nulls \\n        #in each row and returns adictionary with sorted values \\n        #print(df.index[row])\\n        try:\\n            #use numpy to save on time and energy\\n            row_percentage = (sum(np.isnan(azdias.loc[row, :].to_numpy().astype(float))))*100/df.shape[1]\\n            row_missing_percentage[row] = row_percentage\\n        except:\\n            #use pandas when we have string values in our rows\\n            row_percentage = df.loc[row, :].isnull().values.sum()*100/df.shape[1]\\n            row_missing_percentage[row] = row_percentage\\n            \\n    #return dictionarie's values sorted    \\n    return {k: v for k, v in sorted(row_missing_percentage.items(), key=lambda item: item[1])}\\n\""
      ]
     },
     "execution_count": 22,
     "metadata": {},
     "output_type": "execute_result"
    }
   ],
   "source": [
    "# How much data is missing in each row of the dataset?\n",
    "'''\n",
    "row_missing_percentage = {}\n",
    "def row_percentage_nulls(df):\n",
    "    for row in df.index:\n",
    "        #A function that creates a dictionary with percentage of nulls \n",
    "        #in each row and returns adictionary with sorted values \n",
    "        #print(df.index[row])\n",
    "        try:\n",
    "            #use numpy to save on time and energy\n",
    "            row_percentage = (sum(np.isnan(azdias.loc[row, :].to_numpy().astype(float))))*100/df.shape[1]\n",
    "            row_missing_percentage[row] = row_percentage\n",
    "        except:\n",
    "            #use pandas when we have string values in our rows\n",
    "            row_percentage = df.loc[row, :].isnull().values.sum()*100/df.shape[1]\n",
    "            row_missing_percentage[row] = row_percentage\n",
    "            \n",
    "    #return dictionarie's values sorted    \n",
    "    return {k: v for k, v in sorted(row_missing_percentage.items(), key=lambda item: item[1])}\n",
    "'''"
   ]
  },
  {
   "cell_type": "code",
   "execution_count": 23,
   "metadata": {},
   "outputs": [
    {
     "data": {
      "text/plain": [
       "\"\\nimport time\\ns = time.time()\\nprc_idx_dict = row_percentage_nulls(az)\\ne = time.time()\\nprint('Running time: {} minutes'.format(round((e-s)/60), 2) )\\n\""
      ]
     },
     "execution_count": 23,
     "metadata": {},
     "output_type": "execute_result"
    }
   ],
   "source": [
    "#save the percentage of nulls in a dictionary namely prc_idx_dict\n",
    "'''\n",
    "import time\n",
    "s = time.time()\n",
    "prc_idx_dict = row_percentage_nulls(az)\n",
    "e = time.time()\n",
    "print('Running time: {} minutes'.format(round((e-s)/60), 2) )\n",
    "'''"
   ]
  },
  {
   "cell_type": "code",
   "execution_count": 24,
   "metadata": {},
   "outputs": [
    {
     "data": {
      "text/plain": [
       "'\\nf = open(\"pct_dict.txt\",\"w\")\\nf.write( str(prc_idx_dict) )\\nf.close()\\n'"
      ]
     },
     "execution_count": 24,
     "metadata": {},
     "output_type": "execute_result"
    }
   ],
   "source": [
    "#It may take some time to create the dictinary so I saved it in a txt for future use!\n",
    "'''\n",
    "f = open(\"pct_dict.txt\",\"w\")\n",
    "f.write( str(prc_idx_dict) )\n",
    "f.close()\n",
    "'''"
   ]
  },
  {
   "cell_type": "code",
   "execution_count": 25,
   "metadata": {},
   "outputs": [
    {
     "name": "stdout",
     "output_type": "stream",
     "text": [
      "Running time: 17.17346429824829 seconds\n"
     ]
    }
   ],
   "source": [
    "#Load the percentaage dictionary we have previously saved\n",
    "import ast\n",
    "import time\n",
    "from collections import OrderedDict\n",
    "\n",
    "s = time.time()\n",
    "file = open(\"pct_dict.txt\", \"r\")\n",
    "\n",
    "contents = file.read()\n",
    "prc_idx_dict = ast.literal_eval(contents) #OrderedDict(ast.literal_eval(contents)) remembers the order entries were added\n",
    "\n",
    "file.close()\n",
    "e = time.time()\n",
    "print('Running time: {} seconds'.format(e-s) )"
   ]
  },
  {
   "cell_type": "code",
   "execution_count": 26,
   "metadata": {},
   "outputs": [
    {
     "name": "stdout",
     "output_type": "stream",
     "text": [
      "Max percentage of missing values in a row is 54.11764705882353\n",
      "Min percentage of missing values in a row is 0.0\n"
     ]
    }
   ],
   "source": [
    "max_percentage = max(prc_idx_dict, key=prc_idx_dict.get) #this gives the key\n",
    "min_percentage = min(prc_idx_dict, key=lambda key: prc_idx_dict[key]) #this gives the key\n",
    "\n",
    "print('Max percentage of missing values in a row is {}'.format(prc_idx_dict.get(max_percentage))) ##this gives the value\n",
    "print('Min percentage of missing values in a row is {}'.format(prc_idx_dict.get(min_percentage))) ##this gives the value"
   ]
  },
  {
   "cell_type": "code",
   "execution_count": 27,
   "metadata": {},
   "outputs": [],
   "source": [
    "#Separate prc_idx_dict keys and values using numpy for quicker \n",
    "keys = np.fromiter(prc_idx_dict.keys(), dtype=float)\n",
    "vals = np.fromiter(prc_idx_dict.values(), dtype=float)"
   ]
  },
  {
   "cell_type": "code",
   "execution_count": 28,
   "metadata": {
    "scrolled": true
   },
   "outputs": [
    {
     "name": "stdout",
     "output_type": "stream",
     "text": [
      "[ 0.          1.17647059  2.35294118  3.52941176  4.70588235  5.88235294\n",
      "  7.05882353  8.23529412  9.41176471 10.58823529 11.76470588 12.94117647\n",
      " 14.11764706 15.29411765 16.47058824 17.64705882 18.82352941 20.\n",
      " 21.17647059 22.35294118 23.52941176 24.70588235 25.88235294 27.05882353\n",
      " 28.23529412 29.41176471 30.58823529 31.76470588 32.94117647 34.11764706\n",
      " 35.29411765 36.47058824 37.64705882 38.82352941 40.         41.17647059\n",
      " 42.35294118 43.52941176 49.41176471 51.76470588 52.94117647 54.11764706]\n"
     ]
    },
    {
     "data": {
      "text/plain": [
       "array([0, 0, 0, ..., 5, 5, 5], dtype=int64)"
      ]
     },
     "execution_count": 28,
     "metadata": {},
     "output_type": "execute_result"
    }
   ],
   "source": [
    "# check the range of missing percentage\n",
    "missing_range = np.unique(vals)\n",
    "print(missing_range)\n",
    "null_cats = [round(num, 1) for num in missing_range] # keep only two decimals \n",
    "nan_prc_cls = [10, 20, 30, 40, 50, 60] # create categories for percentage value categories\n",
    "np.digitize(vals, nan_prc_cls) # categorize percentage values"
   ]
  },
  {
   "cell_type": "code",
   "execution_count": 29,
   "metadata": {},
   "outputs": [
    {
     "data": {
      "image/png": "[encoded data removed]",
      "text/plain": [
       "<Figure size 720x720 with 1 Axes>"
      ]
     },
     "metadata": {
      "needs_background": "light"
     },
     "output_type": "display_data"
    }
   ],
   "source": [
    "plt.figure(figsize = [10, 10])\n",
    "g = sns.violinplot(y = vals);\n",
    "\n",
    "g.set_title('Count NaN Percentage values per row')\n",
    "g.set_xlabel('Null Counts')\n",
    "g.set_ylabel('Null percentage per row');"
   ]
  },
  {
   "cell_type": "code",
   "execution_count": 30,
   "metadata": {},
   "outputs": [
    {
     "data": {
      "image/png": "[encoded data removed]",
      "text/plain": [
       "<Figure size 720x360 with 1 Axes>"
      ]
     },
     "metadata": {
      "needs_background": "light"
     },
     "output_type": "display_data"
    }
   ],
   "source": [
    "plt.figure(figsize = [10, 5])\n",
    "g = sns.distplot(vals);\n",
    "\n",
    "g.set_title('Count NaN Probability density per row')\n",
    "g.set_xlabel('NaN Percentage per row')\n",
    "g.set_ylabel('Null distribution in the dataset');"
   ]
  },
  {
   "cell_type": "code",
   "execution_count": 31,
   "metadata": {},
   "outputs": [],
   "source": [
    "# Write code to divide the data into two subsets based on the number of missing\n",
    "# values in each row.\n",
    "az_i =[idx for idx, value in prc_idx_dict.items() if value >30] #get index of more than 40% of missing values\n",
    "az_ii =[idx for idx, value in prc_idx_dict.items() if value <= 30] #get index of less than 40% of missing values\n",
    "azd_i = az.iloc[az_i] #az_i holds rows with more than 45% of nulls in rows\n",
    "azd_ii = az.iloc[az_ii] #az_i holds rows with less than 45% of nulls in rows"
   ]
  },
  {
   "cell_type": "code",
   "execution_count": 32,
   "metadata": {},
   "outputs": [
    {
     "data": {
      "image/png": "[encoded data removed]",
      "text/plain": [
       "<Figure size 1080x360 with 2 Axes>"
      ]
     },
     "metadata": {
      "needs_background": "light"
     },
     "output_type": "display_data"
    }
   ],
   "source": [
    "# Compare the distribution of values for at least five columns where there are\n",
    "# no or few missing values, between the two subsets.\n",
    "#choose randomly five columns\n",
    "cols = az.sample(5, axis = 1).columns\n",
    "fig, axes = plt.subplots(nrows=1, ncols=2, figsize = [15, 5])\n",
    "\n",
    "azd_i[cols].isnull().sum().plot(kind = 'bar', ax=axes[0])\n",
    "azd_ii[cols].isnull().sum().plot(kind = 'bar', ax=axes[1]);"
   ]
  },
  {
   "cell_type": "markdown",
   "metadata": {},
   "source": [
    "#### Discussion 1.1.3: Assess Missing Data in Each Row\n",
    "\n",
    "In row level more than 50 % of rows have as much as 10% of missing values. 10 % of the reccord in the dataset have more than 50% of missing data. We need to take into cosideration the distribution of the percentage of missing values in rows. \n",
    "\n",
    "\n",
    "(Double-click this cell and replace this text with your own text, reporting your observations regarding missing data in rows. Are the data with lots of missing values are qualitatively different from data with few or no missing values?)"
   ]
  },
  {
   "cell_type": "markdown",
   "metadata": {},
   "source": [
    "### Step 1.2: Select and Re-Encode Features\n",
    "\n",
    "Checking for missing data isn't the only way in which you can prepare a dataset for analysis. Since the unsupervised learning techniques to be used will only work on data that is encoded numerically, you need to make a few encoding changes or additional assumptions to be able to make progress. In addition, while almost all of the values in the dataset are encoded using numbers, not all of them represent numeric values. Check the third column of the feature summary (`feat_info`) for a summary of types of measurement.\n",
    "- For numeric and interval data, these features can be kept without changes.\n",
    "- Most of the variables in the dataset are ordinal in nature. While ordinal values may technically be non-linear in spacing, make the simplifying assumption that the ordinal variables can be treated as being interval in nature (that is, kept without any changes).\n",
    "- Special handling may be necessary for the remaining two variable types: categorical, and 'mixed'.\n",
    "\n",
    "In the first two parts of this sub-step, you will perform an investigation of the categorical and mixed-type features and make a decision on each of them, whether you will keep, drop, or re-encode each. Then, in the last part, you will create a new data frame with only the selected and engineered columns.\n",
    "\n",
    "Data wrangling is often the trickiest part of the data analysis process, and there's a lot of it to be done here. But stick with it: once you're done with this step, you'll be ready to get to the machine learning parts of the project!"
   ]
  },
  {
   "cell_type": "code",
   "execution_count": 33,
   "metadata": {},
   "outputs": [
    {
     "data": {
      "text/plain": [
       "Index(['attribute', 'information_level', 'type', 'missing_or_unknown'], dtype='object')"
      ]
     },
     "execution_count": 33,
     "metadata": {},
     "output_type": "execute_result"
    }
   ],
   "source": [
    "# How many features are there of each data type?\n",
    "feat_info.columns"
   ]
  },
  {
   "cell_type": "code",
   "execution_count": 34,
   "metadata": {},
   "outputs": [
    {
     "data": {
      "text/plain": [
       "ordinal        49\n",
       "categorical    21\n",
       "numeric         7\n",
       "mixed           7\n",
       "interval        1\n",
       "Name: type, dtype: int64"
      ]
     },
     "execution_count": 34,
     "metadata": {},
     "output_type": "execute_result"
    }
   ],
   "source": [
    "feat_info.type.value_counts()"
   ]
  },
  {
   "cell_type": "code",
   "execution_count": 35,
   "metadata": {},
   "outputs": [
    {
     "name": "stdout",
     "output_type": "stream",
     "text": [
      "categorical features : (0, 2, 3, 10, 12, 13, 17, 18, 19, 20, 21, 38, 39, 40, 41, 42, 47, 52, 55, 57, 58)\n",
      "ordinal features : (1, 4, 5, 6, 7, 8, 9, 14, 23, 24, 25, 26, 27, 28, 29, 30, 31, 32, 33, 34, 35, 36, 37, 46, 48, 49, 53, 60, 61, 62, 63, 65, 66, 67, 68, 69, 70, 71, 72, 73, 75, 76, 77, 78, 80, 81, 82, 83, 84)\n",
      "numeric features : (11, 44, 45, 50, 51, 54, 74)\n",
      "mixed features : (15, 16, 22, 56, 59, 64, 79)\n",
      "interval features : (43,)\n"
     ]
    }
   ],
   "source": [
    "#check column index to be treated differently with NaN's\n",
    "for i in list(feat_info.type.unique()):\n",
    "    print('{} features : {}'.format(i, tuple(feat_info[feat_info.type == i].index)))"
   ]
  },
  {
   "cell_type": "markdown",
   "metadata": {},
   "source": [
    "#### Step 1.2.1: Re-Encode Categorical Features\n",
    "\n",
    "For categorical data, you would ordinarily need to encode the levels as dummy variables. Depending on the number of categories, perform one of the following:\n",
    "- For binary (two-level) categoricals that take numeric values, you can keep them without needing to do anything.\n",
    "- There is one binary variable that takes on non-numeric values. For this one, you need to re-encode the values as numbers or create a dummy variable.\n",
    "- For multi-level categoricals (three or more values), you can choose to encode the values using multiple dummy variables (e.g. via [OneHotEncoder](http://scikit-learn.org/stable/modules/generated/sklearn.preprocessing.OneHotEncoder.html)), or (to keep things straightforward) just drop them from the analysis. As always, document your choices in the Discussion section."
   ]
  },
  {
   "cell_type": "code",
   "execution_count": 36,
   "metadata": {},
   "outputs": [],
   "source": [
    "# Assess categorical variables\n",
    "cat_az= az.iloc[:,[0, 2, 3, 10, 12, 13, 17, 18, 19, 20, 21, 38, 39, 40, 41, 42, 47, 52, 55, 57, 58]]"
   ]
  },
  {
   "cell_type": "code",
   "execution_count": 37,
   "metadata": {},
   "outputs": [
    {
     "data": {
      "image/png": "[encoded data removed]",
      "text/plain": [
       "<Figure size 2880x1440 with 24 Axes>"
      ]
     },
     "metadata": {
      "needs_background": "light"
     },
     "output_type": "display_data"
    }
   ],
   "source": [
    "#Plot categorical features\n",
    "# Set up the matplotlib figure\n",
    "f, axes = plt.subplots(3, 8, figsize=(40, 20), sharey='row')\n",
    "for ax, feature in zip(axes.flatten(), cat_az):  \n",
    "    \n",
    "    #sns.set(style=\"white\", palette=\"muted\", color_codes=True)\n",
    "    sns.despine(left=True)\n",
    "    sns.countplot(az[feature], ax=ax)"
   ]
  },
  {
   "cell_type": "code",
   "execution_count": 38,
   "metadata": {},
   "outputs": [],
   "source": [
    "# Assess ordinal variables\n",
    "ord_az= az.iloc[:,[1, 4, 5, 6, 7, 8, 9, 14, 23, 24, 25, 26, \\\n",
    "                    27, 28, 29, 30, 31, 32, 33, 34, 35, 36, 37,\\\n",
    "                    46, 48, 49, 53, 60, 61, 62, 63, 65, 66, 67, \\\n",
    "                    68, 69, 70, 71, 72, 73, 75, 76, 77, 78, 80,\\\n",
    "                    81, 82, 83, 84]]\n",
    "\n"
   ]
  },
  {
   "cell_type": "code",
   "execution_count": 39,
   "metadata": {},
   "outputs": [
    {
     "data": {
      "image/png": "[encoded data removed]",
      "text/plain": [
       "<Figure size 1440x5760 with 45 Axes>"
      ]
     },
     "metadata": {
      "needs_background": "light"
     },
     "output_type": "display_data"
    }
   ],
   "source": [
    "#Plot ordinal features\n",
    "# Set up the matplotlib figure\n",
    "f, axes = plt.subplots(15, 3, figsize=(20,80), sharey='row')\n",
    "for ax, feature in zip(axes.flatten(), ord_az):  \n",
    "    \n",
    "    #sns.set(style=\"white\", palette=\"muted\", color_codes=True)\n",
    "    sns.despine(left=True)\n",
    "    sns.countplot(az[feature], ax=ax)"
   ]
  },
  {
   "cell_type": "code",
   "execution_count": 40,
   "metadata": {},
   "outputs": [],
   "source": [
    "# Assess numeric variables\n",
    "mix_az = az.iloc[:,[11, 44, 45, 50, 51, 54, 74]]"
   ]
  },
  {
   "cell_type": "code",
   "execution_count": 41,
   "metadata": {},
   "outputs": [
    {
     "data": {
      "image/png": "[encoded data removed]",
      "text/plain": [
       "<Figure size 1440x4320 with 7 Axes>"
      ]
     },
     "metadata": {
      "needs_background": "light"
     },
     "output_type": "display_data"
    }
   ],
   "source": [
    "#Plot numeric features\n",
    "# Set up the matplotlib figure\n",
    "f, axes = plt.subplots(7, 1, figsize=(20,60), sharey='row')\n",
    "for ax, feature in zip(axes.flatten(), mix_az):  \n",
    "    \n",
    "    #sns.set(style=\"white\", palette=\"muted\", color_codes=True)\n",
    "    sns.despine(left=True)\n",
    "    sns.countplot(az[feature], ax=ax)"
   ]
  },
  {
   "cell_type": "code",
   "execution_count": 42,
   "metadata": {},
   "outputs": [],
   "source": [
    "# Assess mixed variables\n",
    "num_az = az.iloc[:,[15, 16, 22, 56, 59, 64, 79]]"
   ]
  },
  {
   "cell_type": "code",
   "execution_count": 43,
   "metadata": {},
   "outputs": [
    {
     "data": {
      "image/png": "[encoded data removed]",
      "text/plain": [
       "<Figure size 1440x720 with 9 Axes>"
      ]
     },
     "metadata": {
      "needs_background": "light"
     },
     "output_type": "display_data"
    }
   ],
   "source": [
    "#Plot mixed features\n",
    "# Set up the matplotlib figure\n",
    "f, axes = plt.subplots(3, 3, figsize=(20,10), sharey='row')\n",
    "for ax, feature in zip(axes.flatten(), num_az):  \n",
    "    \n",
    "    #sns.set(style=\"white\", palette=\"muted\", color_codes=True)\n",
    "    sns.despine(left=True)\n",
    "    sns.countplot(az[feature], ax=ax)"
   ]
  },
  {
   "cell_type": "code",
   "execution_count": 44,
   "metadata": {},
   "outputs": [
    {
     "data": {
      "text/html": [
       "<div>\n",
       "<style scoped>\n",
       "    .dataframe tbody tr th:only-of-type {\n",
       "        vertical-align: middle;\n",
       "    }\n",
       "\n",
       "    .dataframe tbody tr th {\n",
       "        vertical-align: top;\n",
       "    }\n",
       "\n",
       "    .dataframe thead th {\n",
       "        text-align: right;\n",
       "    }\n",
       "</style>\n",
       "<table border=\"1\" class=\"dataframe\">\n",
       "  <thead>\n",
       "    <tr style=\"text-align: right;\">\n",
       "      <th></th>\n",
       "      <th>AGER_TYP</th>\n",
       "      <th>ALTERSKATEGORIE_GROB</th>\n",
       "      <th>ANREDE_KZ</th>\n",
       "      <th>CJT_GESAMTTYP</th>\n",
       "      <th>FINANZ_MINIMALIST</th>\n",
       "      <th>FINANZ_SPARER</th>\n",
       "      <th>FINANZ_VORSORGER</th>\n",
       "      <th>FINANZ_ANLEGER</th>\n",
       "      <th>FINANZ_UNAUFFAELLIGER</th>\n",
       "      <th>FINANZ_HAUSBAUER</th>\n",
       "      <th>...</th>\n",
       "      <th>PLZ8_ANTG3</th>\n",
       "      <th>PLZ8_ANTG4</th>\n",
       "      <th>PLZ8_BAUMAX</th>\n",
       "      <th>PLZ8_HHZ</th>\n",
       "      <th>PLZ8_GBZ</th>\n",
       "      <th>ARBEIT</th>\n",
       "      <th>ORTSGR_KLS9</th>\n",
       "      <th>RELAT_AB</th>\n",
       "      <th>O</th>\n",
       "      <th>W</th>\n",
       "    </tr>\n",
       "  </thead>\n",
       "  <tbody>\n",
       "    <tr>\n",
       "      <th>0</th>\n",
       "      <td>NaN</td>\n",
       "      <td>2</td>\n",
       "      <td>1</td>\n",
       "      <td>2.0</td>\n",
       "      <td>3</td>\n",
       "      <td>4</td>\n",
       "      <td>3</td>\n",
       "      <td>5</td>\n",
       "      <td>5</td>\n",
       "      <td>3</td>\n",
       "      <td>...</td>\n",
       "      <td>NaN</td>\n",
       "      <td>NaN</td>\n",
       "      <td>NaN</td>\n",
       "      <td>NaN</td>\n",
       "      <td>NaN</td>\n",
       "      <td>NaN</td>\n",
       "      <td>NaN</td>\n",
       "      <td>NaN</td>\n",
       "      <td>0</td>\n",
       "      <td>0</td>\n",
       "    </tr>\n",
       "    <tr>\n",
       "      <th>1</th>\n",
       "      <td>NaN</td>\n",
       "      <td>1</td>\n",
       "      <td>2</td>\n",
       "      <td>5.0</td>\n",
       "      <td>1</td>\n",
       "      <td>5</td>\n",
       "      <td>2</td>\n",
       "      <td>5</td>\n",
       "      <td>4</td>\n",
       "      <td>5</td>\n",
       "      <td>...</td>\n",
       "      <td>2.0</td>\n",
       "      <td>1.0</td>\n",
       "      <td>1.0</td>\n",
       "      <td>5.0</td>\n",
       "      <td>4.0</td>\n",
       "      <td>3.0</td>\n",
       "      <td>5.0</td>\n",
       "      <td>4.0</td>\n",
       "      <td>0</td>\n",
       "      <td>1</td>\n",
       "    </tr>\n",
       "    <tr>\n",
       "      <th>2</th>\n",
       "      <td>NaN</td>\n",
       "      <td>3</td>\n",
       "      <td>2</td>\n",
       "      <td>3.0</td>\n",
       "      <td>1</td>\n",
       "      <td>4</td>\n",
       "      <td>1</td>\n",
       "      <td>2</td>\n",
       "      <td>3</td>\n",
       "      <td>5</td>\n",
       "      <td>...</td>\n",
       "      <td>1.0</td>\n",
       "      <td>0.0</td>\n",
       "      <td>1.0</td>\n",
       "      <td>4.0</td>\n",
       "      <td>4.0</td>\n",
       "      <td>3.0</td>\n",
       "      <td>5.0</td>\n",
       "      <td>2.0</td>\n",
       "      <td>0</td>\n",
       "      <td>1</td>\n",
       "    </tr>\n",
       "    <tr>\n",
       "      <th>3</th>\n",
       "      <td>2</td>\n",
       "      <td>4</td>\n",
       "      <td>2</td>\n",
       "      <td>2.0</td>\n",
       "      <td>4</td>\n",
       "      <td>2</td>\n",
       "      <td>5</td>\n",
       "      <td>2</td>\n",
       "      <td>1</td>\n",
       "      <td>2</td>\n",
       "      <td>...</td>\n",
       "      <td>2.0</td>\n",
       "      <td>0.0</td>\n",
       "      <td>1.0</td>\n",
       "      <td>3.0</td>\n",
       "      <td>4.0</td>\n",
       "      <td>2.0</td>\n",
       "      <td>3.0</td>\n",
       "      <td>3.0</td>\n",
       "      <td>0</td>\n",
       "      <td>1</td>\n",
       "    </tr>\n",
       "    <tr>\n",
       "      <th>4</th>\n",
       "      <td>NaN</td>\n",
       "      <td>3</td>\n",
       "      <td>1</td>\n",
       "      <td>5.0</td>\n",
       "      <td>4</td>\n",
       "      <td>3</td>\n",
       "      <td>4</td>\n",
       "      <td>1</td>\n",
       "      <td>3</td>\n",
       "      <td>2</td>\n",
       "      <td>...</td>\n",
       "      <td>2.0</td>\n",
       "      <td>1.0</td>\n",
       "      <td>2.0</td>\n",
       "      <td>3.0</td>\n",
       "      <td>3.0</td>\n",
       "      <td>4.0</td>\n",
       "      <td>6.0</td>\n",
       "      <td>5.0</td>\n",
       "      <td>0</td>\n",
       "      <td>1</td>\n",
       "    </tr>\n",
       "    <tr>\n",
       "      <th>...</th>\n",
       "      <td>...</td>\n",
       "      <td>...</td>\n",
       "      <td>...</td>\n",
       "      <td>...</td>\n",
       "      <td>...</td>\n",
       "      <td>...</td>\n",
       "      <td>...</td>\n",
       "      <td>...</td>\n",
       "      <td>...</td>\n",
       "      <td>...</td>\n",
       "      <td>...</td>\n",
       "      <td>...</td>\n",
       "      <td>...</td>\n",
       "      <td>...</td>\n",
       "      <td>...</td>\n",
       "      <td>...</td>\n",
       "      <td>...</td>\n",
       "      <td>...</td>\n",
       "      <td>...</td>\n",
       "      <td>...</td>\n",
       "      <td>...</td>\n",
       "    </tr>\n",
       "    <tr>\n",
       "      <th>891216</th>\n",
       "      <td>NaN</td>\n",
       "      <td>3</td>\n",
       "      <td>2</td>\n",
       "      <td>5.0</td>\n",
       "      <td>1</td>\n",
       "      <td>4</td>\n",
       "      <td>2</td>\n",
       "      <td>5</td>\n",
       "      <td>4</td>\n",
       "      <td>4</td>\n",
       "      <td>...</td>\n",
       "      <td>0.0</td>\n",
       "      <td>0.0</td>\n",
       "      <td>1.0</td>\n",
       "      <td>2.0</td>\n",
       "      <td>3.0</td>\n",
       "      <td>NaN</td>\n",
       "      <td>NaN</td>\n",
       "      <td>NaN</td>\n",
       "      <td>0</td>\n",
       "      <td>1</td>\n",
       "    </tr>\n",
       "    <tr>\n",
       "      <th>891217</th>\n",
       "      <td>NaN</td>\n",
       "      <td>2</td>\n",
       "      <td>1</td>\n",
       "      <td>4.0</td>\n",
       "      <td>3</td>\n",
       "      <td>3</td>\n",
       "      <td>3</td>\n",
       "      <td>2</td>\n",
       "      <td>2</td>\n",
       "      <td>3</td>\n",
       "      <td>...</td>\n",
       "      <td>3.0</td>\n",
       "      <td>2.0</td>\n",
       "      <td>4.0</td>\n",
       "      <td>5.0</td>\n",
       "      <td>3.0</td>\n",
       "      <td>4.0</td>\n",
       "      <td>6.0</td>\n",
       "      <td>5.0</td>\n",
       "      <td>0</td>\n",
       "      <td>1</td>\n",
       "    </tr>\n",
       "    <tr>\n",
       "      <th>891218</th>\n",
       "      <td>NaN</td>\n",
       "      <td>2</td>\n",
       "      <td>2</td>\n",
       "      <td>4.0</td>\n",
       "      <td>2</td>\n",
       "      <td>4</td>\n",
       "      <td>2</td>\n",
       "      <td>5</td>\n",
       "      <td>4</td>\n",
       "      <td>3</td>\n",
       "      <td>...</td>\n",
       "      <td>0.0</td>\n",
       "      <td>0.0</td>\n",
       "      <td>1.0</td>\n",
       "      <td>3.0</td>\n",
       "      <td>4.0</td>\n",
       "      <td>2.0</td>\n",
       "      <td>2.0</td>\n",
       "      <td>3.0</td>\n",
       "      <td>0</td>\n",
       "      <td>1</td>\n",
       "    </tr>\n",
       "    <tr>\n",
       "      <th>891219</th>\n",
       "      <td>NaN</td>\n",
       "      <td>1</td>\n",
       "      <td>1</td>\n",
       "      <td>3.0</td>\n",
       "      <td>1</td>\n",
       "      <td>5</td>\n",
       "      <td>3</td>\n",
       "      <td>5</td>\n",
       "      <td>5</td>\n",
       "      <td>5</td>\n",
       "      <td>...</td>\n",
       "      <td>3.0</td>\n",
       "      <td>1.0</td>\n",
       "      <td>5.0</td>\n",
       "      <td>1.0</td>\n",
       "      <td>1.0</td>\n",
       "      <td>4.0</td>\n",
       "      <td>7.0</td>\n",
       "      <td>5.0</td>\n",
       "      <td>0</td>\n",
       "      <td>1</td>\n",
       "    </tr>\n",
       "    <tr>\n",
       "      <th>891220</th>\n",
       "      <td>NaN</td>\n",
       "      <td>4</td>\n",
       "      <td>1</td>\n",
       "      <td>1.0</td>\n",
       "      <td>4</td>\n",
       "      <td>2</td>\n",
       "      <td>5</td>\n",
       "      <td>2</td>\n",
       "      <td>1</td>\n",
       "      <td>5</td>\n",
       "      <td>...</td>\n",
       "      <td>1.0</td>\n",
       "      <td>0.0</td>\n",
       "      <td>1.0</td>\n",
       "      <td>4.0</td>\n",
       "      <td>4.0</td>\n",
       "      <td>3.0</td>\n",
       "      <td>4.0</td>\n",
       "      <td>5.0</td>\n",
       "      <td>0</td>\n",
       "      <td>1</td>\n",
       "    </tr>\n",
       "  </tbody>\n",
       "</table>\n",
       "<p>891221 rows × 86 columns</p>\n",
       "</div>"
      ],
      "text/plain": [
       "       AGER_TYP ALTERSKATEGORIE_GROB ANREDE_KZ CJT_GESAMTTYP  \\\n",
       "0           NaN                    2         1           2.0   \n",
       "1           NaN                    1         2           5.0   \n",
       "2           NaN                    3         2           3.0   \n",
       "3             2                    4         2           2.0   \n",
       "4           NaN                    3         1           5.0   \n",
       "...         ...                  ...       ...           ...   \n",
       "891216      NaN                    3         2           5.0   \n",
       "891217      NaN                    2         1           4.0   \n",
       "891218      NaN                    2         2           4.0   \n",
       "891219      NaN                    1         1           3.0   \n",
       "891220      NaN                    4         1           1.0   \n",
       "\n",
       "       FINANZ_MINIMALIST FINANZ_SPARER FINANZ_VORSORGER FINANZ_ANLEGER  \\\n",
       "0                      3             4                3              5   \n",
       "1                      1             5                2              5   \n",
       "2                      1             4                1              2   \n",
       "3                      4             2                5              2   \n",
       "4                      4             3                4              1   \n",
       "...                  ...           ...              ...            ...   \n",
       "891216                 1             4                2              5   \n",
       "891217                 3             3                3              2   \n",
       "891218                 2             4                2              5   \n",
       "891219                 1             5                3              5   \n",
       "891220                 4             2                5              2   \n",
       "\n",
       "       FINANZ_UNAUFFAELLIGER FINANZ_HAUSBAUER  ... PLZ8_ANTG3 PLZ8_ANTG4  \\\n",
       "0                          5                3  ...        NaN        NaN   \n",
       "1                          4                5  ...        2.0        1.0   \n",
       "2                          3                5  ...        1.0        0.0   \n",
       "3                          1                2  ...        2.0        0.0   \n",
       "4                          3                2  ...        2.0        1.0   \n",
       "...                      ...              ...  ...        ...        ...   \n",
       "891216                     4                4  ...        0.0        0.0   \n",
       "891217                     2                3  ...        3.0        2.0   \n",
       "891218                     4                3  ...        0.0        0.0   \n",
       "891219                     5                5  ...        3.0        1.0   \n",
       "891220                     1                5  ...        1.0        0.0   \n",
       "\n",
       "       PLZ8_BAUMAX PLZ8_HHZ PLZ8_GBZ ARBEIT ORTSGR_KLS9 RELAT_AB  O  W  \n",
       "0              NaN      NaN      NaN    NaN         NaN      NaN  0  0  \n",
       "1              1.0      5.0      4.0    3.0         5.0      4.0  0  1  \n",
       "2              1.0      4.0      4.0    3.0         5.0      2.0  0  1  \n",
       "3              1.0      3.0      4.0    2.0         3.0      3.0  0  1  \n",
       "4              2.0      3.0      3.0    4.0         6.0      5.0  0  1  \n",
       "...            ...      ...      ...    ...         ...      ... .. ..  \n",
       "891216         1.0      2.0      3.0    NaN         NaN      NaN  0  1  \n",
       "891217         4.0      5.0      3.0    4.0         6.0      5.0  0  1  \n",
       "891218         1.0      3.0      4.0    2.0         2.0      3.0  0  1  \n",
       "891219         5.0      1.0      1.0    4.0         7.0      5.0  0  1  \n",
       "891220         1.0      4.0      4.0    3.0         4.0      5.0  0  1  \n",
       "\n",
       "[891221 rows x 86 columns]"
      ]
     },
     "execution_count": 44,
     "metadata": {},
     "output_type": "execute_result"
    }
   ],
   "source": [
    "# Re-encode categorical variable(s) to be kept in the analysis.\n",
    "#re-encode OST-WEST-KZ to keep\n",
    "# Get one hot encoding of columns 'OST_WEST_KZ'\n",
    "one_hot = pd.get_dummies(az['OST_WEST_KZ'])\n",
    "# Drop column as it is now encoded\n",
    "az = az.drop('OST_WEST_KZ',axis = 1)\n",
    "# Join the encoded df\n",
    "az = az.join(one_hot)\n",
    "az "
   ]
  },
  {
   "cell_type": "markdown",
   "metadata": {},
   "source": [
    "#### Discussion 1.2.1: Re-Encode Categorical Features\n",
    "\n",
    "I want to keep things super simpe in order to complete the analysis and do some practice on PCA so:\n",
    "- I re-encode `OST-WEST-KZ` as a binary variable that takes on non-numeric value\n",
    "- I keep categoricals that take numeric values as is\n",
    "- I choose to drop multi-level categoricals (three or more values), from this analysis for practical reasons as I have limited capacity in my machine to elaborate a big dataset.\n"
   ]
  },
  {
   "cell_type": "markdown",
   "metadata": {},
   "source": [
    "#### Step 1.2.2: Engineer Mixed-Type Features\n",
    "\n",
    "There are a handful of features that are marked as \"mixed\" in the feature summary that require special treatment in order to be included in the analysis. There are two in particular that deserve attention; the handling of the rest are up to your own choices:\n",
    "- \"PRAEGENDE_JUGENDJAHRE\" combines information on three dimensions: generation by decade, movement (mainstream vs. avantgarde), and nation (east vs. west). While there aren't enough levels to disentangle east from west, you should create two new variables to capture the other two dimensions: an interval-type variable for decade, and a binary variable for movement.\n",
    "- \"CAMEO_INTL_2015\" combines information on two axes: wealth and life stage. Break up the two-digit codes by their 'tens'-place and 'ones'-place digits into two new ordinal variables (which, for the purposes of this project, is equivalent to just treating them as their raw numeric values).\n",
    "- If you decide to keep or engineer new features around the other mixed-type features, make sure you note your steps in the Discussion section.\n",
    "\n",
    "Be sure to check `Data_Dictionary.md` for the details needed to finish these tasks."
   ]
  },
  {
   "cell_type": "markdown",
   "metadata": {},
   "source": [
    "### Work on `\"PRAEGENDE_JUGENDJAHRE\"`"
   ]
  },
  {
   "cell_type": "markdown",
   "metadata": {},
   "source": [
    "Dominating movement of person's youth (avantgarde vs. mainstream; east vs. west)\n",
    "- -1: unknown\n",
    "-  0: unknown\n",
    "-  1: 40s - war years (Mainstream, E+W)\n",
    "-  2: 40s - reconstruction years (Avantgarde, E+W)\n",
    "-  3: 50s - economic miracle (Mainstream, E+W)\n",
    "-  4: 50s - milk bar / Individualisation (Avantgarde, E+W)\n",
    "-  5: 60s - economic miracle (Mainstream, E+W)\n",
    "-  6: 60s - generation 68 / student protestors (Avantgarde, W)\n",
    "-  7: 60s - opponents to the building of the Wall (Avantgarde, E)\n",
    "-  8: 70s - family orientation (Mainstream, E+W)\n",
    "-  9: 70s - peace movement (Avantgarde, E+W)\n",
    "- 10: 80s - Generation Golf (Mainstream, W)\n",
    "- 11: 80s - ecological awareness (Avantgarde, W)\n",
    "- 12: 80s - FDJ / communist party youth organisation (Mainstream, E)\n",
    "- 13: 80s - Swords into ploughshares (Avantgarde, E)\n",
    "- 14: 90s - digital media kids (Mainstream, E+W)\n",
    "- 15: 90s - ecological awareness (Avantgarde, E+W)"
   ]
  },
  {
   "cell_type": "code",
   "execution_count": 45,
   "metadata": {},
   "outputs": [
    {
     "data": {
      "text/plain": [
       "14    188697\n",
       "8     145988\n",
       "5      86416\n",
       "10     85808\n",
       "3      55195\n",
       "15     42547\n",
       "11     35752\n",
       "9      33570\n",
       "6      25652\n",
       "12     24446\n",
       "1      21282\n",
       "4      20451\n",
       "2       7479\n",
       "13      5764\n",
       "7       4010\n",
       "Name: PRAEGENDE_JUGENDJAHRE, dtype: int64"
      ]
     },
     "execution_count": 45,
     "metadata": {},
     "output_type": "execute_result"
    }
   ],
   "source": [
    "az['PRAEGENDE_JUGENDJAHRE'].value_counts()"
   ]
  },
  {
   "cell_type": "code",
   "execution_count": 46,
   "metadata": {},
   "outputs": [],
   "source": [
    "jug_dict = {0: 'Uknown',\n",
    "1: '40s - war years (Mainstream, E+W)',\n",
    "2: '40s - reconstruction years (Avantgarde, E+W)',\n",
    "3: '50s - economic miracle (Mainstream, E+W)',\n",
    "4: '50s - milk bar / Individualisation (Avantgarde, E+W)',\n",
    "5: '60s - economic miracle (Mainstream, E+W)',\n",
    "6: '60s - generation 68 / student protestors (Avantgarde, W)',\n",
    "7: '60s - opponents to the building of the Wall (Avantgarde, E)',\n",
    "8: '70s - family orientation (Mainstream, E+W)',\n",
    "9: '70s - peace movement (Avantgarde, E+W)',\n",
    "10: '80s - Generation Golf (Mainstream, W)',\n",
    "11: '80s - ecological awareness (Avantgarde, W)',\n",
    "12: '80s - FDJ / communist party youth organisation (Mainstream, E)',\n",
    "13: '80s - Swords into ploughshares (Avantgarde, E)',\n",
    "14: '90s - digital media kids (Mainstream, E+W)',\n",
    "15: '90s - ecological awareness (Avantgarde, E+W)'}\n"
   ]
  },
  {
   "cell_type": "code",
   "execution_count": 47,
   "metadata": {},
   "outputs": [
    {
     "data": {
      "image/png": "[encoded data removed]",
      "text/plain": [
       "<Figure size 1440x720 with 1 Axes>"
      ]
     },
     "metadata": {
      "needs_background": "light"
     },
     "output_type": "display_data"
    }
   ],
   "source": [
    "#az[\"PRAEGENDE_JUGENDJAHRE\"] = az[\"PRAEGENDE_JUGENDJAHRE\"].fillna('nan')\n",
    "plt.figure(figsize = [20, 10])\n",
    "sns.countplot(data=az, x='PRAEGENDE_JUGENDJAHRE')\n",
    "plt.xticks(rotation = 90,)\n",
    "plt.title('Jugendjahre')\n",
    "plt.show()"
   ]
  },
  {
   "cell_type": "markdown",
   "metadata": {},
   "source": [
    "**Create Decades feature**"
   ]
  },
  {
   "cell_type": "code",
   "execution_count": 48,
   "metadata": {},
   "outputs": [],
   "source": [
    "#select indexes for new feature\n",
    "decade_40 = az.query(\"PRAEGENDE_JUGENDJAHRE == '1' or PRAEGENDE_JUGENDJAHRE == '2'\").index \n",
    "decade_50 = az.query(\"PRAEGENDE_JUGENDJAHRE == '3' or PRAEGENDE_JUGENDJAHRE == '4'\").index \n",
    "decade_60 = az.query(\"PRAEGENDE_JUGENDJAHRE == '5' or PRAEGENDE_JUGENDJAHRE == '6' \\\n",
    "                   or PRAEGENDE_JUGENDJAHRE == '7'\").index\n",
    "decade_70 = az.query(\"PRAEGENDE_JUGENDJAHRE == '8' or PRAEGENDE_JUGENDJAHRE == '9'\").index \n",
    "decade_80 = az.query(\"PRAEGENDE_JUGENDJAHRE == '10' or PRAEGENDE_JUGENDJAHRE == '11' or PRAEGENDE_JUGENDJAHRE == '12' \\\n",
    "                        or PRAEGENDE_JUGENDJAHRE == '13'\").index \n",
    "decade_90 = az.query(\"PRAEGENDE_JUGENDJAHRE == '14' or PRAEGENDE_JUGENDJAHRE == '15'\").index "
   ]
  },
  {
   "cell_type": "code",
   "execution_count": 49,
   "metadata": {},
   "outputs": [],
   "source": [
    "#apply indexes in the dataframe\n",
    "az['decades'] = 0\n",
    "az.loc[decade_40, 'decades'] = 1\n",
    "az.loc[decade_50, 'decades'] = 2\n",
    "az.loc[decade_60, 'decades'] = 3\n",
    "az.loc[decade_70, 'decades'] = 4\n",
    "az.loc[decade_80, 'decades'] = 5\n",
    "az.loc[decade_90, 'decades'] = 6"
   ]
  },
  {
   "cell_type": "code",
   "execution_count": 50,
   "metadata": {},
   "outputs": [
    {
     "data": {
      "text/plain": [
       "6    231244\n",
       "4    179558\n",
       "5    151770\n",
       "3    116078\n",
       "0    108164\n",
       "2     75646\n",
       "1     28761\n",
       "Name: decades, dtype: int64"
      ]
     },
     "execution_count": 50,
     "metadata": {},
     "output_type": "execute_result"
    }
   ],
   "source": [
    "az['decades'].value_counts()"
   ]
  },
  {
   "cell_type": "code",
   "execution_count": 51,
   "metadata": {},
   "outputs": [],
   "source": [
    "#Convert decades to categorical type\n",
    "az.decades.astype('category');"
   ]
  },
  {
   "cell_type": "code",
   "execution_count": 52,
   "metadata": {},
   "outputs": [],
   "source": [
    "#Convert to ordered categorical type with custom ordering:\n",
    "cat_decades = pd.api.types.CategoricalDtype (categories=[0, 1, 2, 3, 4, 5, 6], ordered=True)\n",
    "az.decades.astype(cat_decades);"
   ]
  },
  {
   "cell_type": "code",
   "execution_count": 53,
   "metadata": {},
   "outputs": [
    {
     "data": {
      "image/png": "[encoded data removed]",
      "text/plain": [
       "<Figure size 432x288 with 1 Axes>"
      ]
     },
     "metadata": {
      "needs_background": "light"
     },
     "output_type": "display_data"
    }
   ],
   "source": [
    "sns.countplot(az.decades);"
   ]
  },
  {
   "cell_type": "markdown",
   "metadata": {},
   "source": [
    "We remember category 0 is Unknown values, they sould be treated as Nan"
   ]
  },
  {
   "cell_type": "markdown",
   "metadata": {},
   "source": [
    "**Create Movement Variable** "
   ]
  },
  {
   "cell_type": "code",
   "execution_count": 54,
   "metadata": {},
   "outputs": [
    {
     "data": {
      "text/plain": [
       "[2, 4, 6, 7, 9, 11, 13, 15]"
      ]
     },
     "execution_count": 54,
     "metadata": {},
     "output_type": "execute_result"
    }
   ],
   "source": [
    "#Select Avantage values in PRAEGENDE_JUGENDJAHRE feature\n",
    "Avantage = [k for k, v in jug_dict.items() if 'Avantgarde' in v]\n",
    "Avantage"
   ]
  },
  {
   "cell_type": "code",
   "execution_count": 55,
   "metadata": {},
   "outputs": [
    {
     "data": {
      "text/plain": [
       "[1, 3, 5, 8, 10, 12, 14]"
      ]
     },
     "execution_count": 55,
     "metadata": {},
     "output_type": "execute_result"
    }
   ],
   "source": [
    "#Select Mainstream values in PRAEGENDE_JUGENDJAHRE feature\n",
    "Mainstream = [k for k, v in jug_dict.items() if 'Mainstream' in v]\n",
    "Mainstream"
   ]
  },
  {
   "cell_type": "code",
   "execution_count": 56,
   "metadata": {},
   "outputs": [],
   "source": [
    "avtg_index = az.query(\"PRAEGENDE_JUGENDJAHRE == ['2', '4', '6', '7', '9', '11', '13', '15']\").index\n",
    "mns_index = az.query(\"PRAEGENDE_JUGENDJAHRE == ['1', '3', '5', '8', '10', '12', '14']\").index"
   ]
  },
  {
   "cell_type": "code",
   "execution_count": 57,
   "metadata": {},
   "outputs": [],
   "source": [
    "#apply indexes in the dataframe\n",
    "az['movement'] = 0\n",
    "az.loc[avtg_index, 'movement'] = 1\n",
    "az.loc[mns_index, 'movement'] = 2"
   ]
  },
  {
   "cell_type": "code",
   "execution_count": 58,
   "metadata": {},
   "outputs": [],
   "source": [
    "#Convert movement to categorical type\n",
    "az.movement.astype('category');"
   ]
  },
  {
   "cell_type": "code",
   "execution_count": 59,
   "metadata": {},
   "outputs": [
    {
     "data": {
      "image/png": "[encoded data removed]",
      "text/plain": [
       "<Figure size 432x288 with 1 Axes>"
      ]
     },
     "metadata": {
      "needs_background": "light"
     },
     "output_type": "display_data"
    }
   ],
   "source": [
    "sns.countplot(az.movement);"
   ]
  },
  {
   "cell_type": "markdown",
   "metadata": {},
   "source": [
    "Fix all Uknown values now"
   ]
  },
  {
   "cell_type": "code",
   "execution_count": 60,
   "metadata": {},
   "outputs": [
    {
     "data": {
      "text/plain": [
       "14    188697\n",
       "8     145988\n",
       "5      86416\n",
       "10     85808\n",
       "3      55195\n",
       "15     42547\n",
       "11     35752\n",
       "9      33570\n",
       "6      25652\n",
       "12     24446\n",
       "1      21282\n",
       "4      20451\n",
       "2       7479\n",
       "13      5764\n",
       "7       4010\n",
       "Name: PRAEGENDE_JUGENDJAHRE, dtype: int64"
      ]
     },
     "execution_count": 60,
     "metadata": {},
     "output_type": "execute_result"
    }
   ],
   "source": [
    "az.PRAEGENDE_JUGENDJAHRE.value_counts()"
   ]
  },
  {
   "cell_type": "markdown",
   "metadata": {},
   "source": [
    "### Work on `CAMEO_INTL_2015`"
   ]
  },
  {
   "cell_type": "markdown",
   "metadata": {},
   "source": [
    "Create **household variable**"
   ]
  },
  {
   "cell_type": "code",
   "execution_count": 61,
   "metadata": {},
   "outputs": [],
   "source": [
    "#Remove NaN and 'nan' replaced from NaN as strings to perform filtering\n",
    "az['CAMEO_INTL_2015'] = az.CAMEO_INTL_2015.astype('str').replace(np.nan, '0').replace('nan', '0').replace('NaN', '0')"
   ]
  },
  {
   "cell_type": "code",
   "execution_count": 62,
   "metadata": {},
   "outputs": [
    {
     "data": {
      "text/plain": [
       "0"
      ]
     },
     "execution_count": 62,
     "metadata": {},
     "output_type": "execute_result"
    }
   ],
   "source": [
    "#check null values\n",
    "az.CAMEO_INTL_2015.isnull().sum()"
   ]
  },
  {
   "cell_type": "markdown",
   "metadata": {},
   "source": [
    "Ok with no null values we can proceed"
   ]
  },
  {
   "cell_type": "code",
   "execution_count": 63,
   "metadata": {},
   "outputs": [
    {
     "data": {
      "image/png": "[encoded data removed]",
      "text/plain": [
       "<Figure size 432x288 with 1 Axes>"
      ]
     },
     "metadata": {
      "needs_background": "light"
     },
     "output_type": "display_data"
    }
   ],
   "source": [
    "# Investigate \"CAMEO_INTL_2015\" and engineer two new variables.\n",
    "sns.countplot(az.CAMEO_INTL_2015);"
   ]
  },
  {
   "cell_type": "markdown",
   "metadata": {},
   "source": [
    "German CAMEO: Wealth / Life Stage Typology, mapped to international code\n",
    "- -1: unknown\n",
    "- 11: Wealthy Households - Pre-Family Couples & Singles\n",
    "- 12: Wealthy Households - Young Couples With Children\n",
    "- 13: Wealthy Households - Families With School Age Children\n",
    "- 14: Wealthy Households - Older Families &  Mature Couples\n",
    "- 15: Wealthy Households - Elders In Retirement\n",
    "- 21: Prosperous Households - Pre-Family Couples & Singles\n",
    "- 22: Prosperous Households - Young Couples With Children\n",
    "- 23: Prosperous Households - Families With School Age Children\n",
    "- 24: Prosperous Households - Older Families & Mature Couples\n",
    "- 25: Prosperous Households - Elders In Retirement\n",
    "- 31: Comfortable Households - Pre-Family Couples & Singles\n",
    "- 32: Comfortable Households - Young Couples With Children\n",
    "- 33: Comfortable Households - Families With School Age Children\n",
    "- 34: Comfortable Households - Older Families & Mature Couples\n",
    "- 35: Comfortable Households - Elders In Retirement\n",
    "- 41: Less Affluent Households - Pre-Family Couples & Singles\n",
    "- 42: Less Affluent Households - Young Couples With Children\n",
    "- 43: Less Affluent Households - Families With School Age Children\n",
    "- 44: Less Affluent Households - Older Families & Mature Couples\n",
    "- 45: Less Affluent Households - Elders In Retirement\n",
    "- 51: Poorer Households - Pre-Family Couples & Singles\n",
    "- 52: Poorer Households - Young Couples With Children\n",
    "- 53: Poorer Households - Families With School Age Children\n",
    "- 54: Poorer Households - Older Families & Mature Couples\n",
    "- 55: Poorer Households - Elders In Retirement\n",
    "- XX: unknown"
   ]
  },
  {
   "cell_type": "code",
   "execution_count": 64,
   "metadata": {},
   "outputs": [],
   "source": [
    "cameo_dict = {'-1': 'unknown',\n",
    "11: 'Wealthy Households - Pre-Family Couples & Singles',\n",
    "12: 'Wealthy Households - Young Couples With Children',\n",
    "13: 'Wealthy Households - Families With School Age Children',\n",
    "14: 'Wealthy Households - Older Families & Mature Couples',\n",
    "15: 'Wealthy Households - Elders In Retirement',\n",
    "21: 'Prosperous Households - Pre-Family Couples & Singles',\n",
    "22: 'Prosperous Households - Young Couples With Children',\n",
    "23: 'Prosperous Households - Families With School Age Children',\n",
    "24: 'Prosperous Households - Older Families & Mature Couples',\n",
    "25: 'Prosperous Households - Elders In Retirement',\n",
    "31: 'Comfortable Households - Pre-Family Couples & Singles',\n",
    "32: 'Comfortable Households - Young Couples With Children',\n",
    "33: 'Comfortable Households - Families With School Age Children',\n",
    "34: 'Comfortable Households - Older Families & Mature Couples',\n",
    "35: 'Comfortable Households - Elders In Retirement',\n",
    "41: 'Less Affluent Households - Pre-Family Couples & Singles',\n",
    "42: 'Less Affluent Households - Young Couples With Children',\n",
    "43: 'Less Affluent Households - Families With School Age Children',\n",
    "44: 'Less Affluent Households - Older Families & Mature Couples',\n",
    "45: 'Less Affluent Households - Elders In Retirement',\n",
    "51: 'Poorer Households - Pre-Family Couples & Singles',\n",
    "52: 'Poorer Households - Young Couples With Children',\n",
    "53: 'Poorer Households - Families With School Age Children',\n",
    "54: 'Poorer Households - Older Families & Mature Couples',\n",
    "55: 'Poorer Households - Elders In Retirement',\n",
    "'XX': 'unknown'}"
   ]
  },
  {
   "cell_type": "code",
   "execution_count": 65,
   "metadata": {},
   "outputs": [
    {
     "name": "stdout",
     "output_type": "stream",
     "text": [
      "Wealthy: [11, 12, 13, 14, 15]\n",
      "Prosperous: [21, 22, 23, 24, 25]\n",
      "Comfortable: [31, 32, 33, 34, 35]\n",
      "Less Affluent: [41, 42, 43, 44, 45]\n",
      "Poorer: [51, 52, 53, 54, 55]\n"
     ]
    }
   ],
   "source": [
    "#Select Wealthy houses in CAMEO_INTL_2015 feature\n",
    "Wealthy = [k for k, v in cameo_dict.items() if 'Wealthy' in v]\n",
    "print('Wealthy: {}'.format(Wealthy))\n",
    "#Select Wealthy houses in CAMEO_INTL_2015 feature\n",
    "Prosperous = [k for k, v in cameo_dict.items() if 'Prosperous' in v]\n",
    "print('Prosperous: {}'.format(Prosperous))\n",
    "Comfortable = [k for k, v in cameo_dict.items() if 'Comfortable' in v]\n",
    "print('Comfortable: {}'.format(Comfortable))\n",
    "Less_Affluent = [k for k, v in cameo_dict.items() if 'Less Affluent' in v]\n",
    "print('Less Affluent: {}'.format(Less_Affluent))\n",
    "Poorer = [k for k, v in cameo_dict.items() if 'Poorer' in v]\n",
    "print('Poorer: {}'.format(Poorer))"
   ]
  },
  {
   "cell_type": "code",
   "execution_count": 66,
   "metadata": {},
   "outputs": [],
   "source": [
    "wealthy_index = az.query(\"CAMEO_INTL_2015 == ['11', '12', '13', '14', '15']\").index\n",
    "prosperous_index = az.query(\"CAMEO_INTL_2015 == ['21', '22', '23', '24', '25']\").index\n",
    "comfortable_index = az.query(\"CAMEO_INTL_2015 == ['31', '32', '33', '34', '35']\").index\n",
    "less_Affluent_index = az.query(\"CAMEO_INTL_2015 == ['41', '42', '43', '44', '45']\").index\n",
    "poorer_index = az.query(\"CAMEO_INTL_2015 == ['51', '52', '53', '54', '55']\").index"
   ]
  },
  {
   "cell_type": "code",
   "execution_count": 67,
   "metadata": {},
   "outputs": [],
   "source": [
    "#apply indexes in the dataframe\n",
    "az['household'] = 0\n",
    "az.loc[wealthy_index, 'household'] = 5\n",
    "az.loc[prosperous_index, 'household'] = 4\n",
    "az.loc[comfortable_index, 'household'] = 3\n",
    "az.loc[less_Affluent_index, 'household'] = 2\n",
    "az.loc[poorer_index, 'household'] = 1"
   ]
  },
  {
   "cell_type": "code",
   "execution_count": 68,
   "metadata": {},
   "outputs": [],
   "source": [
    "#Convert hosehold to categorical type\n",
    "az.household.astype('category');"
   ]
  },
  {
   "cell_type": "code",
   "execution_count": 69,
   "metadata": {},
   "outputs": [],
   "source": [
    "#Convert to ordered categorical type with custom ordering:\n",
    "cat_household = pd.api.types.CategoricalDtype (categories=[0, 1, 2, 3, 4, 5], ordered=True)\n",
    "az.household.astype(cat_household);"
   ]
  },
  {
   "cell_type": "code",
   "execution_count": 70,
   "metadata": {},
   "outputs": [
    {
     "data": {
      "image/png": "[encoded data removed]",
      "text/plain": [
       "<Figure size 432x288 with 1 Axes>"
      ]
     },
     "metadata": {
      "needs_background": "light"
     },
     "output_type": "display_data"
    }
   ],
   "source": [
    "sns.countplot(az.household);"
   ]
  },
  {
   "cell_type": "markdown",
   "metadata": {},
   "source": [
    "**Create nucleo feature**"
   ]
  },
  {
   "cell_type": "code",
   "execution_count": 71,
   "metadata": {},
   "outputs": [
    {
     "name": "stdout",
     "output_type": "stream",
     "text": [
      "['11', '21', '31', '41', '51'] ['12', '22', '32', '42', '52'] ['13', '23', '33', '43', '53'] ['14', '24', '34', '44', '54'] ['15', '25', '35', '45', '55']\n"
     ]
    }
   ],
   "source": [
    "#Select single family values in CAMEO_INTL_2015 feature\n",
    "singles = [str(k) for k, v in cameo_dict.items() if 'Singles' in v]\n",
    "#Select young family values in CAMEO_INTL_2015 feature\n",
    "young = [str(k) for k, v in cameo_dict.items() if 'Young' in v]\n",
    "#Select School family values in CAMEO_INTL_2015 feature\n",
    "school = [str(k) for k, v in cameo_dict.items() if 'School' in v]\n",
    "#Select Mature family values in CAMEO_INTL_2015 feature\n",
    "mature = [str(k) for k, v in cameo_dict.items() if 'Mature' in v]\n",
    "#Select Elders family values in CAMEO_INTL_2015 feature\n",
    "elders = [str(k) for k, v in cameo_dict.items() if 'Elders' in v]\n",
    "print(singles, young, school, mature, elders)"
   ]
  },
  {
   "cell_type": "code",
   "execution_count": 72,
   "metadata": {},
   "outputs": [],
   "source": [
    "singles_index = az.query(\"CAMEO_INTL_2015 == ['11', '21', '31', '41', '51']\").index\n",
    "young_index = az.query(\"CAMEO_INTL_2015 == ['12', '22', '32', '42', '52']\").index\n",
    "school_index = az.query(\"CAMEO_INTL_2015 == ['13', '23', '33', '43', '53']\").index\n",
    "mature_index = az.query(\"CAMEO_INTL_2015 == ['14', '24', '34', '44', '54']\").index\n",
    "elders_index = az.query(\"CAMEO_INTL_2015 == ['15', '25', '35', '45', '55']\").index"
   ]
  },
  {
   "cell_type": "code",
   "execution_count": 73,
   "metadata": {},
   "outputs": [],
   "source": [
    "#apply indexes in the dataframe\n",
    "az['nucleo'] = 0\n",
    "az.loc[elders_index, 'nucleo'] = 5\n",
    "az.loc[mature_index, 'nucleo'] = 4\n",
    "az.loc[school_index, 'nucleo'] = 3\n",
    "az.loc[young_index, 'nucleo'] = 2\n",
    "az.loc[singles_index, 'nucleo'] = 1"
   ]
  },
  {
   "cell_type": "code",
   "execution_count": 74,
   "metadata": {},
   "outputs": [],
   "source": [
    "#Convert nucleo to categorical type\n",
    "az.nucleo.astype('category');"
   ]
  },
  {
   "cell_type": "code",
   "execution_count": 75,
   "metadata": {},
   "outputs": [],
   "source": [
    "#Convert to ordered categorical type with custom ordering:\n",
    "cat_nucleo = pd.api.types.CategoricalDtype (categories=[0, 1, 2, 3, 4, 5], ordered=True)\n",
    "az.nucleo.astype(cat_nucleo);"
   ]
  },
  {
   "cell_type": "code",
   "execution_count": 76,
   "metadata": {},
   "outputs": [
    {
     "data": {
      "image/png": "[encoded data removed]",
      "text/plain": [
       "<Figure size 432x288 with 1 Axes>"
      ]
     },
     "metadata": {
      "needs_background": "light"
     },
     "output_type": "display_data"
    }
   ],
   "source": [
    "sns.countplot(az.nucleo);"
   ]
  },
  {
   "cell_type": "markdown",
   "metadata": {},
   "source": [
    "#### Discussion 1.2.2: Engineer Mixed-Type Features\n",
    "\n",
    "We have created two ordinal features: `nucleo`, `household`, `decades`\n",
    "And one binary variable: `movement`"
   ]
  },
  {
   "cell_type": "markdown",
   "metadata": {},
   "source": [
    "#### Step 1.2.3: Complete Feature Selection\n",
    "\n",
    "In order to finish this step up, you need to make sure that your data frame now only has the columns that you want to keep. To summarize, the dataframe should consist of the following:\n",
    "- All numeric, interval, and ordinal type columns from the original dataset.\n",
    "- Binary categorical features (all numerically-encoded).\n",
    "- Engineered features from other multi-level categorical features and mixed features.\n",
    "\n",
    "Make sure that for any new columns that you have engineered, that you've excluded the original columns from the final dataset. Otherwise, their values will interfere with the analysis later on the project. For example, you should not keep \"PRAEGENDE_JUGENDJAHRE\", since its values won't be useful for the algorithm: only the values derived from it in the engineered features you created should be retained. As a reminder, your data should only be from **the subset with few or no missing values**."
   ]
  },
  {
   "cell_type": "code",
   "execution_count": 77,
   "metadata": {},
   "outputs": [
    {
     "name": "stdout",
     "output_type": "stream",
     "text": [
      "Deleted AGER_TYP\n",
      "Deleted CJT_GESAMTTYP\n",
      "Deleted FINANZTYP\n",
      "Deleted GFK_URLAUBERTYP\n",
      "Deleted LP_FAMILIE_FEIN\n",
      "Deleted LP_FAMILIE_GROB\n",
      "Deleted LP_STATUS_FEIN\n",
      "Deleted LP_STATUS_GROB\n",
      "Deleted NATIONALITAET_KZ\n",
      "Deleted SHOPPER_TYP\n",
      "Deleted SOHO_KZ\n",
      "Deleted TITEL_KZ\n",
      "Deleted VERS_TYP\n",
      "Deleted ZABEOTYP\n",
      "Deleted KK_KUNDENTYP\n",
      "Deleted GEBAEUDETYP\n",
      "Deleted WOHNLAGE\n",
      "Deleted CAMEO_DEU_2015\n",
      "Deleted CAMEO_INTL_2015\n"
     ]
    }
   ],
   "source": [
    "# If there are other re-engineering tasks you need to perform, make sure you\n",
    "# take care of them here. (Dealing with missing data will come in step 2.1.)\n",
    "for column in az.iloc[:,[0, 2, 3, 10, 12, 13, 17, 18, 19, 20, 21, 38, 39, 40, 41, 42, 47, 52, 55, 57, 58]].columns:\n",
    "    if len(az[column].unique()) >= 3:\n",
    "        az.drop(column, axis =1, inplace = True)\n",
    "        print(f'Deleted {column}')"
   ]
  },
  {
   "cell_type": "code",
   "execution_count": 78,
   "metadata": {},
   "outputs": [
    {
     "name": "stdout",
     "output_type": "stream",
     "text": [
      "Droped GEBURTSJAHR column.\n"
     ]
    },
    {
     "data": {
      "text/html": [
       "<div>\n",
       "<style scoped>\n",
       "    .dataframe tbody tr th:only-of-type {\n",
       "        vertical-align: middle;\n",
       "    }\n",
       "\n",
       "    .dataframe tbody tr th {\n",
       "        vertical-align: top;\n",
       "    }\n",
       "\n",
       "    .dataframe thead th {\n",
       "        text-align: right;\n",
       "    }\n",
       "</style>\n",
       "<table border=\"1\" class=\"dataframe\">\n",
       "  <thead>\n",
       "    <tr style=\"text-align: right;\">\n",
       "      <th></th>\n",
       "      <th>ALTERSKATEGORIE_GROB</th>\n",
       "      <th>ANREDE_KZ</th>\n",
       "      <th>FINANZ_MINIMALIST</th>\n",
       "      <th>FINANZ_SPARER</th>\n",
       "      <th>FINANZ_VORSORGER</th>\n",
       "      <th>FINANZ_ANLEGER</th>\n",
       "      <th>FINANZ_UNAUFFAELLIGER</th>\n",
       "      <th>FINANZ_HAUSBAUER</th>\n",
       "      <th>GREEN_AVANTGARDE</th>\n",
       "      <th>HEALTH_TYP</th>\n",
       "      <th>...</th>\n",
       "      <th>PLZ8_GBZ</th>\n",
       "      <th>ARBEIT</th>\n",
       "      <th>ORTSGR_KLS9</th>\n",
       "      <th>RELAT_AB</th>\n",
       "      <th>O</th>\n",
       "      <th>W</th>\n",
       "      <th>decades</th>\n",
       "      <th>movement</th>\n",
       "      <th>household</th>\n",
       "      <th>nucleo</th>\n",
       "    </tr>\n",
       "  </thead>\n",
       "  <tbody>\n",
       "    <tr>\n",
       "      <th>0</th>\n",
       "      <td>2</td>\n",
       "      <td>1</td>\n",
       "      <td>3</td>\n",
       "      <td>4</td>\n",
       "      <td>3</td>\n",
       "      <td>5</td>\n",
       "      <td>5</td>\n",
       "      <td>3</td>\n",
       "      <td>0</td>\n",
       "      <td>NaN</td>\n",
       "      <td>...</td>\n",
       "      <td>NaN</td>\n",
       "      <td>NaN</td>\n",
       "      <td>NaN</td>\n",
       "      <td>NaN</td>\n",
       "      <td>0</td>\n",
       "      <td>0</td>\n",
       "      <td>0</td>\n",
       "      <td>0</td>\n",
       "      <td>0</td>\n",
       "      <td>0</td>\n",
       "    </tr>\n",
       "    <tr>\n",
       "      <th>1</th>\n",
       "      <td>1</td>\n",
       "      <td>2</td>\n",
       "      <td>1</td>\n",
       "      <td>5</td>\n",
       "      <td>2</td>\n",
       "      <td>5</td>\n",
       "      <td>4</td>\n",
       "      <td>5</td>\n",
       "      <td>0</td>\n",
       "      <td>3</td>\n",
       "      <td>...</td>\n",
       "      <td>4.0</td>\n",
       "      <td>3.0</td>\n",
       "      <td>5.0</td>\n",
       "      <td>4.0</td>\n",
       "      <td>0</td>\n",
       "      <td>1</td>\n",
       "      <td>6</td>\n",
       "      <td>2</td>\n",
       "      <td>1</td>\n",
       "      <td>1</td>\n",
       "    </tr>\n",
       "    <tr>\n",
       "      <th>2</th>\n",
       "      <td>3</td>\n",
       "      <td>2</td>\n",
       "      <td>1</td>\n",
       "      <td>4</td>\n",
       "      <td>1</td>\n",
       "      <td>2</td>\n",
       "      <td>3</td>\n",
       "      <td>5</td>\n",
       "      <td>1</td>\n",
       "      <td>3</td>\n",
       "      <td>...</td>\n",
       "      <td>4.0</td>\n",
       "      <td>3.0</td>\n",
       "      <td>5.0</td>\n",
       "      <td>2.0</td>\n",
       "      <td>0</td>\n",
       "      <td>1</td>\n",
       "      <td>6</td>\n",
       "      <td>1</td>\n",
       "      <td>4</td>\n",
       "      <td>4</td>\n",
       "    </tr>\n",
       "    <tr>\n",
       "      <th>3</th>\n",
       "      <td>4</td>\n",
       "      <td>2</td>\n",
       "      <td>4</td>\n",
       "      <td>2</td>\n",
       "      <td>5</td>\n",
       "      <td>2</td>\n",
       "      <td>1</td>\n",
       "      <td>2</td>\n",
       "      <td>0</td>\n",
       "      <td>2</td>\n",
       "      <td>...</td>\n",
       "      <td>4.0</td>\n",
       "      <td>2.0</td>\n",
       "      <td>3.0</td>\n",
       "      <td>3.0</td>\n",
       "      <td>0</td>\n",
       "      <td>1</td>\n",
       "      <td>4</td>\n",
       "      <td>2</td>\n",
       "      <td>5</td>\n",
       "      <td>2</td>\n",
       "    </tr>\n",
       "    <tr>\n",
       "      <th>4</th>\n",
       "      <td>3</td>\n",
       "      <td>1</td>\n",
       "      <td>4</td>\n",
       "      <td>3</td>\n",
       "      <td>4</td>\n",
       "      <td>1</td>\n",
       "      <td>3</td>\n",
       "      <td>2</td>\n",
       "      <td>0</td>\n",
       "      <td>3</td>\n",
       "      <td>...</td>\n",
       "      <td>3.0</td>\n",
       "      <td>4.0</td>\n",
       "      <td>6.0</td>\n",
       "      <td>5.0</td>\n",
       "      <td>0</td>\n",
       "      <td>1</td>\n",
       "      <td>4</td>\n",
       "      <td>2</td>\n",
       "      <td>2</td>\n",
       "      <td>3</td>\n",
       "    </tr>\n",
       "    <tr>\n",
       "      <th>...</th>\n",
       "      <td>...</td>\n",
       "      <td>...</td>\n",
       "      <td>...</td>\n",
       "      <td>...</td>\n",
       "      <td>...</td>\n",
       "      <td>...</td>\n",
       "      <td>...</td>\n",
       "      <td>...</td>\n",
       "      <td>...</td>\n",
       "      <td>...</td>\n",
       "      <td>...</td>\n",
       "      <td>...</td>\n",
       "      <td>...</td>\n",
       "      <td>...</td>\n",
       "      <td>...</td>\n",
       "      <td>...</td>\n",
       "      <td>...</td>\n",
       "      <td>...</td>\n",
       "      <td>...</td>\n",
       "      <td>...</td>\n",
       "      <td>...</td>\n",
       "    </tr>\n",
       "    <tr>\n",
       "      <th>891216</th>\n",
       "      <td>3</td>\n",
       "      <td>2</td>\n",
       "      <td>1</td>\n",
       "      <td>4</td>\n",
       "      <td>2</td>\n",
       "      <td>5</td>\n",
       "      <td>4</td>\n",
       "      <td>4</td>\n",
       "      <td>0</td>\n",
       "      <td>3</td>\n",
       "      <td>...</td>\n",
       "      <td>3.0</td>\n",
       "      <td>NaN</td>\n",
       "      <td>NaN</td>\n",
       "      <td>NaN</td>\n",
       "      <td>0</td>\n",
       "      <td>1</td>\n",
       "      <td>6</td>\n",
       "      <td>2</td>\n",
       "      <td>2</td>\n",
       "      <td>1</td>\n",
       "    </tr>\n",
       "    <tr>\n",
       "      <th>891217</th>\n",
       "      <td>2</td>\n",
       "      <td>1</td>\n",
       "      <td>3</td>\n",
       "      <td>3</td>\n",
       "      <td>3</td>\n",
       "      <td>2</td>\n",
       "      <td>2</td>\n",
       "      <td>3</td>\n",
       "      <td>0</td>\n",
       "      <td>NaN</td>\n",
       "      <td>...</td>\n",
       "      <td>3.0</td>\n",
       "      <td>4.0</td>\n",
       "      <td>6.0</td>\n",
       "      <td>5.0</td>\n",
       "      <td>0</td>\n",
       "      <td>1</td>\n",
       "      <td>5</td>\n",
       "      <td>2</td>\n",
       "      <td>1</td>\n",
       "      <td>1</td>\n",
       "    </tr>\n",
       "    <tr>\n",
       "      <th>891218</th>\n",
       "      <td>2</td>\n",
       "      <td>2</td>\n",
       "      <td>2</td>\n",
       "      <td>4</td>\n",
       "      <td>2</td>\n",
       "      <td>5</td>\n",
       "      <td>4</td>\n",
       "      <td>3</td>\n",
       "      <td>0</td>\n",
       "      <td>1</td>\n",
       "      <td>...</td>\n",
       "      <td>4.0</td>\n",
       "      <td>2.0</td>\n",
       "      <td>2.0</td>\n",
       "      <td>3.0</td>\n",
       "      <td>0</td>\n",
       "      <td>1</td>\n",
       "      <td>6</td>\n",
       "      <td>2</td>\n",
       "      <td>4</td>\n",
       "      <td>4</td>\n",
       "    </tr>\n",
       "    <tr>\n",
       "      <th>891219</th>\n",
       "      <td>1</td>\n",
       "      <td>1</td>\n",
       "      <td>1</td>\n",
       "      <td>5</td>\n",
       "      <td>3</td>\n",
       "      <td>5</td>\n",
       "      <td>5</td>\n",
       "      <td>5</td>\n",
       "      <td>0</td>\n",
       "      <td>1</td>\n",
       "      <td>...</td>\n",
       "      <td>1.0</td>\n",
       "      <td>4.0</td>\n",
       "      <td>7.0</td>\n",
       "      <td>5.0</td>\n",
       "      <td>0</td>\n",
       "      <td>1</td>\n",
       "      <td>6</td>\n",
       "      <td>2</td>\n",
       "      <td>1</td>\n",
       "      <td>1</td>\n",
       "    </tr>\n",
       "    <tr>\n",
       "      <th>891220</th>\n",
       "      <td>4</td>\n",
       "      <td>1</td>\n",
       "      <td>4</td>\n",
       "      <td>2</td>\n",
       "      <td>5</td>\n",
       "      <td>2</td>\n",
       "      <td>1</td>\n",
       "      <td>5</td>\n",
       "      <td>0</td>\n",
       "      <td>2</td>\n",
       "      <td>...</td>\n",
       "      <td>4.0</td>\n",
       "      <td>3.0</td>\n",
       "      <td>4.0</td>\n",
       "      <td>5.0</td>\n",
       "      <td>0</td>\n",
       "      <td>1</td>\n",
       "      <td>2</td>\n",
       "      <td>2</td>\n",
       "      <td>2</td>\n",
       "      <td>3</td>\n",
       "    </tr>\n",
       "  </tbody>\n",
       "</table>\n",
       "<p>891221 rows × 70 columns</p>\n",
       "</div>"
      ],
      "text/plain": [
       "       ALTERSKATEGORIE_GROB ANREDE_KZ FINANZ_MINIMALIST FINANZ_SPARER  \\\n",
       "0                         2         1                 3             4   \n",
       "1                         1         2                 1             5   \n",
       "2                         3         2                 1             4   \n",
       "3                         4         2                 4             2   \n",
       "4                         3         1                 4             3   \n",
       "...                     ...       ...               ...           ...   \n",
       "891216                    3         2                 1             4   \n",
       "891217                    2         1                 3             3   \n",
       "891218                    2         2                 2             4   \n",
       "891219                    1         1                 1             5   \n",
       "891220                    4         1                 4             2   \n",
       "\n",
       "       FINANZ_VORSORGER FINANZ_ANLEGER FINANZ_UNAUFFAELLIGER FINANZ_HAUSBAUER  \\\n",
       "0                     3              5                     5                3   \n",
       "1                     2              5                     4                5   \n",
       "2                     1              2                     3                5   \n",
       "3                     5              2                     1                2   \n",
       "4                     4              1                     3                2   \n",
       "...                 ...            ...                   ...              ...   \n",
       "891216                2              5                     4                4   \n",
       "891217                3              2                     2                3   \n",
       "891218                2              5                     4                3   \n",
       "891219                3              5                     5                5   \n",
       "891220                5              2                     1                5   \n",
       "\n",
       "       GREEN_AVANTGARDE HEALTH_TYP  ... PLZ8_GBZ ARBEIT ORTSGR_KLS9 RELAT_AB  \\\n",
       "0                     0        NaN  ...      NaN    NaN         NaN      NaN   \n",
       "1                     0          3  ...      4.0    3.0         5.0      4.0   \n",
       "2                     1          3  ...      4.0    3.0         5.0      2.0   \n",
       "3                     0          2  ...      4.0    2.0         3.0      3.0   \n",
       "4                     0          3  ...      3.0    4.0         6.0      5.0   \n",
       "...                 ...        ...  ...      ...    ...         ...      ...   \n",
       "891216                0          3  ...      3.0    NaN         NaN      NaN   \n",
       "891217                0        NaN  ...      3.0    4.0         6.0      5.0   \n",
       "891218                0          1  ...      4.0    2.0         2.0      3.0   \n",
       "891219                0          1  ...      1.0    4.0         7.0      5.0   \n",
       "891220                0          2  ...      4.0    3.0         4.0      5.0   \n",
       "\n",
       "        O  W decades movement household nucleo  \n",
       "0       0  0       0        0         0      0  \n",
       "1       0  1       6        2         1      1  \n",
       "2       0  1       6        1         4      4  \n",
       "3       0  1       4        2         5      2  \n",
       "4       0  1       4        2         2      3  \n",
       "...    .. ..     ...      ...       ...    ...  \n",
       "891216  0  1       6        2         2      1  \n",
       "891217  0  1       5        2         1      1  \n",
       "891218  0  1       6        2         4      4  \n",
       "891219  0  1       6        2         1      1  \n",
       "891220  0  1       2        2         2      3  \n",
       "\n",
       "[891221 rows x 70 columns]"
      ]
     },
     "execution_count": 78,
     "metadata": {},
     "output_type": "execute_result"
    }
   ],
   "source": [
    "#Delete columns with nulls more than 35%\n",
    "drop_threashold_nulls(az)"
   ]
  },
  {
   "cell_type": "code",
   "execution_count": 80,
   "metadata": {},
   "outputs": [],
   "source": [
    "#drop Nan Values here\n",
    "az.dropna(inplace = True)"
   ]
  },
  {
   "cell_type": "code",
   "execution_count": 81,
   "metadata": {},
   "outputs": [
    {
     "data": {
      "text/html": [
       "<div>\n",
       "<style scoped>\n",
       "    .dataframe tbody tr th:only-of-type {\n",
       "        vertical-align: middle;\n",
       "    }\n",
       "\n",
       "    .dataframe tbody tr th {\n",
       "        vertical-align: top;\n",
       "    }\n",
       "\n",
       "    .dataframe thead th {\n",
       "        text-align: right;\n",
       "    }\n",
       "</style>\n",
       "<table border=\"1\" class=\"dataframe\">\n",
       "  <thead>\n",
       "    <tr style=\"text-align: right;\">\n",
       "      <th></th>\n",
       "      <th>AGER_TYP</th>\n",
       "      <th>ALTERSKATEGORIE_GROB</th>\n",
       "      <th>ANREDE_KZ</th>\n",
       "      <th>CJT_GESAMTTYP</th>\n",
       "      <th>FINANZ_MINIMALIST</th>\n",
       "      <th>FINANZ_SPARER</th>\n",
       "      <th>FINANZ_VORSORGER</th>\n",
       "      <th>FINANZ_ANLEGER</th>\n",
       "      <th>FINANZ_UNAUFFAELLIGER</th>\n",
       "      <th>FINANZ_HAUSBAUER</th>\n",
       "      <th>...</th>\n",
       "      <th>PLZ8_ANTG1</th>\n",
       "      <th>PLZ8_ANTG2</th>\n",
       "      <th>PLZ8_ANTG3</th>\n",
       "      <th>PLZ8_ANTG4</th>\n",
       "      <th>PLZ8_BAUMAX</th>\n",
       "      <th>PLZ8_HHZ</th>\n",
       "      <th>PLZ8_GBZ</th>\n",
       "      <th>ARBEIT</th>\n",
       "      <th>ORTSGR_KLS9</th>\n",
       "      <th>RELAT_AB</th>\n",
       "    </tr>\n",
       "  </thead>\n",
       "  <tbody>\n",
       "    <tr>\n",
       "      <th>0</th>\n",
       "      <td>-1</td>\n",
       "      <td>3</td>\n",
       "      <td>1</td>\n",
       "      <td>5.0</td>\n",
       "      <td>4</td>\n",
       "      <td>3</td>\n",
       "      <td>4</td>\n",
       "      <td>1</td>\n",
       "      <td>3</td>\n",
       "      <td>2</td>\n",
       "      <td>...</td>\n",
       "      <td>2.0</td>\n",
       "      <td>4.0</td>\n",
       "      <td>2.0</td>\n",
       "      <td>1.0</td>\n",
       "      <td>2.0</td>\n",
       "      <td>3.0</td>\n",
       "      <td>3.0</td>\n",
       "      <td>4.0</td>\n",
       "      <td>6.0</td>\n",
       "      <td>5.0</td>\n",
       "    </tr>\n",
       "    <tr>\n",
       "      <th>1</th>\n",
       "      <td>3</td>\n",
       "      <td>1</td>\n",
       "      <td>2</td>\n",
       "      <td>2.0</td>\n",
       "      <td>3</td>\n",
       "      <td>1</td>\n",
       "      <td>5</td>\n",
       "      <td>2</td>\n",
       "      <td>2</td>\n",
       "      <td>5</td>\n",
       "      <td>...</td>\n",
       "      <td>2.0</td>\n",
       "      <td>3.0</td>\n",
       "      <td>1.0</td>\n",
       "      <td>1.0</td>\n",
       "      <td>1.0</td>\n",
       "      <td>5.0</td>\n",
       "      <td>5.0</td>\n",
       "      <td>2.0</td>\n",
       "      <td>3.0</td>\n",
       "      <td>3.0</td>\n",
       "    </tr>\n",
       "    <tr>\n",
       "      <th>2</th>\n",
       "      <td>-1</td>\n",
       "      <td>3</td>\n",
       "      <td>2</td>\n",
       "      <td>4.0</td>\n",
       "      <td>2</td>\n",
       "      <td>4</td>\n",
       "      <td>2</td>\n",
       "      <td>3</td>\n",
       "      <td>5</td>\n",
       "      <td>4</td>\n",
       "      <td>...</td>\n",
       "      <td>2.0</td>\n",
       "      <td>3.0</td>\n",
       "      <td>2.0</td>\n",
       "      <td>1.0</td>\n",
       "      <td>1.0</td>\n",
       "      <td>3.0</td>\n",
       "      <td>3.0</td>\n",
       "      <td>2.0</td>\n",
       "      <td>3.0</td>\n",
       "      <td>1.0</td>\n",
       "    </tr>\n",
       "    <tr>\n",
       "      <th>3</th>\n",
       "      <td>-1</td>\n",
       "      <td>1</td>\n",
       "      <td>2</td>\n",
       "      <td>3.0</td>\n",
       "      <td>2</td>\n",
       "      <td>5</td>\n",
       "      <td>3</td>\n",
       "      <td>5</td>\n",
       "      <td>5</td>\n",
       "      <td>2</td>\n",
       "      <td>...</td>\n",
       "      <td>3.0</td>\n",
       "      <td>2.0</td>\n",
       "      <td>1.0</td>\n",
       "      <td>0.0</td>\n",
       "      <td>1.0</td>\n",
       "      <td>4.0</td>\n",
       "      <td>5.0</td>\n",
       "      <td>3.0</td>\n",
       "      <td>5.0</td>\n",
       "      <td>2.0</td>\n",
       "    </tr>\n",
       "    <tr>\n",
       "      <th>4</th>\n",
       "      <td>-1</td>\n",
       "      <td>1</td>\n",
       "      <td>2</td>\n",
       "      <td>5.0</td>\n",
       "      <td>3</td>\n",
       "      <td>4</td>\n",
       "      <td>2</td>\n",
       "      <td>5</td>\n",
       "      <td>4</td>\n",
       "      <td>2</td>\n",
       "      <td>...</td>\n",
       "      <td>4.0</td>\n",
       "      <td>3.0</td>\n",
       "      <td>1.0</td>\n",
       "      <td>0.0</td>\n",
       "      <td>1.0</td>\n",
       "      <td>2.0</td>\n",
       "      <td>3.0</td>\n",
       "      <td>3.0</td>\n",
       "      <td>3.0</td>\n",
       "      <td>1.0</td>\n",
       "    </tr>\n",
       "    <tr>\n",
       "      <th>...</th>\n",
       "      <td>...</td>\n",
       "      <td>...</td>\n",
       "      <td>...</td>\n",
       "      <td>...</td>\n",
       "      <td>...</td>\n",
       "      <td>...</td>\n",
       "      <td>...</td>\n",
       "      <td>...</td>\n",
       "      <td>...</td>\n",
       "      <td>...</td>\n",
       "      <td>...</td>\n",
       "      <td>...</td>\n",
       "      <td>...</td>\n",
       "      <td>...</td>\n",
       "      <td>...</td>\n",
       "      <td>...</td>\n",
       "      <td>...</td>\n",
       "      <td>...</td>\n",
       "      <td>...</td>\n",
       "      <td>...</td>\n",
       "      <td>...</td>\n",
       "    </tr>\n",
       "    <tr>\n",
       "      <th>263142</th>\n",
       "      <td>-1</td>\n",
       "      <td>3</td>\n",
       "      <td>1</td>\n",
       "      <td>3.0</td>\n",
       "      <td>4</td>\n",
       "      <td>2</td>\n",
       "      <td>3</td>\n",
       "      <td>2</td>\n",
       "      <td>2</td>\n",
       "      <td>3</td>\n",
       "      <td>...</td>\n",
       "      <td>1.0</td>\n",
       "      <td>4.0</td>\n",
       "      <td>3.0</td>\n",
       "      <td>1.0</td>\n",
       "      <td>3.0</td>\n",
       "      <td>4.0</td>\n",
       "      <td>3.0</td>\n",
       "      <td>3.0</td>\n",
       "      <td>7.0</td>\n",
       "      <td>5.0</td>\n",
       "    </tr>\n",
       "    <tr>\n",
       "      <th>263143</th>\n",
       "      <td>-1</td>\n",
       "      <td>2</td>\n",
       "      <td>2</td>\n",
       "      <td>5.0</td>\n",
       "      <td>1</td>\n",
       "      <td>4</td>\n",
       "      <td>1</td>\n",
       "      <td>2</td>\n",
       "      <td>5</td>\n",
       "      <td>4</td>\n",
       "      <td>...</td>\n",
       "      <td>1.0</td>\n",
       "      <td>4.0</td>\n",
       "      <td>3.0</td>\n",
       "      <td>2.0</td>\n",
       "      <td>5.0</td>\n",
       "      <td>4.0</td>\n",
       "      <td>2.0</td>\n",
       "      <td>4.0</td>\n",
       "      <td>8.0</td>\n",
       "      <td>5.0</td>\n",
       "    </tr>\n",
       "    <tr>\n",
       "      <th>263144</th>\n",
       "      <td>-1</td>\n",
       "      <td>3</td>\n",
       "      <td>1</td>\n",
       "      <td>5.0</td>\n",
       "      <td>4</td>\n",
       "      <td>3</td>\n",
       "      <td>4</td>\n",
       "      <td>4</td>\n",
       "      <td>2</td>\n",
       "      <td>1</td>\n",
       "      <td>...</td>\n",
       "      <td>2.0</td>\n",
       "      <td>3.0</td>\n",
       "      <td>1.0</td>\n",
       "      <td>0.0</td>\n",
       "      <td>1.0</td>\n",
       "      <td>3.0</td>\n",
       "      <td>4.0</td>\n",
       "      <td>4.0</td>\n",
       "      <td>7.0</td>\n",
       "      <td>3.0</td>\n",
       "    </tr>\n",
       "    <tr>\n",
       "      <th>263145</th>\n",
       "      <td>-1</td>\n",
       "      <td>3</td>\n",
       "      <td>1</td>\n",
       "      <td>5.0</td>\n",
       "      <td>3</td>\n",
       "      <td>3</td>\n",
       "      <td>4</td>\n",
       "      <td>2</td>\n",
       "      <td>2</td>\n",
       "      <td>2</td>\n",
       "      <td>...</td>\n",
       "      <td>2.0</td>\n",
       "      <td>3.0</td>\n",
       "      <td>2.0</td>\n",
       "      <td>1.0</td>\n",
       "      <td>1.0</td>\n",
       "      <td>3.0</td>\n",
       "      <td>3.0</td>\n",
       "      <td>3.0</td>\n",
       "      <td>9.0</td>\n",
       "      <td>5.0</td>\n",
       "    </tr>\n",
       "    <tr>\n",
       "      <th>263146</th>\n",
       "      <td>-1</td>\n",
       "      <td>4</td>\n",
       "      <td>2</td>\n",
       "      <td>5.0</td>\n",
       "      <td>3</td>\n",
       "      <td>3</td>\n",
       "      <td>3</td>\n",
       "      <td>5</td>\n",
       "      <td>3</td>\n",
       "      <td>2</td>\n",
       "      <td>...</td>\n",
       "      <td>2.0</td>\n",
       "      <td>4.0</td>\n",
       "      <td>2.0</td>\n",
       "      <td>1.0</td>\n",
       "      <td>2.0</td>\n",
       "      <td>5.0</td>\n",
       "      <td>5.0</td>\n",
       "      <td>3.0</td>\n",
       "      <td>4.0</td>\n",
       "      <td>4.0</td>\n",
       "    </tr>\n",
       "  </tbody>\n",
       "</table>\n",
       "<p>263147 rows × 85 columns</p>\n",
       "</div>"
      ],
      "text/plain": [
       "        AGER_TYP  ALTERSKATEGORIE_GROB  ANREDE_KZ  CJT_GESAMTTYP  \\\n",
       "0             -1                     3          1            5.0   \n",
       "1              3                     1          2            2.0   \n",
       "2             -1                     3          2            4.0   \n",
       "3             -1                     1          2            3.0   \n",
       "4             -1                     1          2            5.0   \n",
       "...          ...                   ...        ...            ...   \n",
       "263142        -1                     3          1            3.0   \n",
       "263143        -1                     2          2            5.0   \n",
       "263144        -1                     3          1            5.0   \n",
       "263145        -1                     3          1            5.0   \n",
       "263146        -1                     4          2            5.0   \n",
       "\n",
       "        FINANZ_MINIMALIST  FINANZ_SPARER  FINANZ_VORSORGER  FINANZ_ANLEGER  \\\n",
       "0                       4              3                 4               1   \n",
       "1                       3              1                 5               2   \n",
       "2                       2              4                 2               3   \n",
       "3                       2              5                 3               5   \n",
       "4                       3              4                 2               5   \n",
       "...                   ...            ...               ...             ...   \n",
       "263142                  4              2                 3               2   \n",
       "263143                  1              4                 1               2   \n",
       "263144                  4              3                 4               4   \n",
       "263145                  3              3                 4               2   \n",
       "263146                  3              3                 3               5   \n",
       "\n",
       "        FINANZ_UNAUFFAELLIGER  FINANZ_HAUSBAUER  ...  PLZ8_ANTG1  PLZ8_ANTG2  \\\n",
       "0                           3                 2  ...         2.0         4.0   \n",
       "1                           2                 5  ...         2.0         3.0   \n",
       "2                           5                 4  ...         2.0         3.0   \n",
       "3                           5                 2  ...         3.0         2.0   \n",
       "4                           4                 2  ...         4.0         3.0   \n",
       "...                       ...               ...  ...         ...         ...   \n",
       "263142                      2                 3  ...         1.0         4.0   \n",
       "263143                      5                 4  ...         1.0         4.0   \n",
       "263144                      2                 1  ...         2.0         3.0   \n",
       "263145                      2                 2  ...         2.0         3.0   \n",
       "263146                      3                 2  ...         2.0         4.0   \n",
       "\n",
       "        PLZ8_ANTG3  PLZ8_ANTG4  PLZ8_BAUMAX  PLZ8_HHZ  PLZ8_GBZ  ARBEIT  \\\n",
       "0              2.0         1.0          2.0       3.0       3.0     4.0   \n",
       "1              1.0         1.0          1.0       5.0       5.0     2.0   \n",
       "2              2.0         1.0          1.0       3.0       3.0     2.0   \n",
       "3              1.0         0.0          1.0       4.0       5.0     3.0   \n",
       "4              1.0         0.0          1.0       2.0       3.0     3.0   \n",
       "...            ...         ...          ...       ...       ...     ...   \n",
       "263142         3.0         1.0          3.0       4.0       3.0     3.0   \n",
       "263143         3.0         2.0          5.0       4.0       2.0     4.0   \n",
       "263144         1.0         0.0          1.0       3.0       4.0     4.0   \n",
       "263145         2.0         1.0          1.0       3.0       3.0     3.0   \n",
       "263146         2.0         1.0          2.0       5.0       5.0     3.0   \n",
       "\n",
       "        ORTSGR_KLS9  RELAT_AB  \n",
       "0               6.0       5.0  \n",
       "1               3.0       3.0  \n",
       "2               3.0       1.0  \n",
       "3               5.0       2.0  \n",
       "4               3.0       1.0  \n",
       "...             ...       ...  \n",
       "263142          7.0       5.0  \n",
       "263143          8.0       5.0  \n",
       "263144          7.0       3.0  \n",
       "263145          9.0       5.0  \n",
       "263146          4.0       4.0  \n",
       "\n",
       "[263147 rows x 85 columns]"
      ]
     },
     "execution_count": 81,
     "metadata": {},
     "output_type": "execute_result"
    }
   ],
   "source": [
    "# Do whatever you need to in order to ensure that the dataframe only contains\n",
    "# the columns that should be passed to the algorithm functions.\n",
    "#create final Dataframe\n",
    "#reset index\n",
    "az.reset_index(drop=True)"
   ]
  },
  {
   "cell_type": "markdown",
   "metadata": {},
   "source": [
    "### Step 1.3: Create a Cleaning Function\n",
    "\n",
    "Even though you've finished cleaning up the general population demographics data, it's important to look ahead to the future and realize that you'll need to perform the same cleaning steps on the customer demographics data. In this substep, complete the function below to execute the main feature selection, encoding, and re-engineering steps you performed above. Then, when it comes to looking at the customer data in Step 3, you can just run this function on that DataFrame to get the trimmed dataset in a single step."
   ]
  },
  {
   "cell_type": "code",
   "execution_count": 82,
   "metadata": {},
   "outputs": [],
   "source": [
    "jug_dict = {0: 'Uknown',\n",
    "1: '40s - war years (Mainstream, E+W)',\n",
    "2: '40s - reconstruction years (Avantgarde, E+W)',\n",
    "3: '50s - economic miracle (Mainstream, E+W)',\n",
    "4: '50s - milk bar / Individualisation (Avantgarde, E+W)',\n",
    "5: '60s - economic miracle (Mainstream, E+W)',\n",
    "6: '60s - generation 68 / student protestors (Avantgarde, W)',\n",
    "7: '60s - opponents to the building of the Wall (Avantgarde, E)',\n",
    "8: '70s - family orientation (Mainstream, E+W)',\n",
    "9: '70s - peace movement (Avantgarde, E+W)',\n",
    "10: '80s - Generation Golf (Mainstream, W)',\n",
    "11: '80s - ecological awareness (Avantgarde, W)',\n",
    "12: '80s - FDJ / communist party youth organisation (Mainstream, E)',\n",
    "13: '80s - Swords into ploughshares (Avantgarde, E)',\n",
    "14: '90s - digital media kids (Mainstream, E+W)',\n",
    "15: '90s - ecological awareness (Avantgarde, E+W)'}"
   ]
  },
  {
   "cell_type": "code",
   "execution_count": 83,
   "metadata": {},
   "outputs": [],
   "source": [
    "cameo_dict = {'-1': 'unknown',\n",
    "11: 'Wealthy Households - Pre-Family Couples & Singles',\n",
    "12: 'Wealthy Households - Young Couples With Children',\n",
    "13: 'Wealthy Households - Families With School Age Children',\n",
    "14: 'Wealthy Households - Older Families & Mature Couples',\n",
    "15: 'Wealthy Households - Elders In Retirement',\n",
    "21: 'Prosperous Households - Pre-Family Couples & Singles',\n",
    "22: 'Prosperous Households - Young Couples With Children',\n",
    "23: 'Prosperous Households - Families With School Age Children',\n",
    "24: 'Prosperous Households - Older Families & Mature Couples',\n",
    "25: 'Prosperous Households - Elders In Retirement',\n",
    "31: 'Comfortable Households - Pre-Family Couples & Singles',\n",
    "32: 'Comfortable Households - Young Couples With Children',\n",
    "33: 'Comfortable Households - Families With School Age Children',\n",
    "34: 'Comfortable Households - Older Families & Mature Couples',\n",
    "35: 'Comfortable Households - Elders In Retirement',\n",
    "41: 'Less Affluent Households - Pre-Family Couples & Singles',\n",
    "42: 'Less Affluent Households - Young Couples With Children',\n",
    "43: 'Less Affluent Households - Families With School Age Children',\n",
    "44: 'Less Affluent Households - Older Families & Mature Couples',\n",
    "45: 'Less Affluent Households - Elders In Retirement',\n",
    "51: 'Poorer Households - Pre-Family Couples & Singles',\n",
    "52: 'Poorer Households - Young Couples With Children',\n",
    "53: 'Poorer Households - Families With School Age Children',\n",
    "54: 'Poorer Households - Older Families & Mature Couples',\n",
    "55: 'Poorer Households - Elders In Retirement',\n",
    "'XX': 'unknown'}"
   ]
  },
  {
   "cell_type": "code",
   "execution_count": 84,
   "metadata": {},
   "outputs": [],
   "source": [
    "def clean_data(df):\n",
    "    \"\"\"\n",
    "    Perform feature trimming, re-encoding, and engineering for demographics\n",
    "    data\n",
    "    \n",
    "    INPUT: Demographics DataFrame\n",
    "    OUTPUT: Trimmed and cleaned demographics DataFrame\n",
    "    \"\"\"\n",
    "    \n",
    "    #######################################################\n",
    "    # Put in code here to execute all main cleaning steps:#\n",
    "    # convert missing value codes into NaNs, ...          #\n",
    "    #######################################################\n",
    "    \n",
    "    for col in feat_info[feat_info.missing_or_unknown == '[-1,0]'].attribute:\n",
    "        df[col] = df[col].astype('str').replace('-1', np.nan).replace('0', np.nan)\n",
    "        print('Replaced [-1,0] values in {} column'.format(col))\n",
    "    for col in feat_info[feat_info.missing_or_unknown == '[-1,0,9]'].attribute:\n",
    "        df[col] = df[col].astype('str').replace('-1', np.nan).replace('0', np.nan).replace('9', np.nan)\n",
    "        print('Replaced [-1,0,9] values in {} column'.format(col))\n",
    "    for col in feat_info[feat_info.missing_or_unknown == '[0]'].attribute:\n",
    "        df[col] = df[col].astype('str').replace('0', np.nan)\n",
    "        print('Replaced [0] values in {} column'.format(col))\n",
    "    for col in feat_info[feat_info.missing_or_unknown == '[-1]'].attribute:\n",
    "        df[col] = df[col].astype('str').replace('-1', np.nan)\n",
    "        print('Replaced [-1] values in {} column'.format(col))\n",
    "    for col in feat_info[feat_info.missing_or_unknown == '[]'].attribute:\n",
    "        df[col] = df[col].astype('str').replace(r'^\\s*$', np.nan, regex=True)\n",
    "        print('Replaced [] values in {} column'.format(col))\n",
    "    for col in feat_info[feat_info.missing_or_unknown == '[-1,9]'].attribute:\n",
    "        df[col] = df[col].astype('str').replace('-1', np.nan).replace('9', np.nan)\n",
    "        print('Replaced [-1,9] values in {} column'.format(col))\n",
    "    for col in feat_info[feat_info.missing_or_unknown == '[-1,X]'].attribute:\n",
    "        df[col] = df[col].astype('str').replace('-1', np.nan).replace('X', np.nan)\n",
    "        print('Replaced [-1,X] values in {} column'.format(col))\n",
    "    for col in feat_info[feat_info.missing_or_unknown == '[XX]'].attribute:\n",
    "        df[col] = df[col].astype('str').replace('XX', np.nan)\n",
    "        print('Replaced [XX] values in {} column'.format(col))\n",
    "    for col in feat_info[feat_info.missing_or_unknown == '[-1,XX]'].attribute:\n",
    "        df[col] = df[col].astype('str').replace('-1,XX', np.nan)\n",
    "        print('Replaced [-1,XX] values in {} column'.format(col))\n",
    "        \n",
    "    print('Replacing {}, {} or {} strings'.format('nan', 'NaN', 'empty spaces'))\n",
    "        \n",
    "    for df_col in df.columns:\n",
    "        df[df_col] = df[df_col].astype('str').replace('nan',\\\n",
    "                                                      np.nan).replace('NaN', np.nan).replace(r'^\\s*$', np.nan, regex=True)\n",
    "    \n",
    "    \n",
    "    \n",
    "    #########################################\n",
    "    # remove selected columns and rows, ...##\n",
    "    #########################################\n",
    "    \n",
    "    #remove non binary categorical values to optimize limited calculation performance\n",
    "    for column in df.iloc[:,[0, 2, 3, 10, 12, 13, 17, 18, 19, 20, 21, 38, 39, 40, 41, 42, 47, 52, 55, 57, 58]].columns:\n",
    "        if len(df[column].unique()) > 3:\n",
    "            df.drop(column, axis =1, inplace = True)\n",
    "            print(f'Deleted {column}')\n",
    "    \n",
    "    #remove columns with more than 35% NaNs\n",
    "    for col in df.columns:\n",
    "        '''A loop that drops columns for missing information higher than 35% of entire column'''\n",
    "        if df[col].isnull().values.sum()*100/df.shape[0] > 35:\n",
    "            try:\n",
    "                df.drop(col, axis =1, inplace = True)\n",
    "                print('Droping {} column'.format(col))\n",
    "            except TypeError:\n",
    "                print(col, df[col])\n",
    "    \n",
    "    #drop the rest of NaN values here           \n",
    "    df.dropna(inplace = True)\n",
    "        \n",
    "        \n",
    "    \n",
    "    #################################################\n",
    "    # select, re-encode, and engineer column values.#\n",
    "    #################################################\n",
    "    \n",
    "    #select only catecory columns and drop non binary values for simplicity\n",
    "    \n",
    "    #fix east west variable with one hot encoding\n",
    "    # Get one hot encoding of columns 'OST_WEST_KZ'\n",
    "    one_hot = pd.get_dummies(df['OST_WEST_KZ'])\n",
    "    # Drop column as it is now encoded\n",
    "    df = df.drop('OST_WEST_KZ',axis = 1)\n",
    "    print('Drop OST_WEST_KZ column as it is now encoded')\n",
    "    # Join the encoded df\n",
    "    df = df.join(one_hot)\n",
    "    print('Join O, W hot encoded variables')\n",
    "    \n",
    "    print(df['O'])\n",
    "    print(df['W'])\n",
    "    #select string indexes for new decades feature\n",
    "    print('Selecting Decade Indexes')\n",
    "    decade_40 = df.query(\"PRAEGENDE_JUGENDJAHRE == ['1', '2']\").index \n",
    "    decade_50 = df.query(\"PRAEGENDE_JUGENDJAHRE == ['3', '4']\").index \n",
    "    decade_60 = df.query(\"PRAEGENDE_JUGENDJAHRE == ['5', '6', '7']\").index\n",
    "    decade_70 = df.query(\"PRAEGENDE_JUGENDJAHRE == ['8', '9']\").index \n",
    "    decade_80 = df.query(\"PRAEGENDE_JUGENDJAHRE == ['10', '11', '12', '13']\").index \n",
    "    decade_90 = df.query(\"PRAEGENDE_JUGENDJAHRE == ['14', '15']\").index \n",
    "    \n",
    "    #apply decades indexes to the dataframe\n",
    "    print('Applying Decade Indexes')\n",
    "    df['decades'] = 0\n",
    "    df.loc[decade_40, 'decades'] = 1\n",
    "    df.loc[decade_50, 'decades'] = 2\n",
    "    df.loc[decade_60, 'decades'] = 3\n",
    "    df.loc[decade_70, 'decades'] = 4\n",
    "    df.loc[decade_80, 'decades'] = 5\n",
    "    df.loc[decade_90, 'decades'] = 6\n",
    "    \n",
    "    # select string indexes for new movement feature\n",
    "    print('Selecting Movement Indexes')\n",
    "    avtg_index = df.query(\"PRAEGENDE_JUGENDJAHRE == ['2','4','6', '7', '9', '11', '13', '15']\").index\n",
    "    mns_index = df.query(\"PRAEGENDE_JUGENDJAHRE == ['1', '3', '5', '8', '10', '12', '14']\").index\n",
    "    \n",
    "    #apply movement indexes to the dataframe\n",
    "    print('Applying Movemet Indexes')\n",
    "    df['movement'] = 0\n",
    "    df.loc[avtg_index, 'movement'] = 1\n",
    "    df.loc[mns_index, 'movement'] = 2\n",
    "    \n",
    "    #select indexes for new household feature\n",
    "    print('Selecting Household Indexes')\n",
    "    wealthy_index = df.query(\"CAMEO_INTL_2015 == ['11', '12', '13', '14', '15']\").index\n",
    "    prosperous_index = df.query(\"CAMEO_INTL_2015 == ['21', '22', '23', '24', '25']\").index\n",
    "    comfortable_index = df.query(\"CAMEO_INTL_2015 == ['31', '32', '33', '34', '35']\").index\n",
    "    less_Affluent_index = df.query(\"CAMEO_INTL_2015 == ['41', '42', '43', '44', '45']\").index\n",
    "    poorer_index = df.query(\"CAMEO_INTL_2015 == ['51', '52', '53', '54', '55']\").index\n",
    "    \n",
    "    #apply household indexes in the dataframe\n",
    "    print('Applying Household Indexes')\n",
    "    df['household'] = 0\n",
    "    df.loc[wealthy_index, 'household'] = 5\n",
    "    df.loc[prosperous_index, 'household'] = 4\n",
    "    df.loc[comfortable_index, 'household'] = 3\n",
    "    df.loc[less_Affluent_index, 'household'] = 2\n",
    "    df.loc[poorer_index, 'household'] = 1\n",
    "    \n",
    "    #select indexes for new nucleo feature\n",
    "    print('Selecting Nucleo Indexes')\n",
    "    singles_index = df.query(\"CAMEO_INTL_2015 == ['11', '21', '31', '41', '51']\").index\n",
    "    young_index = df.query(\"CAMEO_INTL_2015 == ['12', '22', '32', '42', '52']\").index\n",
    "    school_index = df.query(\"CAMEO_INTL_2015 == ['13', '23', '33', '43', '53']\").index\n",
    "    mature_index = df.query(\"CAMEO_INTL_2015 == ['14', '24', '34', '44', '54']\").index\n",
    "    elders_index = df.query(\"CAMEO_INTL_2015 == ['15', '25', '35', '45', '55']\").index\n",
    "    \n",
    "    #apply nucleo indexes in the dataframe\n",
    "    print('Applying Nucleo Indexes')\n",
    "    df['nucleo'] = 0\n",
    "    df.loc[elders_index, 'nucleo'] = 5\n",
    "    df.loc[mature_index, 'nucleo'] = 4\n",
    "    df.loc[school_index, 'nucleo'] = 3\n",
    "    df.loc[young_index, 'nucleo'] = 2\n",
    "    df.loc[singles_index, 'nucleo'] = 1\n",
    "    \n",
    "    ################################\n",
    "    # Return the cleaned dataframe.#\n",
    "    ################################\n",
    "    df.reset_index(drop=True)\n",
    "    \n",
    "    return df, df['O'], df['W']"
   ]
  },
  {
   "cell_type": "code",
   "execution_count": 99,
   "metadata": {},
   "outputs": [
    {
     "name": "stdout",
     "output_type": "stream",
     "text": [
      "Execution Time in seconds: 3.9873297214508057\n"
     ]
    }
   ],
   "source": [
    "#load customers dataset and reload azdias to be sure to perform the very same process to both datasets\n",
    "s = time.time()\n",
    "customers = pd.read_csv('Udacity_CUSTOMERS_Subset.csv', sep = ';')\n",
    "#make a copy to work on\n",
    "cs = customers.copy()\n",
    "az = azdias.copy()\n",
    "e = time.time()\n",
    "print(\"Execution Time in seconds: {}\".format(e-s))"
   ]
  },
  {
   "cell_type": "code",
   "execution_count": 100,
   "metadata": {},
   "outputs": [
    {
     "name": "stdout",
     "output_type": "stream",
     "text": [
      "Replaced [-1,0] values in AGER_TYP column\n",
      "Replaced [-1,0] values in ANREDE_KZ column\n",
      "Replaced [-1,0] values in HEALTH_TYP column\n",
      "Replaced [-1,0] values in NATIONALITAET_KZ column\n",
      "Replaced [-1,0] values in PRAEGENDE_JUGENDJAHRE column\n",
      "Replaced [-1,0] values in TITEL_KZ column\n",
      "Replaced [-1,0] values in HH_EINKOMMEN_SCORE column\n",
      "Replaced [-1,0] values in W_KEIT_KIND_HH column\n",
      "Replaced [-1,0] values in WOHNDAUER_2008 column\n",
      "Replaced [-1,0] values in GEBAEUDETYP column\n",
      "Replaced [-1,0] values in KBA05_BAUMAX column\n",
      "Replaced [-1,0] values in KBA05_GBZ column\n",
      "Replaced [-1,0] values in KKK column\n",
      "Replaced [-1,0] values in REGIOTYP column\n",
      "Replaced [-1,0] values in PLZ8_BAUMAX column\n",
      "Replaced [-1,0] values in ORTSGR_KLS9 column\n",
      "Replaced [-1,0,9] values in ALTERSKATEGORIE_GROB column\n",
      "Replaced [0] values in CJT_GESAMTTYP column\n",
      "Replaced [0] values in GEBURTSJAHR column\n",
      "Replaced [0] values in LP_LEBENSPHASE_FEIN column\n",
      "Replaced [0] values in LP_LEBENSPHASE_GROB column\n",
      "Replaced [0] values in LP_FAMILIE_FEIN column\n",
      "Replaced [0] values in LP_FAMILIE_GROB column\n",
      "Replaced [0] values in LP_STATUS_FEIN column\n",
      "Replaced [0] values in LP_STATUS_GROB column\n",
      "Replaced [0] values in RETOURTYP_BK_S column\n",
      "Replaced [0] values in ALTER_HH column\n",
      "Replaced [0] values in ANZ_HAUSHALTE_AKTIV column\n",
      "Replaced [0] values in MIN_GEBAEUDEJAHR column\n",
      "Replaced [-1] values in FINANZ_MINIMALIST column\n",
      "Replaced [-1] values in FINANZ_SPARER column\n",
      "Replaced [-1] values in FINANZ_VORSORGER column\n",
      "Replaced [-1] values in FINANZ_ANLEGER column\n",
      "Replaced [-1] values in FINANZ_UNAUFFAELLIGER column\n",
      "Replaced [-1] values in FINANZ_HAUSBAUER column\n",
      "Replaced [-1] values in FINANZTYP column\n",
      "Replaced [-1] values in SHOPPER_TYP column\n",
      "Replaced [-1] values in SOHO_KZ column\n",
      "Replaced [-1] values in VERS_TYP column\n",
      "Replaced [-1] values in KK_KUNDENTYP column\n",
      "Replaced [-1] values in OST_WEST_KZ column\n",
      "Replaced [-1] values in WOHNLAGE column\n",
      "Replaced [-1] values in KBA05_ANTG1 column\n",
      "Replaced [-1] values in KBA05_ANTG2 column\n",
      "Replaced [-1] values in KBA05_ANTG3 column\n",
      "Replaced [-1] values in KBA05_ANTG4 column\n",
      "Replaced [-1] values in BALLRAUM column\n",
      "Replaced [-1] values in EWDICHTE column\n",
      "Replaced [-1] values in INNENSTADT column\n",
      "Replaced [-1] values in PLZ8_ANTG1 column\n",
      "Replaced [-1] values in PLZ8_ANTG2 column\n",
      "Replaced [-1] values in PLZ8_ANTG3 column\n",
      "Replaced [-1] values in PLZ8_ANTG4 column\n",
      "Replaced [-1] values in PLZ8_HHZ column\n",
      "Replaced [-1] values in PLZ8_GBZ column\n",
      "Replaced [] values in GFK_URLAUBERTYP column\n",
      "Replaced [] values in GREEN_AVANTGARDE column\n",
      "Replaced [] values in ANZ_PERSONEN column\n",
      "Replaced [] values in ANZ_TITEL column\n",
      "Replaced [] values in ANZ_HH_TITEL column\n",
      "Replaced [] values in KONSUMNAEHE column\n",
      "Replaced [] values in GEBAEUDETYP_RASTER column\n",
      "Replaced [] values in MOBI_REGIO column\n",
      "Replaced [] values in ONLINE_AFFINITAET column\n",
      "Replaced [] values in KBA13_ANZAHL_PKW column\n",
      "Replaced [-1,9] values in SEMIO_SOZ column\n",
      "Replaced [-1,9] values in SEMIO_FAM column\n",
      "Replaced [-1,9] values in SEMIO_REL column\n",
      "Replaced [-1,9] values in SEMIO_MAT column\n",
      "Replaced [-1,9] values in SEMIO_VERT column\n",
      "Replaced [-1,9] values in SEMIO_LUST column\n",
      "Replaced [-1,9] values in SEMIO_ERL column\n",
      "Replaced [-1,9] values in SEMIO_KULT column\n",
      "Replaced [-1,9] values in SEMIO_RAT column\n",
      "Replaced [-1,9] values in SEMIO_KRIT column\n",
      "Replaced [-1,9] values in SEMIO_DOM column\n",
      "Replaced [-1,9] values in SEMIO_KAEM column\n",
      "Replaced [-1,9] values in SEMIO_PFLICHT column\n",
      "Replaced [-1,9] values in SEMIO_TRADV column\n",
      "Replaced [-1,9] values in ZABEOTYP column\n",
      "Replaced [-1,9] values in ARBEIT column\n",
      "Replaced [-1,9] values in RELAT_AB column\n",
      "Replaced [-1,X] values in CAMEO_DEUG_2015 column\n",
      "Replaced [XX] values in CAMEO_DEU_2015 column\n",
      "Replaced [-1,XX] values in CAMEO_INTL_2015 column\n",
      "Replacing nan, NaN or empty spaces strings\n",
      "Deleted AGER_TYP\n",
      "Deleted CJT_GESAMTTYP\n",
      "Deleted FINANZTYP\n",
      "Deleted GFK_URLAUBERTYP\n",
      "Deleted LP_FAMILIE_FEIN\n",
      "Deleted LP_FAMILIE_GROB\n",
      "Deleted LP_STATUS_FEIN\n",
      "Deleted LP_STATUS_GROB\n",
      "Deleted NATIONALITAET_KZ\n",
      "Deleted SHOPPER_TYP\n",
      "Deleted TITEL_KZ\n",
      "Deleted ZABEOTYP\n",
      "Deleted KK_KUNDENTYP\n",
      "Deleted GEBAEUDETYP\n",
      "Deleted CAMEO_DEUG_2015\n",
      "Deleted CAMEO_DEU_2015\n",
      "Droping GEBURTSJAHR column\n",
      "Drop OST_WEST_KZ column as it is now encoded\n",
      "Join O, W hot encoded variables\n",
      "1         0\n",
      "2         0\n",
      "4         0\n",
      "5         0\n",
      "6         0\n",
      "         ..\n",
      "891213    0\n",
      "891214    0\n",
      "891215    0\n",
      "891219    0\n",
      "891220    0\n",
      "Name: O, Length: 658705, dtype: uint8\n",
      "1         1\n",
      "2         1\n",
      "4         1\n",
      "5         1\n",
      "6         1\n",
      "         ..\n",
      "891213    1\n",
      "891214    1\n",
      "891215    1\n",
      "891219    1\n",
      "891220    1\n",
      "Name: W, Length: 658705, dtype: uint8\n",
      "Selecting Decade Indexes\n",
      "Applying Decade Indexes\n",
      "Selecting Movement Indexes\n",
      "Applying Movemet Indexes\n",
      "Selecting Household Indexes\n",
      "Applying Household Indexes\n",
      "Selecting Nucleo Indexes\n",
      "Applying Nucleo Indexes\n"
     ]
    }
   ],
   "source": [
    "az, AO, AW = clean_data(az)"
   ]
  },
  {
   "cell_type": "code",
   "execution_count": 106,
   "metadata": {},
   "outputs": [
    {
     "name": "stdout",
     "output_type": "stream",
     "text": [
      "Replaced [-1,0] values in AGER_TYP column\n",
      "Replaced [-1,0] values in ANREDE_KZ column\n",
      "Replaced [-1,0] values in HEALTH_TYP column\n",
      "Replaced [-1,0] values in NATIONALITAET_KZ column\n",
      "Replaced [-1,0] values in PRAEGENDE_JUGENDJAHRE column\n",
      "Replaced [-1,0] values in TITEL_KZ column\n",
      "Replaced [-1,0] values in HH_EINKOMMEN_SCORE column\n",
      "Replaced [-1,0] values in W_KEIT_KIND_HH column\n",
      "Replaced [-1,0] values in WOHNDAUER_2008 column\n",
      "Replaced [-1,0] values in GEBAEUDETYP column\n",
      "Replaced [-1,0] values in KBA05_BAUMAX column\n",
      "Replaced [-1,0] values in KBA05_GBZ column\n",
      "Replaced [-1,0] values in KKK column\n",
      "Replaced [-1,0] values in REGIOTYP column\n",
      "Replaced [-1,0] values in PLZ8_BAUMAX column\n",
      "Replaced [-1,0] values in ORTSGR_KLS9 column\n",
      "Replaced [-1,0,9] values in ALTERSKATEGORIE_GROB column\n",
      "Replaced [0] values in CJT_GESAMTTYP column\n",
      "Replaced [0] values in GEBURTSJAHR column\n",
      "Replaced [0] values in LP_LEBENSPHASE_FEIN column\n",
      "Replaced [0] values in LP_LEBENSPHASE_GROB column\n",
      "Replaced [0] values in LP_FAMILIE_FEIN column\n",
      "Replaced [0] values in LP_FAMILIE_GROB column\n",
      "Replaced [0] values in LP_STATUS_FEIN column\n",
      "Replaced [0] values in LP_STATUS_GROB column\n",
      "Replaced [0] values in RETOURTYP_BK_S column\n",
      "Replaced [0] values in ALTER_HH column\n",
      "Replaced [0] values in ANZ_HAUSHALTE_AKTIV column\n",
      "Replaced [0] values in MIN_GEBAEUDEJAHR column\n",
      "Replaced [-1] values in FINANZ_MINIMALIST column\n",
      "Replaced [-1] values in FINANZ_SPARER column\n",
      "Replaced [-1] values in FINANZ_VORSORGER column\n",
      "Replaced [-1] values in FINANZ_ANLEGER column\n",
      "Replaced [-1] values in FINANZ_UNAUFFAELLIGER column\n",
      "Replaced [-1] values in FINANZ_HAUSBAUER column\n",
      "Replaced [-1] values in FINANZTYP column\n",
      "Replaced [-1] values in SHOPPER_TYP column\n",
      "Replaced [-1] values in SOHO_KZ column\n",
      "Replaced [-1] values in VERS_TYP column\n",
      "Replaced [-1] values in KK_KUNDENTYP column\n",
      "Replaced [-1] values in OST_WEST_KZ column\n",
      "Replaced [-1] values in WOHNLAGE column\n",
      "Replaced [-1] values in KBA05_ANTG1 column\n",
      "Replaced [-1] values in KBA05_ANTG2 column\n",
      "Replaced [-1] values in KBA05_ANTG3 column\n",
      "Replaced [-1] values in KBA05_ANTG4 column\n",
      "Replaced [-1] values in BALLRAUM column\n",
      "Replaced [-1] values in EWDICHTE column\n",
      "Replaced [-1] values in INNENSTADT column\n",
      "Replaced [-1] values in PLZ8_ANTG1 column\n",
      "Replaced [-1] values in PLZ8_ANTG2 column\n",
      "Replaced [-1] values in PLZ8_ANTG3 column\n",
      "Replaced [-1] values in PLZ8_ANTG4 column\n",
      "Replaced [-1] values in PLZ8_HHZ column\n",
      "Replaced [-1] values in PLZ8_GBZ column\n",
      "Replaced [] values in GFK_URLAUBERTYP column\n",
      "Replaced [] values in GREEN_AVANTGARDE column\n",
      "Replaced [] values in ANZ_PERSONEN column\n",
      "Replaced [] values in ANZ_TITEL column\n",
      "Replaced [] values in ANZ_HH_TITEL column\n",
      "Replaced [] values in KONSUMNAEHE column\n",
      "Replaced [] values in GEBAEUDETYP_RASTER column\n",
      "Replaced [] values in MOBI_REGIO column\n",
      "Replaced [] values in ONLINE_AFFINITAET column\n",
      "Replaced [] values in KBA13_ANZAHL_PKW column\n",
      "Replaced [-1,9] values in SEMIO_SOZ column\n",
      "Replaced [-1,9] values in SEMIO_FAM column\n",
      "Replaced [-1,9] values in SEMIO_REL column\n",
      "Replaced [-1,9] values in SEMIO_MAT column\n",
      "Replaced [-1,9] values in SEMIO_VERT column\n",
      "Replaced [-1,9] values in SEMIO_LUST column\n",
      "Replaced [-1,9] values in SEMIO_ERL column\n",
      "Replaced [-1,9] values in SEMIO_KULT column\n",
      "Replaced [-1,9] values in SEMIO_RAT column\n",
      "Replaced [-1,9] values in SEMIO_KRIT column\n",
      "Replaced [-1,9] values in SEMIO_DOM column\n",
      "Replaced [-1,9] values in SEMIO_KAEM column\n",
      "Replaced [-1,9] values in SEMIO_PFLICHT column\n",
      "Replaced [-1,9] values in SEMIO_TRADV column\n",
      "Replaced [-1,9] values in ZABEOTYP column\n",
      "Replaced [-1,9] values in ARBEIT column\n",
      "Replaced [-1,9] values in RELAT_AB column\n",
      "Replaced [-1,X] values in CAMEO_DEUG_2015 column\n",
      "Replaced [XX] values in CAMEO_DEU_2015 column\n",
      "Replaced [-1,XX] values in CAMEO_INTL_2015 column\n",
      "Replacing nan, NaN or empty spaces strings\n",
      "Deleted AGER_TYP\n",
      "Deleted CJT_GESAMTTYP\n",
      "Deleted FINANZTYP\n",
      "Deleted GFK_URLAUBERTYP\n",
      "Deleted LP_FAMILIE_FEIN\n",
      "Deleted LP_FAMILIE_GROB\n",
      "Deleted LP_STATUS_FEIN\n",
      "Deleted LP_STATUS_GROB\n",
      "Deleted NATIONALITAET_KZ\n",
      "Deleted SHOPPER_TYP\n",
      "Deleted TITEL_KZ\n",
      "Deleted ZABEOTYP\n",
      "Deleted KK_KUNDENTYP\n",
      "Deleted GEBAEUDETYP\n",
      "Deleted CAMEO_DEUG_2015\n",
      "Deleted CAMEO_DEU_2015\n",
      "Droping GEBURTSJAHR column\n",
      "Drop OST_WEST_KZ column as it is now encoded\n",
      "Join O, W hot encoded variables\n",
      "0         0\n",
      "2         0\n",
      "4         0\n",
      "5         0\n",
      "6         0\n",
      "         ..\n",
      "191646    0\n",
      "191647    0\n",
      "191649    0\n",
      "191650    0\n",
      "191651    0\n",
      "Name: O, Length: 121000, dtype: uint8\n",
      "0         1\n",
      "2         1\n",
      "4         1\n",
      "5         1\n",
      "6         1\n",
      "         ..\n",
      "191646    1\n",
      "191647    1\n",
      "191649    1\n",
      "191650    1\n",
      "191651    1\n",
      "Name: W, Length: 121000, dtype: uint8\n",
      "Selecting Decade Indexes\n",
      "Applying Decade Indexes\n",
      "Selecting Movement Indexes\n",
      "Applying Movemet Indexes\n",
      "Selecting Household Indexes\n",
      "Applying Household Indexes\n",
      "Selecting Nucleo Indexes\n",
      "Applying Nucleo Indexes\n",
      "Excecution Time in minutes: 1.7974475105603536\n"
     ]
    }
   ],
   "source": [
    "s = time.time()\n",
    "cs, CO, CW = clean_data(customers)\n",
    "e = time.time()\n",
    "print(\"Excecution Time in minutes: {}\".format((e-s)/60))"
   ]
  },
  {
   "cell_type": "code",
   "execution_count": 109,
   "metadata": {},
   "outputs": [
    {
     "name": "stdout",
     "output_type": "stream",
     "text": [
      "<class 'pandas.core.frame.DataFrame'>\n",
      "Int64Index: 658705 entries, 1 to 891220\n",
      "Data columns (total 73 columns):\n",
      " #   Column                 Non-Null Count   Dtype \n",
      "---  ------                 --------------   ----- \n",
      " 0   ALTERSKATEGORIE_GROB   658705 non-null  object\n",
      " 1   ANREDE_KZ              658705 non-null  object\n",
      " 2   FINANZ_MINIMALIST      658705 non-null  object\n",
      " 3   FINANZ_SPARER          658705 non-null  object\n",
      " 4   FINANZ_VORSORGER       658705 non-null  object\n",
      " 5   FINANZ_ANLEGER         658705 non-null  object\n",
      " 6   FINANZ_UNAUFFAELLIGER  658705 non-null  object\n",
      " 7   FINANZ_HAUSBAUER       658705 non-null  object\n",
      " 8   GREEN_AVANTGARDE       658705 non-null  object\n",
      " 9   HEALTH_TYP             658705 non-null  object\n",
      " 10  LP_LEBENSPHASE_FEIN    658705 non-null  object\n",
      " 11  LP_LEBENSPHASE_GROB    658705 non-null  object\n",
      " 12  PRAEGENDE_JUGENDJAHRE  658705 non-null  object\n",
      " 13  RETOURTYP_BK_S         658705 non-null  object\n",
      " 14  SEMIO_SOZ              658705 non-null  object\n",
      " 15  SEMIO_FAM              658705 non-null  object\n",
      " 16  SEMIO_REL              658705 non-null  object\n",
      " 17  SEMIO_MAT              658705 non-null  object\n",
      " 18  SEMIO_VERT             658705 non-null  object\n",
      " 19  SEMIO_LUST             658705 non-null  object\n",
      " 20  SEMIO_ERL              658705 non-null  object\n",
      " 21  SEMIO_KULT             658705 non-null  object\n",
      " 22  SEMIO_RAT              658705 non-null  object\n",
      " 23  SEMIO_KRIT             658705 non-null  object\n",
      " 24  SEMIO_DOM              658705 non-null  object\n",
      " 25  SEMIO_KAEM             658705 non-null  object\n",
      " 26  SEMIO_PFLICHT          658705 non-null  object\n",
      " 27  SEMIO_TRADV            658705 non-null  object\n",
      " 28  SOHO_KZ                658705 non-null  object\n",
      " 29  VERS_TYP               658705 non-null  object\n",
      " 30  ALTER_HH               658705 non-null  object\n",
      " 31  ANZ_PERSONEN           658705 non-null  object\n",
      " 32  ANZ_TITEL              658705 non-null  object\n",
      " 33  HH_EINKOMMEN_SCORE     658705 non-null  object\n",
      " 34  W_KEIT_KIND_HH         658705 non-null  object\n",
      " 35  WOHNDAUER_2008         658705 non-null  object\n",
      " 36  ANZ_HAUSHALTE_AKTIV    658705 non-null  object\n",
      " 37  ANZ_HH_TITEL           658705 non-null  object\n",
      " 38  KONSUMNAEHE            658705 non-null  object\n",
      " 39  MIN_GEBAEUDEJAHR       658705 non-null  object\n",
      " 40  WOHNLAGE               658705 non-null  object\n",
      " 41  CAMEO_INTL_2015        658705 non-null  object\n",
      " 42  KBA05_ANTG1            658705 non-null  object\n",
      " 43  KBA05_ANTG2            658705 non-null  object\n",
      " 44  KBA05_ANTG3            658705 non-null  object\n",
      " 45  KBA05_ANTG4            658705 non-null  object\n",
      " 46  KBA05_BAUMAX           658705 non-null  object\n",
      " 47  KBA05_GBZ              658705 non-null  object\n",
      " 48  BALLRAUM               658705 non-null  object\n",
      " 49  EWDICHTE               658705 non-null  object\n",
      " 50  INNENSTADT             658705 non-null  object\n",
      " 51  GEBAEUDETYP_RASTER     658705 non-null  object\n",
      " 52  KKK                    658705 non-null  object\n",
      " 53  MOBI_REGIO             658705 non-null  object\n",
      " 54  ONLINE_AFFINITAET      658705 non-null  object\n",
      " 55  REGIOTYP               658705 non-null  object\n",
      " 56  KBA13_ANZAHL_PKW       658705 non-null  object\n",
      " 57  PLZ8_ANTG1             658705 non-null  object\n",
      " 58  PLZ8_ANTG2             658705 non-null  object\n",
      " 59  PLZ8_ANTG3             658705 non-null  object\n",
      " 60  PLZ8_ANTG4             658705 non-null  object\n",
      " 61  PLZ8_BAUMAX            658705 non-null  object\n",
      " 62  PLZ8_HHZ               658705 non-null  object\n",
      " 63  PLZ8_GBZ               658705 non-null  object\n",
      " 64  ARBEIT                 658705 non-null  object\n",
      " 65  ORTSGR_KLS9            658705 non-null  object\n",
      " 66  RELAT_AB               658705 non-null  object\n",
      " 67  O                      658705 non-null  uint8 \n",
      " 68  W                      658705 non-null  uint8 \n",
      " 69  decades                658705 non-null  int64 \n",
      " 70  movement               658705 non-null  int64 \n",
      " 71  household              658705 non-null  int64 \n",
      " 72  nucleo                 658705 non-null  int64 \n",
      "dtypes: int64(4), object(67), uint8(2)\n",
      "memory usage: 383.1+ MB\n"
     ]
    }
   ],
   "source": [
    "az.info()"
   ]
  },
  {
   "cell_type": "code",
   "execution_count": 107,
   "metadata": {},
   "outputs": [
    {
     "name": "stdout",
     "output_type": "stream",
     "text": [
      "<class 'pandas.core.frame.DataFrame'>\n",
      "Int64Index: 121000 entries, 0 to 191651\n",
      "Data columns (total 73 columns):\n",
      " #   Column                 Non-Null Count   Dtype \n",
      "---  ------                 --------------   ----- \n",
      " 0   ALTERSKATEGORIE_GROB   121000 non-null  object\n",
      " 1   ANREDE_KZ              121000 non-null  object\n",
      " 2   FINANZ_MINIMALIST      121000 non-null  object\n",
      " 3   FINANZ_SPARER          121000 non-null  object\n",
      " 4   FINANZ_VORSORGER       121000 non-null  object\n",
      " 5   FINANZ_ANLEGER         121000 non-null  object\n",
      " 6   FINANZ_UNAUFFAELLIGER  121000 non-null  object\n",
      " 7   FINANZ_HAUSBAUER       121000 non-null  object\n",
      " 8   GREEN_AVANTGARDE       121000 non-null  object\n",
      " 9   HEALTH_TYP             121000 non-null  object\n",
      " 10  LP_LEBENSPHASE_FEIN    121000 non-null  object\n",
      " 11  LP_LEBENSPHASE_GROB    121000 non-null  object\n",
      " 12  PRAEGENDE_JUGENDJAHRE  121000 non-null  object\n",
      " 13  RETOURTYP_BK_S         121000 non-null  object\n",
      " 14  SEMIO_SOZ              121000 non-null  object\n",
      " 15  SEMIO_FAM              121000 non-null  object\n",
      " 16  SEMIO_REL              121000 non-null  object\n",
      " 17  SEMIO_MAT              121000 non-null  object\n",
      " 18  SEMIO_VERT             121000 non-null  object\n",
      " 19  SEMIO_LUST             121000 non-null  object\n",
      " 20  SEMIO_ERL              121000 non-null  object\n",
      " 21  SEMIO_KULT             121000 non-null  object\n",
      " 22  SEMIO_RAT              121000 non-null  object\n",
      " 23  SEMIO_KRIT             121000 non-null  object\n",
      " 24  SEMIO_DOM              121000 non-null  object\n",
      " 25  SEMIO_KAEM             121000 non-null  object\n",
      " 26  SEMIO_PFLICHT          121000 non-null  object\n",
      " 27  SEMIO_TRADV            121000 non-null  object\n",
      " 28  SOHO_KZ                121000 non-null  object\n",
      " 29  VERS_TYP               121000 non-null  object\n",
      " 30  ALTER_HH               121000 non-null  object\n",
      " 31  ANZ_PERSONEN           121000 non-null  object\n",
      " 32  ANZ_TITEL              121000 non-null  object\n",
      " 33  HH_EINKOMMEN_SCORE     121000 non-null  object\n",
      " 34  W_KEIT_KIND_HH         121000 non-null  object\n",
      " 35  WOHNDAUER_2008         121000 non-null  object\n",
      " 36  ANZ_HAUSHALTE_AKTIV    121000 non-null  object\n",
      " 37  ANZ_HH_TITEL           121000 non-null  object\n",
      " 38  KONSUMNAEHE            121000 non-null  object\n",
      " 39  MIN_GEBAEUDEJAHR       121000 non-null  object\n",
      " 40  WOHNLAGE               121000 non-null  object\n",
      " 41  CAMEO_INTL_2015        121000 non-null  object\n",
      " 42  KBA05_ANTG1            121000 non-null  object\n",
      " 43  KBA05_ANTG2            121000 non-null  object\n",
      " 44  KBA05_ANTG3            121000 non-null  object\n",
      " 45  KBA05_ANTG4            121000 non-null  object\n",
      " 46  KBA05_BAUMAX           121000 non-null  object\n",
      " 47  KBA05_GBZ              121000 non-null  object\n",
      " 48  BALLRAUM               121000 non-null  object\n",
      " 49  EWDICHTE               121000 non-null  object\n",
      " 50  INNENSTADT             121000 non-null  object\n",
      " 51  GEBAEUDETYP_RASTER     121000 non-null  object\n",
      " 52  KKK                    121000 non-null  object\n",
      " 53  MOBI_REGIO             121000 non-null  object\n",
      " 54  ONLINE_AFFINITAET      121000 non-null  object\n",
      " 55  REGIOTYP               121000 non-null  object\n",
      " 56  KBA13_ANZAHL_PKW       121000 non-null  object\n",
      " 57  PLZ8_ANTG1             121000 non-null  object\n",
      " 58  PLZ8_ANTG2             121000 non-null  object\n",
      " 59  PLZ8_ANTG3             121000 non-null  object\n",
      " 60  PLZ8_ANTG4             121000 non-null  object\n",
      " 61  PLZ8_BAUMAX            121000 non-null  object\n",
      " 62  PLZ8_HHZ               121000 non-null  object\n",
      " 63  PLZ8_GBZ               121000 non-null  object\n",
      " 64  ARBEIT                 121000 non-null  object\n",
      " 65  ORTSGR_KLS9            121000 non-null  object\n",
      " 66  RELAT_AB               121000 non-null  object\n",
      " 67  O                      121000 non-null  uint8 \n",
      " 68  W                      121000 non-null  uint8 \n",
      " 69  decades                121000 non-null  int64 \n",
      " 70  movement               121000 non-null  int64 \n",
      " 71  household              121000 non-null  int64 \n",
      " 72  nucleo                 121000 non-null  int64 \n",
      "dtypes: int64(4), object(67), uint8(2)\n",
      "memory usage: 71.7+ MB\n"
     ]
    }
   ],
   "source": [
    "cs.info()"
   ]
  },
  {
   "cell_type": "code",
   "execution_count": 115,
   "metadata": {},
   "outputs": [],
   "source": [
    "az.to_csv('azdias_clean.csv', index=False)"
   ]
  },
  {
   "cell_type": "code",
   "execution_count": 108,
   "metadata": {},
   "outputs": [],
   "source": [
    "cs.to_csv('customers_clean.csv', index=False)"
   ]
  },
  {
   "cell_type": "markdown",
   "metadata": {},
   "source": [
    "## Step 2: Feature Transformation\n",
    "\n",
    "### Step 2.1: Apply Feature Scaling\n",
    "\n",
    "Before we apply dimensionality reduction techniques to the data, we need to perform feature scaling so that the principal component vectors are not influenced by the natural differences in scale for features. Starting from this part of the project, you'll want to keep an eye on the [API reference page for sklearn](http://scikit-learn.org/stable/modules/classes.html) to help you navigate to all of the classes and functions that you'll need. In this substep, you'll need to check the following:\n",
    "\n",
    "- sklearn requires that data not have missing values in order for its estimators to work properly. So, before applying the scaler to your data, make sure that you've cleaned the DataFrame of the remaining missing values. This can be as simple as just removing all data points with missing data, or applying an [Imputer](http://scikit-learn.org/stable/modules/generated/sklearn.preprocessing.Imputer.html) to replace all missing values. You might also try a more complicated procedure where you temporarily remove missing values in order to compute the scaling parameters before re-introducing those missing values and applying imputation. Think about how much missing data you have and what possible effects each approach might have on your analysis, and justify your decision in the discussion section below.\n",
    "- For the actual scaling function, a [StandardScaler](http://scikit-learn.org/stable/modules/generated/sklearn.preprocessing.StandardScaler.html) instance is suggested, scaling each feature to mean 0 and standard deviation 1.\n",
    "- For these classes, you can make use of the `.fit_transform()` method to both fit a procedure to the data as well as apply the transformation to the data at the same time. Don't forget to keep the fit sklearn objects handy, since you'll be applying them to the customer demographics data towards the end of the project."
   ]
  },
  {
   "cell_type": "code",
   "execution_count": 57,
   "metadata": {},
   "outputs": [
    {
     "data": {
      "text/plain": [
       "'\\nImport note: The classroom currently uses sklearn version 0.19.\\nIf you need to use an imputer, it is available in sklearn.preprocessing.Imputer,\\ninstead of sklearn.impute as in newer versions of sklearn.\\n'"
      ]
     },
     "execution_count": 57,
     "metadata": {},
     "output_type": "execute_result"
    }
   ],
   "source": [
    "# import libraries here; add more as necessary\n",
    "import numpy as np\n",
    "import pandas as pd\n",
    "import matplotlib.pyplot as plt\n",
    "import seaborn as sns\n",
    "import dask.dataframe as dd\n",
    "import time\n",
    "\n",
    "# magic word for producing visualizations in notebook\n",
    "%matplotlib inline\n",
    "\n",
    "'''\n",
    "Import note: The classroom currently uses sklearn version 0.19.\n",
    "If you need to use an imputer, it is available in sklearn.preprocessing.Imputer,\n",
    "instead of sklearn.impute as in newer versions of sklearn.\n",
    "'''"
   ]
  },
  {
   "cell_type": "code",
   "execution_count": 58,
   "metadata": {},
   "outputs": [
    {
     "name": "stderr",
     "output_type": "stream",
     "text": [
      "C:\\Users\\Chrysanthi\\Anaconda3\\envs\\udacity\\lib\\site-packages\\IPython\\core\\interactiveshell.py:3062: DtypeWarning: Columns (41) have mixed types.Specify dtype option on import or set low_memory=False.\n",
      "  has_raised = await self.run_ast_nodes(code_ast.body, cell_name,\n"
     ]
    }
   ],
   "source": [
    "# If you've not yet cleaned the dataset of all NaN values, then investigate and\n",
    "# do that now.\n",
    "gen = pd.read_csv('azdias_clean.csv')\n",
    "cus = pd.read_csv('customers_clean.csv')"
   ]
  },
  {
   "cell_type": "code",
   "execution_count": 59,
   "metadata": {},
   "outputs": [
    {
     "name": "stdout",
     "output_type": "stream",
     "text": [
      "General population nummber of Null values in \"CAMEO_INTL_2015\" is 0\n",
      "Customer Nummber of Null values in \"CAMEO_INTL_2015\" is 0\n"
     ]
    }
   ],
   "source": [
    "#check CAMEO_INTL_2015 in both datasets (column 41)\n",
    "print('General population nummber of Null values in \"CAMEO_INTL_2015\" is {}'.format(gen.CAMEO_INTL_2015.isnull().sum()))\n",
    "print('Customer Nummber of Null values in \"CAMEO_INTL_2015\" is {}'.format(cus.CAMEO_INTL_2015.isnull().sum()))"
   ]
  },
  {
   "cell_type": "code",
   "execution_count": 60,
   "metadata": {},
   "outputs": [],
   "source": [
    "#convert CAMEO_INTL_2015 to numeric values. All non-convertable values will be converted into NaN's\n",
    "gen['CAMEO_INTL_2015'] = pd.to_numeric(gen['CAMEO_INTL_2015'], errors='coerce')\n",
    "cus['CAMEO_INTL_2015'] = pd.to_numeric(cus['CAMEO_INTL_2015'], errors='coerce')"
   ]
  },
  {
   "cell_type": "code",
   "execution_count": 61,
   "metadata": {},
   "outputs": [
    {
     "name": "stdout",
     "output_type": "stream",
     "text": [
      "General population nummber of Null values in \"CAMEO_INTL_2015\" is 231\n",
      "Customer Nummber of Null values in \"CAMEO_INTL_2015\" is 36\n"
     ]
    }
   ],
   "source": [
    "#check CAMEO_INTL_2015 nulls again in both datasets\n",
    "print('General population nummber of Null values in \"CAMEO_INTL_2015\" is {}'.format(gen.CAMEO_INTL_2015.isnull().sum()))\n",
    "print('Customer Nummber of Null values in \"CAMEO_INTL_2015\" is {}'.format(cus.CAMEO_INTL_2015.isnull().sum()))"
   ]
  },
  {
   "cell_type": "code",
   "execution_count": 62,
   "metadata": {},
   "outputs": [],
   "source": [
    "#drop null values in both datasets\n",
    "gen.dropna(inplace=True)\n",
    "cus.dropna(inplace=True)"
   ]
  },
  {
   "cell_type": "code",
   "execution_count": 63,
   "metadata": {},
   "outputs": [
    {
     "name": "stdout",
     "output_type": "stream",
     "text": [
      "General population nummber of Null values in \"CAMEO_INTL_2015\" is 0\n",
      "Customer Nummber of Null values in \"CAMEO_INTL_2015\" is 0\n"
     ]
    }
   ],
   "source": [
    "#check CAMEO_INTL_2015 nulls again in both datasets\n",
    "print('General population nummber of Null values in \"CAMEO_INTL_2015\" is {}'.format(gen.CAMEO_INTL_2015.isnull().sum()))\n",
    "print('Customer Nummber of Null values in \"CAMEO_INTL_2015\" is {}'.format(cus.CAMEO_INTL_2015.isnull().sum()))"
   ]
  },
  {
   "cell_type": "code",
   "execution_count": 66,
   "metadata": {},
   "outputs": [],
   "source": [
    "#save clean csv\n",
    "gen.to_csv('azdias_clean.csv', index=False)\n",
    "cus.to_csv('customers_clean.csv', index=False)"
   ]
  },
  {
   "cell_type": "code",
   "execution_count": 67,
   "metadata": {},
   "outputs": [],
   "source": [
    "gen = pd.read_csv('azdias_clean.csv')\n",
    "cus = pd.read_csv('customers_clean.csv')"
   ]
  },
  {
   "cell_type": "code",
   "execution_count": null,
   "metadata": {},
   "outputs": [],
   "source": [
    "#https://towardsdatascience.com/4-super-useful-python-features-993ae484fbb8\n",
    "#https://towardsdatascience.com/3-advanced-python-functions-for-data-scientists-f869016da63a"
   ]
  },
  {
   "cell_type": "code",
   "execution_count": 70,
   "metadata": {},
   "outputs": [],
   "source": [
    "from sklearn.preprocessing import StandardScaler"
   ]
  },
  {
   "cell_type": "code",
   "execution_count": 71,
   "metadata": {},
   "outputs": [],
   "source": [
    "# Apply feature scaling to the general population demographics data.\n",
    "stan_scaler = StandardScaler() \n",
    "gen_scaled = stan_scaler.fit_transform(gen) \n",
    "gen_scaled = pd.DataFrame(gen_scaled, columns=list(gen))"
   ]
  },
  {
   "cell_type": "code",
   "execution_count": 72,
   "metadata": {},
   "outputs": [
    {
     "data": {
      "text/html": [
       "<div>\n",
       "<style scoped>\n",
       "    .dataframe tbody tr th:only-of-type {\n",
       "        vertical-align: middle;\n",
       "    }\n",
       "\n",
       "    .dataframe tbody tr th {\n",
       "        vertical-align: top;\n",
       "    }\n",
       "\n",
       "    .dataframe thead th {\n",
       "        text-align: right;\n",
       "    }\n",
       "</style>\n",
       "<table border=\"1\" class=\"dataframe\">\n",
       "  <thead>\n",
       "    <tr style=\"text-align: right;\">\n",
       "      <th></th>\n",
       "      <th>ALTERSKATEGORIE_GROB</th>\n",
       "      <th>ANREDE_KZ</th>\n",
       "      <th>FINANZ_MINIMALIST</th>\n",
       "      <th>FINANZ_SPARER</th>\n",
       "      <th>FINANZ_VORSORGER</th>\n",
       "      <th>FINANZ_ANLEGER</th>\n",
       "      <th>FINANZ_UNAUFFAELLIGER</th>\n",
       "      <th>FINANZ_HAUSBAUER</th>\n",
       "      <th>GREEN_AVANTGARDE</th>\n",
       "      <th>HEALTH_TYP</th>\n",
       "      <th>...</th>\n",
       "      <th>PLZ8_GBZ</th>\n",
       "      <th>ARBEIT</th>\n",
       "      <th>ORTSGR_KLS9</th>\n",
       "      <th>RELAT_AB</th>\n",
       "      <th>O</th>\n",
       "      <th>W</th>\n",
       "      <th>decades</th>\n",
       "      <th>movement</th>\n",
       "      <th>household</th>\n",
       "      <th>nucleo</th>\n",
       "    </tr>\n",
       "  </thead>\n",
       "  <tbody>\n",
       "    <tr>\n",
       "      <th>0</th>\n",
       "      <td>-1.738497</td>\n",
       "      <td>0.976850</td>\n",
       "      <td>-1.515654</td>\n",
       "      <td>1.578780</td>\n",
       "      <td>-1.041082</td>\n",
       "      <td>1.512628</td>\n",
       "      <td>1.041577</td>\n",
       "      <td>1.351269</td>\n",
       "      <td>-0.547400</td>\n",
       "      <td>1.032879</td>\n",
       "      <td>...</td>\n",
       "      <td>0.566024</td>\n",
       "      <td>-0.184880</td>\n",
       "      <td>-0.139029</td>\n",
       "      <td>0.673125</td>\n",
       "      <td>-0.527174</td>\n",
       "      <td>0.527174</td>\n",
       "      <td>1.159523</td>\n",
       "      <td>0.547400</td>\n",
       "      <td>-1.175568</td>\n",
       "      <td>-1.260963</td>\n",
       "    </tr>\n",
       "    <tr>\n",
       "      <th>1</th>\n",
       "      <td>0.205704</td>\n",
       "      <td>0.976850</td>\n",
       "      <td>-1.515654</td>\n",
       "      <td>0.898182</td>\n",
       "      <td>-1.762085</td>\n",
       "      <td>-0.552046</td>\n",
       "      <td>0.313883</td>\n",
       "      <td>1.351269</td>\n",
       "      <td>1.826817</td>\n",
       "      <td>1.032879</td>\n",
       "      <td>...</td>\n",
       "      <td>0.566024</td>\n",
       "      <td>-0.184880</td>\n",
       "      <td>-0.139029</td>\n",
       "      <td>-0.800046</td>\n",
       "      <td>-0.527174</td>\n",
       "      <td>0.527174</td>\n",
       "      <td>1.159523</td>\n",
       "      <td>-1.826817</td>\n",
       "      <td>0.869321</td>\n",
       "      <td>0.748876</td>\n",
       "    </tr>\n",
       "    <tr>\n",
       "      <th>2</th>\n",
       "      <td>0.205704</td>\n",
       "      <td>-1.023699</td>\n",
       "      <td>0.680911</td>\n",
       "      <td>0.217585</td>\n",
       "      <td>0.400926</td>\n",
       "      <td>-1.240270</td>\n",
       "      <td>0.313883</td>\n",
       "      <td>-0.836438</td>\n",
       "      <td>-0.547400</td>\n",
       "      <td>1.032879</td>\n",
       "      <td>...</td>\n",
       "      <td>-0.333306</td>\n",
       "      <td>0.818233</td>\n",
       "      <td>0.295944</td>\n",
       "      <td>1.409710</td>\n",
       "      <td>-0.527174</td>\n",
       "      <td>0.527174</td>\n",
       "      <td>-0.220405</td>\n",
       "      <td>0.547400</td>\n",
       "      <td>-0.493939</td>\n",
       "      <td>0.078930</td>\n",
       "    </tr>\n",
       "    <tr>\n",
       "      <th>3</th>\n",
       "      <td>-1.738497</td>\n",
       "      <td>0.976850</td>\n",
       "      <td>-0.051277</td>\n",
       "      <td>-1.143610</td>\n",
       "      <td>1.121929</td>\n",
       "      <td>-0.552046</td>\n",
       "      <td>-0.413811</td>\n",
       "      <td>1.351269</td>\n",
       "      <td>-0.547400</td>\n",
       "      <td>1.032879</td>\n",
       "      <td>...</td>\n",
       "      <td>1.465353</td>\n",
       "      <td>-1.187993</td>\n",
       "      <td>-1.008974</td>\n",
       "      <td>-0.063461</td>\n",
       "      <td>-0.527174</td>\n",
       "      <td>0.527174</td>\n",
       "      <td>-1.600334</td>\n",
       "      <td>0.547400</td>\n",
       "      <td>-1.175568</td>\n",
       "      <td>0.748876</td>\n",
       "    </tr>\n",
       "    <tr>\n",
       "      <th>4</th>\n",
       "      <td>-0.766397</td>\n",
       "      <td>0.976850</td>\n",
       "      <td>-1.515654</td>\n",
       "      <td>1.578780</td>\n",
       "      <td>-1.762085</td>\n",
       "      <td>1.512628</td>\n",
       "      <td>1.041577</td>\n",
       "      <td>-0.107202</td>\n",
       "      <td>-0.547400</td>\n",
       "      <td>-0.288954</td>\n",
       "      <td>...</td>\n",
       "      <td>1.465353</td>\n",
       "      <td>0.818233</td>\n",
       "      <td>0.295944</td>\n",
       "      <td>-0.063461</td>\n",
       "      <td>-0.527174</td>\n",
       "      <td>0.527174</td>\n",
       "      <td>0.469559</td>\n",
       "      <td>0.547400</td>\n",
       "      <td>0.869321</td>\n",
       "      <td>-0.591017</td>\n",
       "    </tr>\n",
       "  </tbody>\n",
       "</table>\n",
       "<p>5 rows × 73 columns</p>\n",
       "</div>"
      ],
      "text/plain": [
       "   ALTERSKATEGORIE_GROB  ANREDE_KZ  FINANZ_MINIMALIST  FINANZ_SPARER  \\\n",
       "0             -1.738497   0.976850          -1.515654       1.578780   \n",
       "1              0.205704   0.976850          -1.515654       0.898182   \n",
       "2              0.205704  -1.023699           0.680911       0.217585   \n",
       "3             -1.738497   0.976850          -0.051277      -1.143610   \n",
       "4             -0.766397   0.976850          -1.515654       1.578780   \n",
       "\n",
       "   FINANZ_VORSORGER  FINANZ_ANLEGER  FINANZ_UNAUFFAELLIGER  FINANZ_HAUSBAUER  \\\n",
       "0         -1.041082        1.512628               1.041577          1.351269   \n",
       "1         -1.762085       -0.552046               0.313883          1.351269   \n",
       "2          0.400926       -1.240270               0.313883         -0.836438   \n",
       "3          1.121929       -0.552046              -0.413811          1.351269   \n",
       "4         -1.762085        1.512628               1.041577         -0.107202   \n",
       "\n",
       "   GREEN_AVANTGARDE  HEALTH_TYP  ...  PLZ8_GBZ    ARBEIT  ORTSGR_KLS9  \\\n",
       "0         -0.547400    1.032879  ...  0.566024 -0.184880    -0.139029   \n",
       "1          1.826817    1.032879  ...  0.566024 -0.184880    -0.139029   \n",
       "2         -0.547400    1.032879  ... -0.333306  0.818233     0.295944   \n",
       "3         -0.547400    1.032879  ...  1.465353 -1.187993    -1.008974   \n",
       "4         -0.547400   -0.288954  ...  1.465353  0.818233     0.295944   \n",
       "\n",
       "   RELAT_AB         O         W   decades  movement  household    nucleo  \n",
       "0  0.673125 -0.527174  0.527174  1.159523  0.547400  -1.175568 -1.260963  \n",
       "1 -0.800046 -0.527174  0.527174  1.159523 -1.826817   0.869321  0.748876  \n",
       "2  1.409710 -0.527174  0.527174 -0.220405  0.547400  -0.493939  0.078930  \n",
       "3 -0.063461 -0.527174  0.527174 -1.600334  0.547400  -1.175568  0.748876  \n",
       "4 -0.063461 -0.527174  0.527174  0.469559  0.547400   0.869321 -0.591017  \n",
       "\n",
       "[5 rows x 73 columns]"
      ]
     },
     "execution_count": 72,
     "metadata": {},
     "output_type": "execute_result"
    }
   ],
   "source": [
    "gen_scaled.head()"
   ]
  },
  {
   "cell_type": "markdown",
   "metadata": {},
   "source": [
    "### Discussion 2.1: Apply Feature Scaling\n",
    "\n",
    "We scaled data so that it has mean 0 and variance 1 and for this reason I use **StandardScaler**\n",
    "\n",
    "In some cases it is useful to think of data in terms of the percent they are as compared to the maximum value.  In these cases, we use **MinMaxScaler**.\n",
    "\n",
    "(Double-click this cell and replace this text with your own text, reporting your decisions regarding feature scaling.)"
   ]
  },
  {
   "cell_type": "markdown",
   "metadata": {},
   "source": [
    "### Step 2.2: Perform Dimensionality Reduction\n",
    "\n",
    "On your scaled data, you are now ready to apply dimensionality reduction techniques.\n",
    "\n",
    "- Use sklearn's [PCA](http://scikit-learn.org/stable/modules/generated/sklearn.decomposition.PCA.html) class to apply principal component analysis on the data, thus finding the vectors of maximal variance in the data. To start, you should not set any parameters (so all components are computed) or set a number of components that is at least half the number of features (so there's enough features to see the general trend in variability).\n",
    "- Check out the ratio of variance explained by each principal component as well as the cumulative variance explained. Try plotting the cumulative or sequential values using matplotlib's [`plot()`](https://matplotlib.org/api/_as_gen/matplotlib.pyplot.plot.html) function. Based on what you find, select a value for the number of transformed features you'll retain for the clustering part of the project.\n",
    "- Once you've made a choice for the number of components to keep, make sure you re-fit a PCA instance to perform the decided-on transformation."
   ]
  },
  {
   "cell_type": "code",
   "execution_count": 205,
   "metadata": {},
   "outputs": [],
   "source": [
    "# Create a function to apply PCA to the data.\n",
    "def do_pca(n_components, data):\n",
    "    '''\n",
    "    Transforms data using PCA to create n_components, and provides back the results of the\n",
    "    transformation.\n",
    "\n",
    "    INPUT: n_components - int - the number of principal components to create\n",
    "           data - the data you would like to transform\n",
    "\n",
    "    OUTPUT: pca - the pca object created after fitting the data\n",
    "            X_pca - the transformed X matrix with new number of components\n",
    "    '''\n",
    "    X = StandardScaler().fit_transform(data)\n",
    "    pca = PCA(n_components)\n",
    "    X_pca = pca.fit_transform(X)\n",
    "    return pca, X_pca\n",
    "\n"
   ]
  },
  {
   "cell_type": "code",
   "execution_count": 270,
   "metadata": {},
   "outputs": [],
   "source": [
    "#apply the PCA function to the data\n",
    "pca73, gen_sc_pca73 = do_pca(73, gen_scaled)"
   ]
  },
  {
   "cell_type": "code",
   "execution_count": 271,
   "metadata": {},
   "outputs": [],
   "source": [
    "#values_view = dic.values()\n",
    "#value_iterator = iter(values_view)\n",
    "#first_value = next(iter(dic.values()))\n",
    "import collections\n",
    "keys73 = range(0,73)\n",
    "values73 = pca73.explained_variance_ratio_.tolist()\n",
    "pca73_dic = collections.OrderedDict(enumerate(zip(keys73, values73)))"
   ]
  },
  {
   "cell_type": "code",
   "execution_count": 225,
   "metadata": {},
   "outputs": [],
   "source": [
    "#create a function to visualize a graph of the principal components\n",
    "def scree_plot(pca):\n",
    "    '''\n",
    "    Creates a scree plot associated with the principal components \n",
    "    \n",
    "    INPUT: pca - the result of instantian of PCA in scikit learn\n",
    "            \n",
    "    OUTPUT:\n",
    "            None\n",
    "    '''\n",
    "    num_components=len(pca.explained_variance_ratio_)\n",
    "    ind = np.arange(num_components)\n",
    "    vals = pca.explained_variance_ratio_\n",
    " \n",
    "    plt.figure(figsize=(10, 6))\n",
    "    ax = plt.subplot(111)\n",
    "    cumvals = np.cumsum(vals)\n",
    "    ax.bar(ind, vals)\n",
    "    ax.plot(ind, cumvals)\n",
    "    for i in range(num_components):\n",
    "        ax.annotate(r\"%s%%\" % ((str(vals[i]*100)[:4])), (ind[i]+0.2, vals[i]), va=\"bottom\", ha=\"center\", fontsize=12)\n",
    " \n",
    "    ax.xaxis.set_tick_params(width=0)\n",
    "    ax.yaxis.set_tick_params(width=2, length=12)\n",
    "    \n",
    "    ax.set_xlabel(\"Principal Component\")\n",
    "    ax.set_ylabel(\"Variance Explained (%)\")\n",
    "    plt.title('Explained Variance Per Principal Component')"
   ]
  },
  {
   "cell_type": "code",
   "execution_count": 272,
   "metadata": {},
   "outputs": [
    {
     "data": {
      "image/png": "[encoded data removed]",
      "text/plain": [
       "<Figure size 720x432 with 1 Axes>"
      ]
     },
     "metadata": {
      "needs_background": "light"
     },
     "output_type": "display_data"
    }
   ],
   "source": [
    "scree_plot(pca73)"
   ]
  },
  {
   "cell_type": "code",
   "execution_count": 274,
   "metadata": {},
   "outputs": [
    {
     "data": {
      "text/plain": [
       "OrderedDict([(0, (0, 0.17646845103809816)),\n",
       "             (1, (1, 0.13251978699142372)),\n",
       "             (2, (2, 0.08500739733397181)),\n",
       "             (3, (3, 0.05326884792352761)),\n",
       "             (4, (4, 0.04116806836552499)),\n",
       "             (5, (5, 0.03328319637721244)),\n",
       "             (6, (6, 0.03142631662377331)),\n",
       "             (7, (7, 0.02694848464919654)),\n",
       "             (8, (8, 0.023141740585664938)),\n",
       "             (9, (9, 0.022015439747460577)),\n",
       "             (10, (10, 0.0197167805195799)),\n",
       "             (11, (11, 0.017557966412109563)),\n",
       "             (12, (12, 0.017238990313943103)),\n",
       "             (13, (13, 0.016073483553088325)),\n",
       "             (14, (14, 0.015181214111252428)),\n",
       "             (15, (15, 0.01376925713373674)),\n",
       "             (16, (16, 0.013697342544156459)),\n",
       "             (17, (17, 0.0133944974649018)),\n",
       "             (18, (18, 0.01256005709261055)),\n",
       "             (19, (19, 0.011762380847096776)),\n",
       "             (20, (20, 0.011515445628959068)),\n",
       "             (21, (21, 0.010850304538365215)),\n",
       "             (22, (22, 0.010750515824663222)),\n",
       "             (23, (23, 0.010212299284149797)),\n",
       "             (24, (24, 0.009698015750135014)),\n",
       "             (25, (25, 0.009584247126714523)),\n",
       "             (26, (26, 0.008829318526925456)),\n",
       "             (27, (27, 0.008565452104255916)),\n",
       "             (28, (28, 0.007731952941733771)),\n",
       "             (29, (29, 0.007658636648295217)),\n",
       "             (30, (30, 0.0069018677089717805)),\n",
       "             (31, (31, 0.006558346661370603)),\n",
       "             (32, (32, 0.0063940646950305415)),\n",
       "             (33, (33, 0.0062658375875520025)),\n",
       "             (34, (34, 0.006139735366426839)),\n",
       "             (35, (35, 0.005659550112541133)),\n",
       "             (36, (36, 0.005605850089694215)),\n",
       "             (37, (37, 0.005375652931654144)),\n",
       "             (38, (38, 0.005273152068203887)),\n",
       "             (39, (39, 0.00468244664792997)),\n",
       "             (40, (40, 0.004257689075239047)),\n",
       "             (41, (41, 0.0039041175804578306)),\n",
       "             (42, (42, 0.0038394506477794233)),\n",
       "             (43, (43, 0.003554906725740545)),\n",
       "             (44, (44, 0.0034495291388398795)),\n",
       "             (45, (45, 0.003395328806783632)),\n",
       "             (46, (46, 0.003293818505474669)),\n",
       "             (47, (47, 0.0031878074090128045)),\n",
       "             (48, (48, 0.003118464384710627)),\n",
       "             (49, (49, 0.002943880862709515)),\n",
       "             (50, (50, 0.0029009801232675607)),\n",
       "             (51, (51, 0.00271430077030486)),\n",
       "             (52, (52, 0.0026241902774100678)),\n",
       "             (53, (53, 0.002508501974906913)),\n",
       "             (54, (54, 0.0024580480029843203)),\n",
       "             (55, (55, 0.0023176559672437843)),\n",
       "             (56, (56, 0.0021872634672010453)),\n",
       "             (57, (57, 0.0021399752196011746)),\n",
       "             (58, (58, 0.0019535554414681694)),\n",
       "             (59, (59, 0.001920197028836306)),\n",
       "             (60, (60, 0.0018658547191521195)),\n",
       "             (61, (61, 0.0016373642812475895)),\n",
       "             (62, (62, 0.0015649851193317568)),\n",
       "             (63, (63, 0.0015328692811305317)),\n",
       "             (64, (64, 0.0013227544636474694)),\n",
       "             (65, (65, 0.0011474800235581637)),\n",
       "             (66, (66, 0.0010575649102257281)),\n",
       "             (67, (67, 0.0005665440584621418)),\n",
       "             (68, (68, 9.393024065824036e-05)),\n",
       "             (69, (69, 8.859962071198964e-05)),\n",
       "             (70, (70, 4.063185419938771e-32)),\n",
       "             (71, (71, 1.3978975585995012e-32)),\n",
       "             (72, (72, 1.3756989858179527e-32))])"
      ]
     },
     "execution_count": 274,
     "metadata": {},
     "output_type": "execute_result"
    }
   ],
   "source": [
    "# Investigate the variance accounted for by each principal component.\n",
    "pca73_dic"
   ]
  },
  {
   "cell_type": "code",
   "execution_count": 275,
   "metadata": {},
   "outputs": [],
   "source": [
    "# Re-apply PCA to the data while selecting for number of components to retain.\n",
    "pca, gen_sc_pca = do_pca(14, gen_scaled)"
   ]
  },
  {
   "cell_type": "code",
   "execution_count": 276,
   "metadata": {},
   "outputs": [
    {
     "data": {
      "image/png": "[encoded data removed]",
      "text/plain": [
       "<Figure size 720x432 with 1 Axes>"
      ]
     },
     "metadata": {
      "needs_background": "light"
     },
     "output_type": "display_data"
    }
   ],
   "source": [
    "scree_plot(pca)"
   ]
  },
  {
   "cell_type": "markdown",
   "metadata": {},
   "source": [
    "### Discussion 2.2: Perform Dimensionality Reduction\n",
    "\n",
    "- Initially we applied PRINCIPAL COMPONENT ANALYSIS in the entire dataset of 73 features to check the percentage of variance explained by the model. \n",
    "- We identified 14 Components that explain almost 70% of the variance of the model.Each of the rest of the features explain less than 0.15 % of the model almost equally so we decided to remove them as the have very small significnce in the overall process.\n",
    "\n",
    "(Double-click this cell and replace this text with your own text, reporting your findings and decisions regarding dimensionality reduction. How many principal components / transformed features are you retaining for the next step of the analysis?)"
   ]
  },
  {
   "cell_type": "markdown",
   "metadata": {},
   "source": [
    "### Step 2.3: Interpret Principal Components\n",
    "\n",
    "Now that we have our transformed principal components, it's a nice idea to check out the weight of each variable on the first few components to see if they can be interpreted in some fashion.\n",
    "\n",
    "As a reminder, each principal component is a unit vector that points in the direction of highest variance (after accounting for the variance captured by earlier principal components). The further a weight is from zero, the more the principal component is in the direction of the corresponding feature. If two features have large weights of the same sign (both positive or both negative), then increases in one tend expect to be associated with increases in the other. To contrast, features with different signs can be expected to show a negative correlation: increases in one variable should result in a decrease in the other.\n",
    "\n",
    "- To investigate the features, you should map each weight to their corresponding feature name, then sort the features according to weight. The most interesting features for each principal component, then, will be those at the beginning and end of the sorted list. Use the data dictionary document to help you understand these most prominent features, their relationships, and what a positive or negative value on the principal component might indicate.\n",
    "- You should investigate and interpret feature associations from the first three principal components in this substep. To help facilitate this, you should write a function that you can call at any time to print the sorted list of feature weights, for the *i*-th principal component. This might come in handy in the next step of the project, when you interpret the tendencies of the discovered clusters."
   ]
  },
  {
   "cell_type": "code",
   "execution_count": 306,
   "metadata": {},
   "outputs": [],
   "source": [
    "df = pd.DataFrame()"
   ]
  },
  {
   "cell_type": "code",
   "execution_count": 307,
   "metadata": {},
   "outputs": [],
   "source": [
    "df['features'] = gen_scaled.columns"
   ]
  },
  {
   "cell_type": "code",
   "execution_count": 322,
   "metadata": {},
   "outputs": [],
   "source": [
    "comp_1 = dict(zip( gen_scaled.columns, pca.components_[1]));"
   ]
  },
  {
   "cell_type": "code",
   "execution_count": 327,
   "metadata": {},
   "outputs": [],
   "source": [
    "comp_2 = dict(zip( gen_scaled.columns, pca.components_[2]));"
   ]
  },
  {
   "cell_type": "code",
   "execution_count": 333,
   "metadata": {},
   "outputs": [],
   "source": [
    "comp_3 = dict(zip( gen_scaled.columns, pca.components_[3]));"
   ]
  },
  {
   "cell_type": "code",
   "execution_count": 323,
   "metadata": {},
   "outputs": [],
   "source": [
    "df['c1'] = df['features'].map(comp_1)"
   ]
  },
  {
   "cell_type": "code",
   "execution_count": 329,
   "metadata": {},
   "outputs": [],
   "source": [
    "df['c2'] = df['features'].map(comp_2)"
   ]
  },
  {
   "cell_type": "code",
   "execution_count": 336,
   "metadata": {},
   "outputs": [],
   "source": [
    "df['c3'] = df['features'].map(comp_3)"
   ]
  },
  {
   "cell_type": "code",
   "execution_count": 337,
   "metadata": {},
   "outputs": [
    {
     "data": {
      "text/html": [
       "<div>\n",
       "<style scoped>\n",
       "    .dataframe tbody tr th:only-of-type {\n",
       "        vertical-align: middle;\n",
       "    }\n",
       "\n",
       "    .dataframe tbody tr th {\n",
       "        vertical-align: top;\n",
       "    }\n",
       "\n",
       "    .dataframe thead th {\n",
       "        text-align: right;\n",
       "    }\n",
       "</style>\n",
       "<table border=\"1\" class=\"dataframe\">\n",
       "  <thead>\n",
       "    <tr style=\"text-align: right;\">\n",
       "      <th></th>\n",
       "      <th>features</th>\n",
       "      <th>c3</th>\n",
       "      <th>c1</th>\n",
       "      <th>c2</th>\n",
       "    </tr>\n",
       "  </thead>\n",
       "  <tbody>\n",
       "    <tr>\n",
       "      <th>0</th>\n",
       "      <td>ALTERSKATEGORIE_GROB</td>\n",
       "      <td>-0.020063</td>\n",
       "      <td>0.256685</td>\n",
       "      <td>0.056919</td>\n",
       "    </tr>\n",
       "    <tr>\n",
       "      <th>1</th>\n",
       "      <td>ANREDE_KZ</td>\n",
       "      <td>0.032353</td>\n",
       "      <td>0.061500</td>\n",
       "      <td>-0.373211</td>\n",
       "    </tr>\n",
       "    <tr>\n",
       "      <th>2</th>\n",
       "      <td>FINANZ_MINIMALIST</td>\n",
       "      <td>0.060201</td>\n",
       "      <td>0.086512</td>\n",
       "      <td>0.153446</td>\n",
       "    </tr>\n",
       "    <tr>\n",
       "      <th>3</th>\n",
       "      <td>FINANZ_SPARER</td>\n",
       "      <td>-0.006475</td>\n",
       "      <td>-0.240708</td>\n",
       "      <td>-0.081931</td>\n",
       "    </tr>\n",
       "    <tr>\n",
       "      <th>4</th>\n",
       "      <td>FINANZ_VORSORGER</td>\n",
       "      <td>-0.000342</td>\n",
       "      <td>0.232333</td>\n",
       "      <td>0.078793</td>\n",
       "    </tr>\n",
       "    <tr>\n",
       "      <th>...</th>\n",
       "      <td>...</td>\n",
       "      <td>...</td>\n",
       "      <td>...</td>\n",
       "      <td>...</td>\n",
       "    </tr>\n",
       "    <tr>\n",
       "      <th>68</th>\n",
       "      <td>W</td>\n",
       "      <td>0.118280</td>\n",
       "      <td>-0.025559</td>\n",
       "      <td>-0.010085</td>\n",
       "    </tr>\n",
       "    <tr>\n",
       "      <th>69</th>\n",
       "      <td>decades</td>\n",
       "      <td>0.038568</td>\n",
       "      <td>-0.258461</td>\n",
       "      <td>-0.088248</td>\n",
       "    </tr>\n",
       "    <tr>\n",
       "      <th>70</th>\n",
       "      <td>movement</td>\n",
       "      <td>-0.336739</td>\n",
       "      <td>0.010053</td>\n",
       "      <td>-0.050723</td>\n",
       "    </tr>\n",
       "    <tr>\n",
       "      <th>71</th>\n",
       "      <td>household</td>\n",
       "      <td>0.102446</td>\n",
       "      <td>-0.060398</td>\n",
       "      <td>-0.015866</td>\n",
       "    </tr>\n",
       "    <tr>\n",
       "      <th>72</th>\n",
       "      <td>nucleo</td>\n",
       "      <td>0.040461</td>\n",
       "      <td>0.005687</td>\n",
       "      <td>-0.006060</td>\n",
       "    </tr>\n",
       "  </tbody>\n",
       "</table>\n",
       "<p>73 rows × 4 columns</p>\n",
       "</div>"
      ],
      "text/plain": [
       "                features        c3        c1        c2\n",
       "0   ALTERSKATEGORIE_GROB -0.020063  0.256685  0.056919\n",
       "1              ANREDE_KZ  0.032353  0.061500 -0.373211\n",
       "2      FINANZ_MINIMALIST  0.060201  0.086512  0.153446\n",
       "3          FINANZ_SPARER -0.006475 -0.240708 -0.081931\n",
       "4       FINANZ_VORSORGER -0.000342  0.232333  0.078793\n",
       "..                   ...       ...       ...       ...\n",
       "68                     W  0.118280 -0.025559 -0.010085\n",
       "69               decades  0.038568 -0.258461 -0.088248\n",
       "70              movement -0.336739  0.010053 -0.050723\n",
       "71             household  0.102446 -0.060398 -0.015866\n",
       "72                nucleo  0.040461  0.005687 -0.006060\n",
       "\n",
       "[73 rows x 4 columns]"
      ]
     },
     "execution_count": 337,
     "metadata": {},
     "output_type": "execute_result"
    }
   ],
   "source": [
    "df"
   ]
  },
  {
   "cell_type": "code",
   "execution_count": 347,
   "metadata": {},
   "outputs": [
    {
     "data": {
      "text/plain": [
       "13    0.165299\n",
       "19    0.178517\n",
       "20    0.212695\n",
       "4     0.232333\n",
       "0     0.256685\n",
       "Name: c1, dtype: float64"
      ]
     },
     "execution_count": 347,
     "metadata": {},
     "output_type": "execute_result"
    }
   ],
   "source": [
    "df.c1.sort_values().tail()"
   ]
  },
  {
   "cell_type": "code",
   "execution_count": 348,
   "metadata": {},
   "outputs": [
    {
     "data": {
      "text/plain": [
       "2     0.153446\n",
       "21    0.252448\n",
       "15    0.266008\n",
       "14    0.271221\n",
       "18    0.351075\n",
       "Name: c2, dtype: float64"
      ]
     },
     "execution_count": 348,
     "metadata": {},
     "output_type": "execute_result"
    }
   ],
   "source": [
    "df.c2.sort_values().tail()"
   ]
  },
  {
   "cell_type": "code",
   "execution_count": 349,
   "metadata": {},
   "outputs": [
    {
     "data": {
      "text/plain": [
       "11    0.193320\n",
       "10    0.196630\n",
       "65    0.259810\n",
       "49    0.264579\n",
       "8     0.336739\n",
       "Name: c3, dtype: float64"
      ]
     },
     "execution_count": 349,
     "metadata": {},
     "output_type": "execute_result"
    }
   ],
   "source": [
    "df.c3.sort_values().tail()"
   ]
  },
  {
   "cell_type": "code",
   "execution_count": 344,
   "metadata": {},
   "outputs": [
    {
     "data": {
      "text/plain": [
       "(features    ALTERSKATEGORIE_GROB\n",
       " c3                    -0.0200632\n",
       " c1                      0.256685\n",
       " c2                     0.0569194\n",
       " Name: 0, dtype: object,\n",
       " features    SEMIO_VERT\n",
       " c3         -0.00602237\n",
       " c1          -0.0430508\n",
       " c2            0.351075\n",
       " Name: 18, dtype: object,\n",
       " features    GREEN_AVANTGARDE\n",
       " c3                  0.336739\n",
       " c1                -0.0100526\n",
       " c2                 0.0507235\n",
       " Name: 8, dtype: object)"
      ]
     },
     "execution_count": 344,
     "metadata": {},
     "output_type": "execute_result"
    }
   ],
   "source": [
    "df.loc[0,:], df.loc[18,:], df.loc[8,:]"
   ]
  },
  {
   "cell_type": "code",
   "execution_count": 262,
   "metadata": {},
   "outputs": [],
   "source": [
    "# Map weights for the first principal component to corresponding feature names\n",
    "# and then print the linked values, sorted by weight.\n",
    "# HINT: Try defining a function here or in a new cell that you can reuse in the\n",
    "# other cells.\n",
    "\n"
   ]
  },
  {
   "cell_type": "code",
   "execution_count": null,
   "metadata": {},
   "outputs": [],
   "source": [
    "# Map weights for the second principal component to corresponding feature names\n",
    "# and then print the linked values, sorted by weight.\n",
    "\n"
   ]
  },
  {
   "cell_type": "code",
   "execution_count": null,
   "metadata": {},
   "outputs": [],
   "source": [
    "# Map weights for the third principal component to corresponding feature names\n",
    "# and then print the linked values, sorted by weight.\n",
    "\n"
   ]
  },
  {
   "cell_type": "markdown",
   "metadata": {},
   "source": [
    "### Discussion 2.3: Interpret Principal Components\n",
    "\n",
    "1. Feature `ALTERSKATEGORIE_GROB` Estimated age based on given name analysis\n",
    "-  1: < 30 years old\n",
    "-  2: 30 - 45 years old\n",
    "-  3: 46 - 60 years old\n",
    "-  4: > 60 years old\n",
    "-  9: uniformly distributed\n",
    "\n",
    "2. Personality typology `SEMIO_VERT`\n",
    "\n",
    "3. Membership in environmental sustainability as part of youth\n",
    "- 0: not a member of green avantgarde\n",
    "- 1: member of green avantgarde\n",
    "\n",
    "All three components together they interact in a positive way of the model with the first one indicating younger ages.\n",
    "\n",
    "(Double-click this cell and replace this text with your own text, reporting your observations from detailed investigation of the first few principal components generated. Can we interpret positive and negative values from them in a meaningful way?)"
   ]
  },
  {
   "cell_type": "markdown",
   "metadata": {},
   "source": [
    "## Step 3: Clustering\n",
    "\n",
    "### Step 3.1: Apply Clustering to General Population\n",
    "\n",
    "You've assessed and cleaned the demographics data, then scaled and transformed them. Now, it's time to see how the data clusters in the principal components space. In this substep, you will apply k-means clustering to the dataset and use the average within-cluster distances from each point to their assigned cluster's centroid to decide on a number of clusters to keep.\n",
    "\n",
    "- Use sklearn's [KMeans](http://scikit-learn.org/stable/modules/generated/sklearn.cluster.KMeans.html#sklearn.cluster.KMeans) class to perform k-means clustering on the PCA-transformed data.\n",
    "- Then, compute the average difference from each point to its assigned cluster's center. **Hint**: The KMeans object's `.score()` method might be useful here, but note that in sklearn, scores tend to be defined so that larger is better. Try applying it to a small, toy dataset, or use an internet search to help your understanding.\n",
    "- Perform the above two steps for a number of different cluster counts. You can then see how the average distance decreases with an increasing number of clusters. However, each additional cluster provides a smaller net benefit. Use this fact to select a final number of clusters in which to group the data. **Warning**: because of the large size of the dataset, it can take a long time for the algorithm to resolve. The more clusters to fit, the longer the algorithm will take. You should test for cluster counts through at least 10 clusters to get the full picture, but you shouldn't need to test for a number of clusters above about 30.\n",
    "- Once you've selected a final number of clusters to use, re-fit a KMeans instance to perform the clustering operation. Make sure that you also obtain the cluster assignments for the general demographics data, since you'll be using them in the final Step 3.3."
   ]
  },
  {
   "cell_type": "code",
   "execution_count": null,
   "metadata": {},
   "outputs": [],
   "source": [
    "# Over a number of different cluster counts...\n",
    "\n",
    "\n",
    "    # run k-means clustering on the data and...\n",
    "    \n",
    "    \n",
    "    # compute the average within-cluster distances.\n",
    "    \n",
    "    "
   ]
  },
  {
   "cell_type": "code",
   "execution_count": null,
   "metadata": {},
   "outputs": [],
   "source": [
    "# Investigate the change in within-cluster distance across number of clusters.\n",
    "# HINT: Use matplotlib's plot function to visualize this relationship.\n",
    "\n"
   ]
  },
  {
   "cell_type": "code",
   "execution_count": null,
   "metadata": {},
   "outputs": [],
   "source": [
    "# Re-fit the k-means model with the selected number of clusters and obtain\n",
    "# cluster predictions for the general population demographics data.\n",
    "\n"
   ]
  },
  {
   "cell_type": "markdown",
   "metadata": {},
   "source": [
    "### Discussion 3.1: Apply Clustering to General Population\n",
    "\n",
    "(Double-click this cell and replace this text with your own text, reporting your findings and decisions regarding clustering. Into how many clusters have you decided to segment the population?)"
   ]
  },
  {
   "cell_type": "markdown",
   "metadata": {},
   "source": [
    "### Step 3.2: Apply All Steps to the Customer Data\n",
    "\n",
    "Now that you have clusters and cluster centers for the general population, it's time to see how the customer data maps on to those clusters. Take care to not confuse this for re-fitting all of the models to the customer data. Instead, you're going to use the fits from the general population to clean, transform, and cluster the customer data. In the last step of the project, you will interpret how the general population fits apply to the customer data.\n",
    "\n",
    "- Don't forget when loading in the customers data, that it is semicolon (`;`) delimited.\n",
    "- Apply the same feature wrangling, selection, and engineering steps to the customer demographics using the `clean_data()` function you created earlier. (You can assume that the customer demographics data has similar meaning behind missing data patterns as the general demographics data.)\n",
    "- Use the sklearn objects from the general demographics data, and apply their transformations to the customers data. That is, you should not be using a `.fit()` or `.fit_transform()` method to re-fit the old objects, nor should you be creating new sklearn objects! Carry the data through the feature scaling, PCA, and clustering steps, obtaining cluster assignments for all of the data in the customer demographics data."
   ]
  },
  {
   "cell_type": "code",
   "execution_count": null,
   "metadata": {},
   "outputs": [],
   "source": [
    "# Load in the customer demographics data.\n",
    "customers = "
   ]
  },
  {
   "cell_type": "code",
   "execution_count": null,
   "metadata": {},
   "outputs": [],
   "source": [
    "# Apply preprocessing, feature transformation, and clustering from the general\n",
    "# demographics onto the customer data, obtaining cluster predictions for the\n",
    "# customer demographics data.\n",
    "\n"
   ]
  },
  {
   "cell_type": "markdown",
   "metadata": {},
   "source": [
    "### Step 3.3: Compare Customer Data to Demographics Data\n",
    "\n",
    "At this point, you have clustered data based on demographics of the general population of Germany, and seen how the customer data for a mail-order sales company maps onto those demographic clusters. In this final substep, you will compare the two cluster distributions to see where the strongest customer base for the company is.\n",
    "\n",
    "Consider the proportion of persons in each cluster for the general population, and the proportions for the customers. If we think the company's customer base to be universal, then the cluster assignment proportions should be fairly similar between the two. If there are only particular segments of the population that are interested in the company's products, then we should see a mismatch from one to the other. If there is a higher proportion of persons in a cluster for the customer data compared to the general population (e.g. 5% of persons are assigned to a cluster for the general population, but 15% of the customer data is closest to that cluster's centroid) then that suggests the people in that cluster to be a target audience for the company. On the other hand, the proportion of the data in a cluster being larger in the general population than the customer data (e.g. only 2% of customers closest to a population centroid that captures 6% of the data) suggests that group of persons to be outside of the target demographics.\n",
    "\n",
    "Take a look at the following points in this step:\n",
    "\n",
    "- Compute the proportion of data points in each cluster for the general population and the customer data. Visualizations will be useful here: both for the individual dataset proportions, but also to visualize the ratios in cluster representation between groups. Seaborn's [`countplot()`](https://seaborn.pydata.org/generated/seaborn.countplot.html) or [`barplot()`](https://seaborn.pydata.org/generated/seaborn.barplot.html) function could be handy.\n",
    "  - Recall the analysis you performed in step 1.1.3 of the project, where you separated out certain data points from the dataset if they had more than a specified threshold of missing values. If you found that this group was qualitatively different from the main bulk of the data, you should treat this as an additional data cluster in this analysis. Make sure that you account for the number of data points in this subset, for both the general population and customer datasets, when making your computations!\n",
    "- Which cluster or clusters are overrepresented in the customer dataset compared to the general population? Select at least one such cluster and infer what kind of people might be represented by that cluster. Use the principal component interpretations from step 2.3 or look at additional components to help you make this inference. Alternatively, you can use the `.inverse_transform()` method of the PCA and StandardScaler objects to transform centroids back to the original data space and interpret the retrieved values directly.\n",
    "- Perform a similar investigation for the underrepresented clusters. Which cluster or clusters are underrepresented in the customer dataset compared to the general population, and what kinds of people are typified by these clusters?"
   ]
  },
  {
   "cell_type": "code",
   "execution_count": null,
   "metadata": {},
   "outputs": [],
   "source": [
    "# Compare the proportion of data in each cluster for the customer data to the\n",
    "# proportion of data in each cluster for the general population.\n",
    "\n"
   ]
  },
  {
   "cell_type": "code",
   "execution_count": null,
   "metadata": {},
   "outputs": [],
   "source": [
    "# What kinds of people are part of a cluster that is overrepresented in the\n",
    "# customer data compared to the general population?\n",
    "\n"
   ]
  },
  {
   "cell_type": "code",
   "execution_count": null,
   "metadata": {},
   "outputs": [],
   "source": [
    "# What kinds of people are part of a cluster that is underrepresented in the\n",
    "# customer data compared to the general population?\n",
    "\n"
   ]
  },
  {
   "cell_type": "markdown",
   "metadata": {},
   "source": [
    "### Discussion 3.3: Compare Customer Data to Demographics Data\n",
    "\n",
    "(Double-click this cell and replace this text with your own text, reporting findings and conclusions from the clustering analysis. Can we describe segments of the population that are relatively popular with the mail-order company, or relatively unpopular with the company?)"
   ]
  },
  {
   "cell_type": "markdown",
   "metadata": {},
   "source": [
    "> Congratulations on making it this far in the project! Before you finish, make sure to check through the entire notebook from top to bottom to make sure that your analysis follows a logical flow and all of your findings are documented in **Discussion** cells. Once you've checked over all of your work, you should export the notebook as an HTML document to submit for evaluation. You can do this from the menu, navigating to **File -> Download as -> HTML (.html)**. You will submit both that document and this notebook for your project submission."
   ]
  },
  {
   "cell_type": "code",
   "execution_count": null,
   "metadata": {},
   "outputs": [],
   "source": []
  }
 ],
 "metadata": {
  "kernelspec": {
   "display_name": "Python 3",
   "language": "python",
   "name": "python3"
  },
  "language_info": {
   "codemirror_mode": {
    "name": "ipython",
    "version": 3
   },
   "file_extension": ".py",
   "mimetype": "text/x-python",
   "name": "python",
   "nbconvert_exporter": "python",
   "pygments_lexer": "ipython3",
   "version": "3.8.1"
  }
 },
 "nbformat": 4,
 "nbformat_minor": 2
}
